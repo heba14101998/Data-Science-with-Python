<<<<<<< HEAD
{
 "cells": [
  {
   "cell_type": "markdown",
   "metadata": {
    "_cell_guid": "b1076dfc-b9ad-4769-8c92-a6c4dae69d19",
    "_uuid": "8f2839f25d086af736a60e9eeb907d3b93b6e0e5"
   },
   "source": [
    "# Probability Distributions"
   ]
  },
  {
   "cell_type": "markdown",
   "metadata": {},
   "source": [
    "When working with data, variables in the columns of the data set can be thought of as random variables: variables that vary due to chance. \n",
    "\n",
    "A **probability distribution** describes how a random variable is distributed; it tells us which values a random variable is most likely to take on and which values are less likely on a scale from 0 (the event never occurs) to 1 (the event always occurs). "
   ]
  },
  {
   "cell_type": "code",
   "execution_count": 1,
   "metadata": {
    "execution": {
     "iopub.execute_input": "2024-04-21T19:58:39.050500Z",
     "iopub.status.busy": "2024-04-21T19:58:39.050118Z",
     "iopub.status.idle": "2024-04-21T19:58:39.056936Z",
     "shell.execute_reply": "2024-04-21T19:58:39.055855Z",
     "shell.execute_reply.started": "2024-04-21T19:58:39.050440Z"
    }
   },
   "outputs": [],
   "source": [
    "%matplotlib inline\n",
    "\n",
    "import numpy as np\n",
    "import pandas as pd\n",
    "import matplotlib.pyplot as plt\n",
    "import seaborn as sns\n",
    "import scipy.stats as stats\n",
    "import random"
   ]
  },
  {
   "cell_type": "markdown",
   "metadata": {},
   "source": [
    "## 1. The Uniform Distribution"
   ]
  },
  {
   "cell_type": "markdown",
   "metadata": {},
   "source": [
    "The uniform distribution is a probability distribution where each value within a certain range is **equally likely to occur** and values outside of the range never occur.\n",
    "\n",
    "<img src = \"https://i.ytimg.com/vi/UC-CBUSQXAo/maxresdefault.jpg\" alt=\"Uniform Distribution\" width=\"500\">"
   ]
  },
  {
   "cell_type": "code",
   "execution_count": 2,
   "metadata": {
    "execution": {
     "iopub.execute_input": "2024-04-21T19:58:39.058887Z",
     "iopub.status.busy": "2024-04-21T19:58:39.058591Z",
     "iopub.status.idle": "2024-04-21T19:58:39.070607Z",
     "shell.execute_reply": "2024-04-21T19:58:39.069712Z",
     "shell.execute_reply.started": "2024-04-21T19:58:39.058837Z"
    }
   },
   "outputs": [
    {
     "name": "stdout",
     "output_type": "stream",
     "text": [
      "Help on method rvs in module scipy.stats._distn_infrastructure:\n",
      "\n",
      "rvs(*args, **kwds) method of scipy.stats._continuous_distns.uniform_gen instance\n",
      "    Random variates of given type.\n",
      "    \n",
      "    Parameters\n",
      "    ----------\n",
      "    arg1, arg2, arg3,... : array_like\n",
      "        The shape parameter(s) for the distribution (see docstring of the\n",
      "        instance object for more information).\n",
      "    loc : array_like, optional\n",
      "        Location parameter (default=0).\n",
      "    scale : array_like, optional\n",
      "        Scale parameter (default=1).\n",
      "    size : int or tuple of ints, optional\n",
      "        Defining number of random variates (default is 1).\n",
      "    random_state : None or int or ``np.random.RandomState`` instance, optional\n",
      "        If int or RandomState, use it for drawing the random variates.\n",
      "        If None, rely on ``self.random_state``.\n",
      "        Default is None.\n",
      "    \n",
      "    Returns\n",
      "    -------\n",
      "    rvs : ndarray or scalar\n",
      "        Random variates of given `size`.\n",
      "\n"
     ]
    }
   ],
   "source": [
    "help(stats.uniform.rvs)"
   ]
  },
  {
   "cell_type": "markdown",
   "metadata": {},
   "source": [
    "`stats.distribution.rvs()` generates random numbers from the specified distribution. "
   ]
  },
  {
   "cell_type": "code",
   "execution_count": 3,
   "metadata": {
    "execution": {
     "iopub.execute_input": "2024-04-21T19:58:39.072217Z",
     "iopub.status.busy": "2024-04-21T19:58:39.071940Z",
     "iopub.status.idle": "2024-04-21T19:58:39.460853Z",
     "shell.execute_reply": "2024-04-21T19:58:39.459573Z",
     "shell.execute_reply.started": "2024-04-21T19:58:39.072165Z"
    }
   },
   "outputs": [
    {
     "name": "stderr",
     "output_type": "stream",
     "text": [
      "/opt/conda/lib/python3.6/site-packages/scipy/stats/stats.py:1713: FutureWarning: Using a non-tuple sequence for multidimensional indexing is deprecated; use `arr[tuple(seq)]` instead of `arr[seq]`. In the future this will be interpreted as an array index, `arr[np.array(seq)]`, which will result either in an error or a different result.\n",
      "  return np.add.reduce(sorted[indexer] * weights, axis=axis) / sumval\n"
     ]
    },
    {
     "data": {
      "image/png": "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\n",
      "text/plain": [
       "<Figure size 432x288 with 1 Axes>"
      ]
     },
     "metadata": {},
     "output_type": "display_data"
    }
   ],
   "source": [
    "uniform_data = stats.uniform.rvs(size=100000,  # Generate 100000 numbers\n",
    "                                 loc = 0,      # From 0 \n",
    "                                 scale=10)     # To 10\n",
    "\n",
    "sns.kdeplot(uniform_data);"
   ]
  },
  {
   "cell_type": "markdown",
   "metadata": {},
   "source": [
    "#### Cumulative Distribution Function (CDF)\n",
    "<img src=\"https://miro.medium.com/v2/resize:fit:1358/0*GVMTk0rK2VOHslEV.png\" alt=\"Cumulative Distribution Function (CDF)\" width=\"500\">\n",
    "\n",
    "- `stats.distribution.cdf()` is used to determine the probability that an observation drawn from a distribution falls below a specified value (known as the [cumulative distribution function](https://en.wikipedia.org/wiki/Cumulative_distribution_function)). \n",
    "- In essence, `cdf()` gives you the area under the distribution's density curve to the left of a certain value on the x axis. \n",
    "- For example, in the uniform distribution above, there is a 25% chance that an observation will be in the range 0 to 2.5 and a 75% chance it will fall in the range 2.5 to 10. "
   ]
  },
  {
   "cell_type": "code",
   "execution_count": 4,
   "metadata": {
    "execution": {
     "iopub.execute_input": "2024-04-21T19:58:39.463712Z",
     "iopub.status.busy": "2024-04-21T19:58:39.462971Z",
     "iopub.status.idle": "2024-04-21T19:58:39.473818Z",
     "shell.execute_reply": "2024-04-21T19:58:39.472591Z",
     "shell.execute_reply.started": "2024-04-21T19:58:39.463629Z"
    }
   },
   "outputs": [
    {
     "data": {
      "text/plain": [
       "0.25"
      ]
     },
     "execution_count": 4,
     "metadata": {},
     "output_type": "execute_result"
    }
   ],
   "source": [
    "stats.uniform.cdf(x=2.5,         # Cutoff value (quantile) to check\n",
    "                  loc=0,         # Distribution start\n",
    "                  scale=10)      # Distribution end"
   ]
  },
  {
   "cell_type": "markdown",
   "metadata": {},
   "source": [
    "- `stats.distribution.ppf()` is the inverse of `cdf()`: it returns the x axis cutoff value (quantile) associated with a given probability. \n",
    "- For instance, if we want to know the cutoff value for which we have a 40% chance of drawing an observation below that value."
   ]
  },
  {
   "cell_type": "code",
   "execution_count": 5,
   "metadata": {
    "execution": {
     "iopub.execute_input": "2024-04-21T19:58:39.477149Z",
     "iopub.status.busy": "2024-04-21T19:58:39.476391Z",
     "iopub.status.idle": "2024-04-21T19:58:39.488256Z",
     "shell.execute_reply": "2024-04-21T19:58:39.486943Z",
     "shell.execute_reply.started": "2024-04-21T19:58:39.477065Z"
    }
   },
   "outputs": [
    {
     "data": {
      "text/plain": [
       "4.0"
      ]
     },
     "execution_count": 5,
     "metadata": {},
     "output_type": "execute_result"
    }
   ],
   "source": [
    "stats.uniform.ppf(q=0.4,         # Probability cutoff\n",
    "                  loc=0,         # Distribution start\n",
    "                  scale=10)      # Distribution end"
   ]
  },
  {
   "cell_type": "markdown",
   "metadata": {},
   "source": [
    "- `stats.distribution.pdf()` gives you the probability density (height of the distribution) at a given x value. \n",
    "- Since the uniform distribution is flat, all x values within its range will have the same probability density and x values outside the range have a probability density of 0."
   ]
  },
  {
   "cell_type": "code",
   "execution_count": 6,
   "metadata": {
    "execution": {
     "iopub.execute_input": "2024-04-21T19:58:39.491327Z",
     "iopub.status.busy": "2024-04-21T19:58:39.490306Z",
     "iopub.status.idle": "2024-04-21T19:58:39.501995Z",
     "shell.execute_reply": "2024-04-21T19:58:39.501321Z",
     "shell.execute_reply.started": "2024-04-21T19:58:39.491226Z"
    }
   },
   "outputs": [
    {
     "name": "stdout",
     "output_type": "stream",
     "text": [
      "Density at x value -1\n",
      "0.0\n",
      "Density at x value 2\n",
      "0.1\n",
      "Density at x value 5\n",
      "0.1\n",
      "Density at x value 8\n",
      "0.1\n",
      "Density at x value 11\n",
      "0.0\n"
     ]
    }
   ],
   "source": [
    "for x in range(-1,12,3):\n",
    "    print(\"Density at x value \" + str(x))\n",
    "    print( stats.uniform.pdf(x, loc=0, scale=10) )   "
   ]
  },
  {
   "cell_type": "code",
   "execution_count": 7,
   "metadata": {
    "execution": {
     "iopub.execute_input": "2024-04-21T19:58:39.503436Z",
     "iopub.status.busy": "2024-04-21T19:58:39.503012Z",
     "iopub.status.idle": "2024-04-21T19:58:39.515524Z",
     "shell.execute_reply": "2024-04-21T19:58:39.514500Z",
     "shell.execute_reply.started": "2024-04-21T19:58:39.503380Z"
    }
   },
   "outputs": [
    {
     "name": "stdout",
     "output_type": "stream",
     "text": [
      "Mean: 5.013689580503001\n",
      "Variance: 8.335418353863467\n",
      "Skewness: -0.002779621212329232\n",
      "Kurtosis: -1.2035487909493283\n"
     ]
    }
   ],
   "source": [
    "from scipy.stats import skew, kurtosis\n",
    "\n",
    "mean_value = uniform_data.mean()\n",
    "variance_value = uniform_data.var()\n",
    "skewness_value = skew(uniform_data)\n",
    "kurtosis_value = kurtosis(uniform_data)\n",
    "\n",
    "print(\"Mean:\", mean_value)\n",
    "print(\"Variance:\", variance_value)\n",
    "print(\"Skewness:\", skewness_value)\n",
    "print(\"Kurtosis:\", kurtosis_value)"
   ]
  },
  {
   "cell_type": "markdown",
   "metadata": {},
   "source": [
    "Probability distribution functions in scipy also support median(), mean(), var() and std()."
   ]
  },
  {
   "cell_type": "code",
   "execution_count": 8,
   "metadata": {
    "execution": {
     "iopub.execute_input": "2024-04-21T19:58:39.517433Z",
     "iopub.status.busy": "2024-04-21T19:58:39.517069Z",
     "iopub.status.idle": "2024-04-21T19:58:39.524889Z",
     "shell.execute_reply": "2024-04-21T19:58:39.524043Z",
     "shell.execute_reply.started": "2024-04-21T19:58:39.517357Z"
    }
   },
   "outputs": [
    {
     "name": "stdout",
     "output_type": "stream",
     "text": [
      "Mean: 0.5\n",
      "Variance: 0.08333333333333333\n",
      "Skewness: 0.0\n",
      "Kurtosis: -1.2\n"
     ]
    }
   ],
   "source": [
    "mean, variance, skewness, kurtosis = stats.uniform.stats(moments='mvsk')\n",
    "\n",
    "print(\"Mean:\", mean)\n",
    "print(\"Variance:\", variance)\n",
    "print(\"Skewness:\", skewness)\n",
    "print(\"Kurtosis:\", kurtosis)"
   ]
  },
  {
   "cell_type": "markdown",
   "metadata": {},
   "source": [
    "#### Generating Random Numbers and Setting The Seed"
   ]
  },
  {
   "cell_type": "markdown",
   "metadata": {},
   "source": [
    "Python also comes with a library called \"random\" that lets you perform various operations that involve randomization. "
   ]
  },
  {
   "cell_type": "code",
   "execution_count": 9,
   "metadata": {
    "execution": {
     "iopub.execute_input": "2024-04-21T19:58:39.526567Z",
     "iopub.status.busy": "2024-04-21T19:58:39.526227Z",
     "iopub.status.idle": "2024-04-21T19:58:39.538164Z",
     "shell.execute_reply": "2024-04-21T19:58:39.536997Z",
     "shell.execute_reply.started": "2024-04-21T19:58:39.526513Z"
    }
   },
   "outputs": [
    {
     "name": "stdout",
     "output_type": "stream",
     "text": [
      "Integer random number:  0\n",
      "Real random number:  0.9476048108533511\n",
      "return random number from list:  9\n",
      "return random number from range:  1.5546310470836155\n"
     ]
    }
   ],
   "source": [
    "# Get a random integer in the specified range\n",
    "print('Integer random number: ',random.randint(0,10)  )\n",
    "\n",
    "# Get a real number between 0 and 1\n",
    "print('Real random number: ',random.random()) \n",
    "\n",
    "# Get a random element from a sequence\n",
    "print('return random number from list: ',random.choice([2,4,6,9])) \n",
    "\n",
    "# Get a real in the specified range\n",
    "print('return random number from range: ', random.uniform(0,10))"
   ]
  },
  {
   "cell_type": "markdown",
   "metadata": {},
   "source": [
    "**Generated the exact same numbers using `random.seed()`**"
   ]
  },
  {
   "cell_type": "code",
   "execution_count": 10,
   "metadata": {
    "execution": {
     "iopub.execute_input": "2024-04-21T19:58:39.539723Z",
     "iopub.status.busy": "2024-04-21T19:58:39.539252Z",
     "iopub.status.idle": "2024-04-21T19:58:39.551634Z",
     "shell.execute_reply": "2024-04-21T19:58:39.550651Z",
     "shell.execute_reply.started": "2024-04-21T19:58:39.539662Z"
    }
   },
   "outputs": [
    {
     "name": "stdout",
     "output_type": "stream",
     "text": [
      "[4.7457067868854805, 6.574725026572553, 6.664104711248381, 1.4260035292536777]\n",
      "[4.7457067868854805, 6.574725026572553, 6.664104711248381, 1.4260035292536777]\n"
     ]
    }
   ],
   "source": [
    "random.seed(12)  # Set the seed to an arbitrary value\n",
    "print([random.uniform(0,10) for x in range(4)])\n",
    "\n",
    "random.seed(12)  # Set the seed to the same value\n",
    "print([random.uniform(0,10) for x in range(4)])"
   ]
  },
  {
   "cell_type": "markdown",
   "metadata": {},
   "source": [
    "---\n",
    "## 2. The Normal Distribution"
   ]
  },
  {
   "cell_type": "markdown",
   "metadata": {},
   "source": [
    "Many real world phenomena, like IQ test scores and human heights, so it is often used to model random variables. Many common statistical tests assume distributions are normal.\n",
    "- A normal distribution is defined by its center (mean) and spread (standard deviation). \n",
    "- The distribution: as a rule of thumb, about 68% of the data lies within 1 standard deviation of the mean, 95% lies within 2 standard deviations and 99.7% lies within 3 standard deviations.\n",
    "\n",
    "<img src=\"https://media.licdn.com/dms/image/D5612AQG8zrJjcL54ZQ/article-cover_image-shrink_720_1280/0/1677870809878?e=2147483647&v=beta&t=b7PE_5vElyBGzVwADb7Z14OoDni_vutH3IlMdmVH6JM\" alt=\"Normal distribution\" width=\"500\">"
   ]
  },
  {
   "cell_type": "code",
   "execution_count": 11,
   "metadata": {
    "execution": {
     "iopub.execute_input": "2024-04-21T19:58:39.554006Z",
     "iopub.status.busy": "2024-04-21T19:58:39.553696Z",
     "iopub.status.idle": "2024-04-21T19:58:39.563406Z",
     "shell.execute_reply": "2024-04-21T19:58:39.562609Z",
     "shell.execute_reply.started": "2024-04-21T19:58:39.553952Z"
    }
   },
   "outputs": [
    {
     "name": "stdout",
     "output_type": "stream",
     "text": [
      "0.15865525393145707 0.15865525393145707 0.6826894921370859\n"
     ]
    }
   ],
   "source": [
    "prob_under_minus1 = stats.norm.cdf(x= -1,   # Cutoff value (quantile) to check\n",
    "                                loc = 0,    # Mean = 0           \n",
    "                                scale= 1)   # std = 1 \n",
    "\n",
    "prob_over_1 = 1 - stats.norm.cdf(x= 1,  \n",
    "                                loc = 0,               \n",
    "                                scale= 1) \n",
    "\n",
    "between_prob = 1-(prob_under_minus1+prob_over_1)\n",
    "\n",
    "print(prob_under_minus1, prob_over_1, between_prob)"
   ]
  },
  {
   "cell_type": "markdown",
   "metadata": {},
   "source": [
    "The output shows that roughly 16% of the data generated by a normal distribution with mean 0 and standard deviation 1 is below -1, 16% is above 1 and 68% lies between -1 and 1, which agrees with the 68, 95, 99.7 rule. Let's plot the normal distribution and inspect areas we calculated:"
   ]
  },
  {
   "cell_type": "code",
   "execution_count": 12,
   "metadata": {
    "execution": {
     "iopub.execute_input": "2024-04-21T19:58:39.564644Z",
     "iopub.status.busy": "2024-04-21T19:58:39.564376Z",
     "iopub.status.idle": "2024-04-21T19:58:40.031489Z",
     "shell.execute_reply": "2024-04-21T19:58:40.030597Z",
     "shell.execute_reply.started": "2024-04-21T19:58:39.564594Z"
    }
   },
   "outputs": [
    {
     "data": {
      "image/png": "iVBORw0KGgoAAAANSUhEUgAAAbUAAAGfCAYAAADYnUyNAAAABHNCSVQICAgIfAhkiAAAAAlwSFlzAAALEgAACxIB0t1+/AAAADl0RVh0U29mdHdhcmUAbWF0cGxvdGxpYiB2ZXJzaW9uIDMuMC4zLCBodHRwOi8vbWF0cGxvdGxpYi5vcmcvnQurowAAIABJREFUeJzt3XmYHPV95/H3VyME2MJYxyBjjYQkLMUWBnOMwcfaaxwOkWQlJ8GP5VyQ2Ktlg2JnHWcNCw94cfIYm43j5LESm8Q4sddEC2azVmwcGRvwiUAjdMDoHB1IM9JopDml0Vw9/d0/qoVaw0jdM1PddX1ez9OPuqurer59qD5Vv/rVr8zdERERSYNJURcgIiISFoWaiIikhkJNRERSQ6EmIiKpoVATEZHUUKiJiEhqKNRERCQ1FGoiIpIaCjUREUmNyVEXMNLMmTN93rx5UZchIiIxsmHDhqPuXltqvtiF2rx582hoaIi6DBERiREze6Wc+dT8KCIiqaFQExGR1FCoiYhIaijUREQkNRRqIiKSGgo1ERFJDYWaiIikhkJNRERSQ6EmIiKpoVATEZHUUKiJiEhqlBVqZrbEzHaYWZOZ3XWW+X7bzNzM6oum3V1YboeZ3RxG0SIiIqMpOaCxmdUAq4AbgWZgvZmtcfetI+a7APgk8HzRtMXAcuAy4M3Aj8xskbsPh/cWREREAuXsqV0LNLn7HncfBFYDy0aZ73PAF4D+omnLgNXuPuDue4GmwuuJiIiErpxQmw0cKHrcXJj2KjO7Gpjj7t8f67IiIiJhmfD11MxsEvAl4PYJvMYKYAXA3LlzJ1qSSKK5Q3s7dHcHj9/4Rpg+HcyirUskCcoJtRZgTtHjusK0ky4A3g48a8H/ujcBa8xsaRnLAuDuDwMPA9TX1/sY6hdJlX37YMsW6O09ffoFF8A73gFz5oy6mIgUlNP8uB5YaGbzzWwKQcePNSefdPdud5/p7vPcfR6wDljq7g2F+Zab2blmNh9YCLwQ+rsQSbhcDn7+c3juudcGGsCxY8Hz69ZBPl/9+kSSouSemrvnzGwlsBaoAR5x90YzewBocPc1Z1m20cweA7YCOeBO9XwUOV0uB88+C0eOlJ53717o64P3vx9qaipemkjimHu8Wvvq6+u9oaEh6jJEqsI9CLTW1rEtN2cOvPe9Os4m2WFmG9y9vtR8GlFEJEKbNo090AAOHIDGxvDrEUk6hZpIRA4ehO3bx7/8Sy9BW1t49YikgUJNJAKDg/D886XnK+X554NjciISUKiJRGDzZujvLz1fKcePw8svT/x1RNJCoSZSZR0d0NQU3utt3w49PeG9nkiSKdREqmzjxnBfzz3ocCIiCjWRqjp0qDKdO1payjvPTSTtFGoiVbRlS+Ve+6WXKvfaIkmhUBOpkoMHg+NplXL4sPbWRBRqIlWydWvpeSZKJ2RL1inURKrg6NHq7EUdOnTqkjUiWaRQE6mCiYwcEue/JRI3CjWRCuvthebm6v29fftgYKB6f08kThRqIhXW1BScS1Yt+Tzs3l29vycSJwo1kQqKKmCqHaQicaFQE6mg5uZomgJ7e8d3SRuRpFOoiVRQlM2AaoKULFKoiVRI1HtLLS3qMCLZo1ATqZC9e6P9+/k8vPJKtDWIVJtCTaRC9u2LuoLog1Wk2hRqIhXQ3g7HjkVdRTDWpK61JlmiUBOpgDjspZ0Up1pEKk2hJhIyd9i/P+oqTtFxNckShZpIyA4fhv7+qKs45fjxyl7yRiROFGoiIYvTXtpJ2luTrFCoiYTIvbqDF5frwIGoKxCpDoWaSIja2uJ5wnNvr5ogJRsUaiIhivMeUZxrEwmLQk0kJO7xDo441yYSFoWaSEja2+PV63GkY8eguzvqKkQqS6EmEpI4dhAZqaUl6gpEKkuhJhKSJARGEoJXZCIUaiIhOHYsGWMsxr2JVGSiFGoiIUjCXtpJSapVZKzKCjUzW2JmO8ysyczuGuX5O8zsJTPbZGY/N7PFhenzzKyvMH2TmX017DcgEgcHD0ZdQfmSVKvIWE0uNYOZ1QCrgBuBZmC9ma1x961Fsz3q7l8tzL8U+BKwpPDcbne/MtyyReJjcDA46TopWluDC4hOUjuNpFA5P+trgSZ33+Pug8BqYFnxDO5efDTh9YCHV6JIvLW2BueoJUUul6wQFhmLckJtNlB82mZzYdppzOxOM9sNfBH4RNFT881so5n9xMzeN6FqRWLo0KGoKxg7NUFKWoXWAOHuq9z9UuAzwL2FyYeAue5+FfAp4FEze8PIZc1shZk1mFnDkSNHwipJpOLckxkQSaxZpBzlhFoLMKfocV1h2pmsBj4E4O4D7t5euL8B2A0sGrmAuz/s7vXuXl9bW1tu7SKR6+pKZhf5Y8eC66yJpE05obYeWGhm881sCrAcWFM8g5ktLHr468CuwvTaQkcTzGwBsBDYE0bhInGQxKbHk5Jcu8iZlOz96O45M1sJrAVqgEfcvdHMHgAa3H0NsNLMbgCGgE7gtsLi7wceMLMhIA/c4e66AIakRpKD4dAhWLiw9HwiSVIy1ADc/UngyRHT7iu6/8kzLPcE8MREChSJq6EhSPIh4MOH1bVf0kc/Z5FxamtLVlf+kXI5OHo06ipEwqVQExmn1taoK5i4NLwHkWIKNZFxSkMgpOE9iBRTqImMw4kTyRiVv5SOjmCYL5G0UKiJjENa9nDcgw4jImmhUBMZhzQFQZrei4hCTWQc0rKnBul6LyIKNZEx6u5O5tBYZ3LsGPT1RV2FSDgUaiJjlMbmujS+J8kmhZrIGKUxANL4niSbFGoiY+Cezgts6riapIVCTWQMurrSeV7XiRO6FI2kg0JNZAzSuJd2Uprfm2SHQk1kDNJ87CnN702yQ6EmUib3ZF9qphTtqUkaKNREypTW42kn6biapIFCTaRMWdiTycJ7lHRTqImUKQsr/Cy8R0k3hZpIGdJ6ftpIWXiPkm4KNZEy9PSk+3jaSb29wbE1kaRSqImUIUt7MFl6r5I+CjWRMmRpRZ/m0xYk/RRqImXI0oo+SwEu6aNQEynh+PFsXW+spwcGBqKuQmR8FGoiJWRxzyVLe6aSLgo1kRKOHo26gupTqElSKdRESsjinloW37Okg0JN5Cz6++HYsairqL7OTsjloq5CZOwUaiJnkcWmRwhGUGlvj7oKkbFTqImcRZaPLWX5vUtyKdREziLLK/Ysv3dJLoWayBkMD0NHR9RVRKe9PWiGFEkShZrIGWR9pT40BN3dUVchMjYKNZEzyGonkWJqgpSkUaiJnIFW6PoMJHnKCjUzW2JmO8ysyczuGuX5O8zsJTPbZGY/N7PFRc/dXVhuh5ndHGbxIpXirj010GcgyVMy1MysBlgF3AIsBj5aHFoFj7r75e5+JfBF4EuFZRcDy4HLgCXA3xVeTyTWjh3LxkVBS+ntzdZgzpJ85eypXQs0ufsedx8EVgPLimdw956ih68HTh5eXwasdvcBd98LNBVeTyTW1Ox2ij4LSZJyQm02cKDocXNh2mnM7E4z202wp/aJMS67wswazKzhiP4HSQyo2e0UfRaSJKF1FHH3Ve5+KfAZ4N4xLvuwu9e7e31tbW1YJYmMm1bkp+izkCQpJ9RagDlFj+sK085kNfChcS4rErmBgeBCmRLo7AxORBdJgnJCbT2w0Mzmm9kUgo4fa4pnMLOFRQ9/HdhVuL8GWG5m55rZfGAh8MLEyxapHA3ke7p8Ptsjq0iyTC41g7vnzGwlsBaoAR5x90YzewBocPc1wEozuwEYAjqB2wrLNprZY8BWIAfc6e7a5pNYU3Pba7W3g44MSBKYx2wcoPr6em9oaIi6DMmwp5+Gw4ejriJe6urgfe+LugrJMjPb4O71pebTiCIiRXQdsdFp71WSQqEmUqS7W1d8Hk1/f3AitkjcKdREimiP5Mz02UgSKNREimjFfWb6bCQJFGoiRbTiPjMda5QkUKiJFAwMBAMZy+h0ErYkgUJNpEAnGJ9dPh8Em0icKdRECtT0WJo+I4k7hZpIgVbYpem4msSdQk0EnXRdLgW/xJ1CTYSgg8jQUNRVxN+JE7oStsSbQk0E7YGMhT4riTOFmghqehwLfVYSZwo1EbT3MRYKNYkzhZpkXi4XDGQs5WlvDzrWiMSRQk0yr6NDK+mxGB6Grq6oqxAZnUJNMk9Nj2OnJkiJK4WaZJ5W0GOnz0ziSqEmmacV9Nhp71biSqEmmaaTicenpwcGB6OuQuS1FGqSadpLGz9d1UDiSKEmmaZmtPHTBoHEkUJNMk0r5vHTZydxpFCTzHJXE9pEKNQkjhRqklnd3cGJxDI+/f3Q2xt1FSKnU6hJZmlPY+L0GUrcKNQks7RCnjh9hhI3CjXJLPV8nDiFmsSNQk0yaWhII/OHoaMD8vmoqxA5RaEmmdTZGXUF6TA8rI0DiReFmmSSmh7DoyZIiROFmmSSzk8Lj0JN4kShJpmkFXF49FlKnCjUJHP6+oLR+SUc3d1BxxuROCgr1MxsiZntMLMmM7trlOc/ZWZbzWyLmf3YzC4pem7YzDYVbmvCLF5kPLRnET4150pclAw1M6sBVgG3AIuBj5rZ4hGzbQTq3f0K4DvAF4ue63P3Kwu3pSHVLTJuCrXw6TOVuChnT+1aoMnd97j7ILAaWFY8g7s/4+4nG3TWAXXhlikSHq2Aw6fPVOKinFCbDRwoetxcmHYmHwN+UPT4PDNrMLN1ZvahcdQoEhqNzF8ZCjWJi8lhvpiZ/R5QD/zHosmXuHuLmS0Anjazl9x994jlVgArAObOnRtmSSKnOXZMnRoqoa8vuJ1/ftSVSNaVs6fWAswpelxXmHYaM7sBuAdY6u4DJ6e7e0vh3z3As8BVI5d194fdvd7d62tra8f0BkTGQiddV4721iQOygm19cBCM5tvZlOA5cBpvRjN7CrgawSB1lY0fZqZnVu4PxN4L7A1rOJFxkpNj5WjUJM4KNn86O45M1sJrAVqgEfcvdHMHgAa3H0N8BAwFXjczAD2F3o6vg34mpnlCQL0QXdXqElktOKtHH22EgdlHVNz9yeBJ0dMu6/o/g1nWO6XwOUTKVAkLMPDGsi4kvTZShxoRBHJjM7OoPejVEYuF3UFIgo1yRAdT6sCbTVIxBRqkhnak6iCnp6oK5CMU6hJdmgvovJ0zoRETKEm2TAwAIODUVeRfl1dQY8ckYgo1CQbdECtOtzVDVIipVCTbNBJVNWjz1oipFCTbNCKtnr0WUuEFGqSDVrRVo+aeiVCCjVJv97eoKOIVMexY+qUI5FRqEn6aS+t+vSZS0QUapJ+WsFWnz5ziYhCTdJPK9jq02cuEVGoSbrl8+q4EAWFmkREoSbp1t2tES6iMDAAx49HXYVkkEJN0k17DNHRHrJEQKEm6aZQi44GN5YIKNQk3RRq0dFnLxFQqEl6DQ0Fx9QkGp2dQUcdkSpSqEl66ZhOtIaHtVEhVadQk/RS81f0dFxNqkyhJumlUIuevgOpMoWapJdWqNHTdyBVplCTdDpxAvr6oq5CenqCDjsiVaJQk3TSHkJ86LuQKlKoSTppRRof+i6kihRqkk5akcaHvgupIoWapI+7VqRxou9CqkihJumjkfnjpb8fenujrkIyQqEm6aMTfuNHe2tSJQo1SR+tQONHGxpSJQo1SR+FWvzoO5EqUahJumhk/njq6NCI/VIVCjVJF43MH0/5PHR1RV2FZIBCTdJFx27iS02QUgVlhZqZLTGzHWbWZGZ3jfL8p8xsq5ltMbMfm9klRc/dZma7Crfbwixe5DW04owvbXBIFZQMNTOrAVYBtwCLgY+a2eIRs20E6t39CuA7wBcLy04H7geuA64F7jezaeGVLzKCVpzxpQ0OqYJy9tSuBZrcfY+7DwKrgWXFM7j7M+5+ovBwHVBXuH8z8JS7d7h7J/AUsCSc0kVGOH4cBgairkLO5NgxfT9SceWE2mzgQNHj5sK0M/kY8IOxLGtmK8yswcwajhw5UkZJIqPQnkD86TuSCgu1o4iZ/R5QDzw0luXc/WF3r3f3+tra2jBLkixR02P86TuSCisn1FqAOUWP6wrTTmNmNwD3AEvdfWAsy4qEQnsB8afvSCqsnFBbDyw0s/lmNgVYDqwpnsHMrgK+RhBobUVPrQVuMrNphQ4iNxWmiYRreBg6O6OuQkppbw+uoiBSIZNLzeDuOTNbSRBGNcAj7t5oZg8ADe6+hqC5cSrwuJkB7Hf3pe7eYWafIwhGgAfcXWfHSvg6OzViRRIMDUFPD1x4YdSVSEqVDDUAd38SeHLEtPuK7t9wlmUfAR4Zb4EiZdGxmuQ4elShJhWjEUUkHXSsJjn0XUkFKdQkHbSnlhz6rqSCFGqSfH19cOJE6fkkHrq7g2NrIhWgUJPk05Z/8qgJUipEoSbJp1BLHn1nUiEKNUk+rSCTR9+ZVIhCTZItn9eFQZNIJ2FLhSjUJNk6OnTSdRINDgaj9ouETKEmyaZmrOTSdycVoFCTZNOKMbn03UkFKNQk2bRiTC59d1IBCjVJrhMnghOvJZm6u4NjayIhUqhJcukq6cmnk7AlZAo1SS41XyWfNkwkZAo1SS6FWvLpO5SQKdQkmXI5Xek6DXQStoRMoSbJpJVhOuRy0NUVdRWSIgo1SSY1W6WHjqtJiBRqkkxaEaaHNlAkRAo1SR53dQVPE22gSIgUapI8PT06aTdNTpzQlcslNAo1SR5t2aePvlMJiUJNkkcrwPTRdyohUahJ8qhjQfroO5WQKNQkWfr64PjxqKuQsHV1wdBQ1FVICijUJFnUTJVO6tEqIVGoSbIo1NKrrS3qCiQFFGqSLAq19NJ3KyFQqElyDA1pnMA0a2+HfD7qKiThFGqSHEePahDjNBseho6OqKuQhFOoSXKoeSr99B3LBCnUJDnUkSD9FGoyQQo1SYbhYXX5zoIjR9TELBOiUJNk6OhQJ4IsGByE7u6oq5AEKyvUzGyJme0wsyYzu2uU599vZi+aWc7Mbh3x3LCZbSrc1oRVuGSMmh6zQ9+1TMDkUjOYWQ2wCrgRaAbWm9kad99aNNt+4Hbg06O8RJ+7XxlCrZJlOtaSHUeOwKJFUVchCVUy1IBrgSZ33wNgZquBZcCroebu+wrPqX1IwueuUMsS7anJBJTT/DgbOFD0uLkwrVznmVmDma0zsw+NNoOZrSjM03BEKy8ZqbMTcrmoq5Bq6e8PLgQrMg7V6ChyibvXA78DfNnMLh05g7s/7O717l5fW1tbhZIkUbTlnj3auJVxKifUWoA5RY/rCtPK4u4thX/3AM8CV42hPhGFWhbpO5dxKifU1gMLzWy+mU0BlgNl9WI0s2lmdm7h/kzgvRQdixMpyV0ruCzSdy7jVDLU3D0HrATWAtuAx9y90cweMLOlAGb2TjNrBj4MfM3MGguLvw1oMLPNwDPAgyN6TYqcnS4emU0nTuhisDIu5fR+xN2fBJ4cMe2+ovvrCZolRy73S+DyCdYoWaYt9uxqa4OpU6OuQhJGI4pIvCnUsuvw4agrkARSqEl86Xhatum7l3FQqEl8dXUFYwFKNum4moyDQk3iS81Pot+AjJFCTeJLKzRRE6SMkUJN4knjPQpow0bGTKEm8dTRofPTBPr64NixqKuQBFGoSTxpC11Oam2NugJJEIWaxJNCTU7Sb0HGQKEm8ZPP63ianNLWFhxjFSmDQk3i5+hRGB6OugqJi4GB4JxFkTIo1CR+dAxFRlITpJRJoSbxoxWYjKQNHSmTQk3iZWgI2tujrkLipq0tONYqUoJCTeJFnQJkNMPDwbFWkRIUahIvamaSM9FvQ8qgUJN40YpLzkS/DSmDQk3i48QJ6OmJugqJq44OXYpISlKoSXxoS1zOxl09Y6UkhZrEx6FDUVcgcacNHylBoSbx4K4VlpSmDR8pQaEm8dDZqeMlUlpvry5FI2elUJN40Ba4lEu/FTkLhZrEg1ZUUi79VuQsFGoSvcFBjRYh5Tt8WFdxkDNSqEn0Wls1NJaUb3hY19uTM1KoSfTUnCRjdfBg1BVITCnUJHpaQclYaUNIzkChJtHq7IT+/qirkKTp6YHjx6OuQmJIoSbR0l6ajJd+OzKKyVEXIBmnFRObN/873/zmJ8nnh7n++o+zdOldr5ln3brHeOKJzwLGJZe8g5UrHwXg0Uf/Oxs3fh/3PJdffiN/8Ad/g5nx4INL6Oo6xPBwjre+9X384R+uYtKkmuq+sUo7eBAWLYq6CokZhZpEZ2Ag81358/lhvvGNO7n77qeYMaOOe+99J1dfvZS6usWvznPo0C6++93Pc//9v2Dq1Gl0d7cBsHPnL9m58xd84QtbAPjsZ/8D27b9hMWLP8AnPvEYr3vdG3B3vvzlW1m37nHe857lkbzHijl8GHI5mKzVmJyi5keJjg7209T0ArNmvYVZsxYwefIU3v3u5WzY8N3T5nnmmX/gppvuZOrUaQBceOFFhWeMwcF+crlBhoYGGB4e4sILZwHwute9AYDh4Ry53CBmVrX3VDX5vEbtl9fQJo5Ep6Ul6goi19nZwowZc159PH16HU1Nz582z6FDOwH47GffSz4/zG//9md5xzuWsGjRu7nssuv54z++GHfnpptWMnv2215d7vOfv5ndu1/gyitv4brrbq3OG6q2gwdh9uyoq5AYKWtPzcyWmNkOM2sys9c0+JvZ+83sRTPLmdmtI567zcx2FW63hVW4JFw+rz21MuXzOVpbd3Hvvc+ycuW/8A//8J/p7e2itbWJlpZtfOUrzaxa1UJj49Ns3/6zV5e7++61/N3fHWJoaIDGxqcjfAcVpA0jGaFkqJlZDbAKuAVYDHzUzBaPmG0/cDvw6IhlpwP3A9cB1wL3m9m0iZctiXfkCAwNRV1F5KZNm017+4FXH3d0NDN9+ul7HtOn13H11UuZPPkcLrpoPhdfvIjW1l2sX/+vvOUt7+K886Zy3nlTufLKW9i167nTlp0y5TyuuWYZDQ2nN2mmRl9fcEVskYJy9tSuBZrcfY+7DwKrgWXFM7j7PnffAuRHLHsz8JS7d7h7J/AUsCSEuiXptIUNwKWXvpPW1l20te0llxvkuedWc801S0+bp77+Q2zb9iwAPT1HOXRoJxddtICZM+eybdtPCsfNhti27Se8+c1vo7//OJ2dwV7w8HCOTZu+z5vf/NZqv7Xq0W9JipRzTG02cKDocTPBnlc5RltWDeACzc1RVxALNTWTuf32r/DggzeTzw/zgQ/8EXV1l/H44/exYEE911yzlCuuuJktW37In//5YiZNquF3fuchLrhgBtdddyuNjU/zmc9cjplxxRVLuOaa/0R392H+6q+WMjQ0gHuexYuv54Yb7oj6rVZOczNcfnnUVUhMxKKjiJmtAFYAzJ07N+JqpOK6uoKLPQoAV131a1x11a+dNu3DH37g1ftmxu///peAL502z6RJNXz84197zetdeOEs/uIv1lek1lg6+Xt6/eujrkRioJzmxxZgTtHjusK0cpS1rLs/7O717l5fW1tb5ktLYmkvTcKmJkgpKCfU1gMLzWy+mU0BlgNrynz9tcBNZjat0EHkpsI0yTKFmoTtwIHS80gmlAw1d88BKwnCaBvwmLs3mtkDZrYUwMzeaWbNwIeBr5lZY2HZDuBzBMG4HnigME2yqrc3GMRYJExHjgQj1EjmlXVMzd2fBJ4cMe2+ovvrCZoWR1v2EeCRCdQoaaK9NKkE96AJcsGCqCuRiGmYLKkuNRNJpWiDSVCoSTX19wfNRCKVcOiQTugXhZpUkbakpZLyeV3KSBRqUkX790ddgaSdmrczT6Em1dHfD21tUVchaXfwYHCNNckshZpUR3Nz0ENNpJKGh3UidsYp1KQ61PQo1aLfWqYp1KTy1PQo1XTwoHpBZphCTSpv/341PUr15PNqgswwhZpU3iuvRF2BZM2+fVFXIBFRqEll9fbC0aNRVyFZ09qqsSAzSqEmlaW9NImCuzqMZJRCTSpLzUASFf32MkmhJpXT2Qnd3VFXIVl19CgcPx51FVJlCjWpnL17o65Ask57a5mjUJPKcNfxNImeNqwyR6EmlXHoUHDStUiUjh/X5Y4yRqEmlbFnT9QViAT0W8wUhZqEb2BAIzpIfOzfr5H7M0ShJuHbty8YqkgkDnI5nbOWIQo1Cd/u3VFXIHI6NUFmhkJNwnX0qM5Nk/g5ckS/y4xQqEm4tJcmcaXfZiYo1CQ8g4M6N03ia+/e4MrYkmoKNQnPvn1aaUh8DQ6qw0gGKNQkPLt2RV2ByNnpN5p6CjUJx+HD0NMTdRUiZ9feDh0dUVchFaRQk3Ds3Bl1BSLl0W811RRqMnG9vRpBRJLjlVc0LmmKKdRk4nbuDEblF0mCfB6amqKuQipEoSYTMzSk838keXbt0lBuKaVQk4nZsycINpEk6e/XBURTSqEm45fPw/btUVchMj7bt6vZPIUUajJ++/fDiRNRVyEyPt3dcPBg1FVIyBRqMj7usG1b1FWITMzWrVFXICErK9TMbImZ7TCzJjO7a5TnzzWz/1N4/nkzm1eYPs/M+sxsU+H21XDLl8gcPAhdXVFXITIxR49CW1vUVUiIJpeawcxqgFXAjUAzsN7M1rh78SbOx4BOd3+LmS0HvgB8pPDcbne/MuS6JWovvxx1BSLhaGyEiy6KugoJSTl7atcCTe6+x90HgdXAshHzLAP+uXD/O8CvmpmFV6bEyqFDGmpI0qO1Ndhjk1QoJ9RmAweKHjcXpo06j7vngG5gRuG5+Wa20cx+YmbvG+0PmNkKM2sws4YjR46M6Q1IBF56KeoKRMKl33RqVLqjyCFgrrtfBXwKeNTM3jByJnd/2N3r3b2+tra2wiXJhBw8GAwKK5Imra3B1bEl8coJtRZgTtHjusK0Uecxs8nAhUC7uw+4ezuAu28AdgOLJlq0RMQdtmyJugqRyti8OeoKJATlhNp6YKGZzTezKcByYM2IedYAtxXu3wo87e5uZrWFjiaY2QJgIbAnnNKl6vbvh87OqKsQqYwjR4LjxZJoJXs/unvOzFYCa4Ea4BF3bzSzB4AGd18DfB34lpk1AR0EwQfwfuABMxsC8sAd7q4eBkmUz2svTdJv0yZ405tA/dwSq2SoAbj7k8A2WAMcAAAMoklEQVSTI6bdV3S/H/jwKMs9ATwxwRolDnbtguPHo65CpLK6umDvXliwIOpKZJw0ooiUNjio89IkO7ZsgVwu6ipknBRqUtpLLwXBJpIFfX0aPivBFGpydt3dQdOjSJZs26bm9oRSqMnZNTTo8hySPfk8vPhi1FXIOJTVUUQyau/e0AZ7/ffNm/nkN7/JcD7Px6+/nruWLj3t+Z9u28affutbbNm/n9V/8ifcet11rz5X87u/y+Vz5wIwd8YM1nz60wA83djIp7/9bQZzOa6ZP5+vr1jB5JqaUOqVeIj0d9PSAs3NUFdXuTcooVOoyegGBmDjxlBeajif585vfIOn7r6buhkzeOe997L06qtZXLSymDtzJv90xx38r+997zXLnz9lCps+//nTpuXzeW77+7/nx/fcw6KLL+a+xx/nn3/6Uz52/fWh1CzRi8XvpqEBZs2Cc84J9b1J5aj5UUa3YUMQbCF4oamJt8yaxYJZs5gyeTLL3/1uvrthw2nzzKut5Yq5c5k0qbyfZPvx40yZPJlFF18MwI2XX84TL7wQSr0SD7H43fT1BeeuSWIo1OS1mpvhlVdCe7mWzk7mzJjx6uO66dNpGcMo//1DQ9Tfcw/vuu8+/t/69QDMvOACcvk8DXuCAWq+8/zzHNCVA1IlNr+bpiY4fHjsb0AioeZHOd3AABRWAHHxyt/+LbOnT2fP4cN88C//ksvnzuXSWbNYvXIl/+1b32JgaIibrriCmjK31iUbQv3dPP883HKLmiETQKEmp3vhBejvD/UlZ0+bxoGikf2bOzqYPX16+csX5l0waxYfWLyYjfv2cemsWbx70SJ+dv/9APxwyxZ2aty+VInV76a3N2iSf9e7xvYmpOq0aSunNDUFTY8he+ell7KrtZW9bW0M5nKsfu45ll5zTVnLdh4/zsDQEABHe3r4xY4dLJ4dXM6vrbsbgIGhIb7wb//GHTfcEHrtEp3Y/W727g21WV4qQ3tqEujqqth5OZNravjK7bdz84MPMpzP80cf+ACX1dVx3+OPU79gAUuvuYb1u3fzm3/913T29vJvL77I/d/5Do0PPcS2gwf5L1//OpPMyLtz19Klr/Z+e+h73+N7GzeSd+e/3nADH7zssorUL9GI5e9m/XqYPh0uuKBC71omyjxmJ9bW19d7Q0ND1GVky9AQrF0Lx45FXUlFbX3rb7F5+7lRl5FakybBRy5tSP8ING98I9x0E+icyKoysw3uXl9qPjU/Zp07rFuX+kATCU1XV3DsWWJJoZZ1L79ckeNoIqm2bx9s3x51FTIKhVqW7dunS8qIjNfGjdogjCGFWlYdPhyceyMi4/fLX8LRo1FXIUUUalnU0QE/+1kwErmIjN/wMPzkJ8ElmiQWFGpZ090Nzz4b9HgUkYkbHIRnnlFnq5hQqGVJVxf8+MehDVQsIgV9ffD00wq2GFCoZUVHhwJNpJJOnIAf/UhNkRFTqGVBa2sQaIODUVcikm79/UGwHTkSdSWZpVBLu927g2NouVzUlYhkw+Bg0BSpcSIjobEf0yqfD86j2bkz6kpEsiefD7r7d3XBFVeAWdQVZYZCLY1OnIBf/ELnz4hEbetWaG+H97wHzjsv6moyQc2PabN/P/zgBwo0kbg4fDj4P3nwYNSVZIL21NKivz+4iOH+/VFXIiIj9fcHJ2kvWABXXQVTpkRdUWop1JLOPegMsnmzejeKxN2ePdDSEgTbvHk61lYBCrUkO3QINm0KDkaLSDIMDASXe9q5Mwi3iy6KuqJUUagl0eHDwej6bW1RVyIi43VyQIQ3vQne/naorY26olRQqCVFPg8HDgTXcOroiLoaEQlLa2twq62FX/kVqKtTs+QEKNTirqcH9u4N2uL7+6OuRkQq5ciR4Hb++UGHkgULYOrUqKtKHIVaHPX0BBcf3L8fOjujrkZEqqmvDxobg9uMGTB3brD3poAri0ItDgYHgy201tag84dG+hYRCE7cbm8PRgd6wxvg4ouDY3C1tXDOOVFXF0tlhZqZLQH+BqgB/tHdHxzx/LnAN4FrgHbgI+6+r/Dc3cDHgGHgE+6+NrTqk2h4OBjFu7MzODZ29Kh6L4pIaT09wW3HjuCY2xvfCDNnwvTpMG0aXHghTNJ4GiVDzcxqgFXAjUAzsN7M1rj71qLZPgZ0uvtbzGw58AXgI2a2GFgOXAa8GfiRmS1y9+Gw30is5PPBUFW9vXD8eHA7+YM8diw4t0xEZLzcgw3j4sMTZsHe3Mnb1KnB7fWvD47TZSTwytlTuxZocvc9AGa2GlgGFIfaMuCzhfvfAb5iZlaYvtrdB4C9ZtZUeL3nwim/wtyD0e1P3oaGgtvg4KnbwEBw6+8P2sL7+tShQ0Sqzz1oBRrtem5mwdiT558f/HvyNmXK6bdzzjl1q6mByZMT1xOznFCbDRwoetwMXHemedw9Z2bdwIzC9HUjlp097mrHoq8vaOpzP3XL50/9O9ptePi1t1JqauB1rwtuEmu1M2t4u44iV4wZMO1iOPfcqEuRcp3cYD9x4szz1NS89jZp0ql/zYJ/i++bnbqdf34wb5XE4r+4ma0AVgDMnTs3nBc9//xwXkdSoxaovTjqKtJuNsyuznaryGjKaWRtAeYUPa4rTBt1HjObDFxI0GGknGVx94fdvd7d62t1Vr2IiIxTOaG2HlhoZvPNbApBx481I+ZZA9xWuH8r8LS7e2H6cjM718zmAwuBF8IpXURE5HQlmx8Lx8hWAmsJuvQ/4u6NZvYA0ODua4CvA98qdATpIAg+CvM9RtCpJAfcmfqejyIiEhnzmHUvr6+v94aGhqjLEBGRGDGzDe5eX2q+bJy4ICIimaBQExGR1FCoiYhIaijUREQkNRRqIiKSGgo1ERFJDYWaiIikhkJNRERSQ6EmIiKpoVATEZHUUKiJiEhqKNRERCQ1YjegsZkdAV4J4aVmAkdDeJ1qSlrNSasXklez6q28pNWctHohnJovcfeSF9yMXaiFxcwayhnROU6SVnPS6oXk1ax6Ky9pNSetXqhuzWp+FBGR1FCoiYhIaqQ51B6OuoBxSFrNSasXklez6q28pNWctHqhijWn9piaiIhkT5r31EREJGMyEWpm9mdm5mY2M+pazsbMPmdmW8xsk5n90MzeHHVNpZjZQ2a2vVD3v5rZG6Ou6WzM7MNm1mhmeTOLbQ8yM1tiZjvMrMnM7oq6nlLM7BEzazOzl6OupRxmNsfMnjGzrYXfwyejrqkUMzvPzF4ws82Fmv9n1DWVw8xqzGyjmX2vGn8v9aFmZnOAm4D9UddShofc/Qp3vxL4HnBf1AWV4Sng7e5+BbATuDviekp5Gfgt4KdRF3ImZlYDrAJuARYDHzWzxdFWVdI/AUuiLmIMcsCfufti4F3AnQn4jAeAD7r7O4ArgSVm9q6IayrHJ4Ft1fpjqQ814K+B/w7E/uChu/cUPXw9yaj5h+6eKzxcB9RFWU8p7r7N3XdEXUcJ1wJN7r7H3QeB1cCyiGs6K3f/KdARdR3lcvdD7v5i4f4xgpXu7GirOjsPHC88PKdwi/U6wszqgF8H/rFafzPVoWZmy4AWd98cdS3lMrO/NLMDwO+SjD21Yn8E/CDqIlJgNnCg6HEzMV/hJpmZzQOuAp6PtpLSCk15m4A24Cl3j3vNXybYqchX6w9OrtYfqhQz+xHwplGeugf4HwRNj7Fxtnrd/bvufg9wj5ndDawE7q9qgaMoVXNhnnsImnS+Xc3aRlNOvSIAZjYVeAL40xEtJbHk7sPAlYVj1/9qZm9391gexzSz3wDa3H2DmX2gWn838aHm7jeMNt3MLgfmA5vNDIJmsRfN7Fp3b61iiac5U72j+DbwJDEItVI1m9ntwG8Av+oxOEdkDJ9xXLUAc4oe1xWmSYjM7ByCQPu2u//fqOsZC3fvMrNnCI5jxjLUgPcCS83s14DzgDeY2f9299+r5B9NbfOju7/k7he5+zx3n0fQhHN1lIFWipktLHq4DNgeVS3lMrMlBM0LS939RNT1pMR6YKGZzTezKcByYE3ENaWKBVu6Xwe2ufuXoq6nHGZWe7J3sZmdD9xIjNcR7n63u9cV1r/LgacrHWiQ4lBLqAfN7GUz20LQbBr7bsbAV4ALgKcKpyJ8NeqCzsbMftPMmoF3A983s7VR1zRSoePNSmAtQQeGx9y9Mdqqzs7M/gV4DvgVM2s2s49FXVMJ7wV+H/hg4Xe7qbBHEWcXA88U1g/rCY6pVaWbfJJoRBEREUkN7amJiEhqKNRERCQ1FGoiIpIaCjUREUkNhZqIiKSGQk1ERFJDoSYiIqmhUBMRkdT4/6tvrBpTh5UmAAAAAElFTkSuQmCC\n",
      "text/plain": [
       "<Figure size 504x504 with 1 Axes>"
      ]
     },
     "metadata": {},
     "output_type": "display_data"
    }
   ],
   "source": [
    "# Plot normal distribution areas*\n",
    "plt.rcParams[\"figure.figsize\"] = (7,7)\n",
    "                                  \n",
    "plt.fill_between(x=np.arange(-4,-1,0.01), \n",
    "                 y1= stats.norm.pdf(np.arange(-4,-1,0.01)) ,\n",
    "                 facecolor='red',\n",
    "                 alpha=0.35)\n",
    "\n",
    "plt.fill_between(x=np.arange(1,4,0.01), \n",
    "                 y1= stats.norm.pdf(np.arange(1,4,0.01)) ,\n",
    "                 facecolor='red',\n",
    "                 alpha=0.35)\n",
    "\n",
    "plt.fill_between(x=np.arange(-1,1,0.01), \n",
    "                 y1= stats.norm.pdf(np.arange(-1,1,0.01)) ,\n",
    "                 facecolor='blue',\n",
    "                 alpha=0.35)\n",
    "\n",
    "plt.text(x=-1.8, y=0.03, s= round(prob_under_minus1,3))\n",
    "plt.text(x=-0.2, y=0.1, s= round(between_prob,3))\n",
    "plt.text(x=1.4, y=0.03, s= round(prob_over_1,3));"
   ]
  },
  {
   "cell_type": "code",
   "execution_count": 13,
   "metadata": {
    "execution": {
     "iopub.execute_input": "2024-04-21T19:58:40.033350Z",
     "iopub.status.busy": "2024-04-21T19:58:40.033060Z",
     "iopub.status.idle": "2024-04-21T19:58:40.040371Z",
     "shell.execute_reply": "2024-04-21T19:58:40.039055Z",
     "shell.execute_reply.started": "2024-04-21T19:58:40.033290Z"
    }
   },
   "outputs": [
    {
     "name": "stdout",
     "output_type": "stream",
     "text": [
      "-0.994457883209753\n",
      "0.994457883209753\n"
     ]
    }
   ],
   "source": [
    "print( stats.norm.ppf(q=0.16) ) # Find the quantile for the 16% cutoff\n",
    "print( stats.norm.ppf(q=0.84) ) # Find the quantile for the (100-16)=84% cutoff"
   ]
  },
  {
   "cell_type": "markdown",
   "metadata": {},
   "source": [
    "> **The quantile output above confirms that roughly 68% of the data lies between -1 to 1 standard deviations from the mean.**"
   ]
  },
  {
   "cell_type": "code",
   "execution_count": 14,
   "metadata": {
    "execution": {
     "iopub.execute_input": "2024-04-21T19:58:40.042760Z",
     "iopub.status.busy": "2024-04-21T19:58:40.042298Z",
     "iopub.status.idle": "2024-04-21T19:58:40.053023Z",
     "shell.execute_reply": "2024-04-21T19:58:40.051851Z",
     "shell.execute_reply.started": "2024-04-21T19:58:40.042678Z"
    }
   },
   "outputs": [
    {
     "name": "stdout",
     "output_type": "stream",
     "text": [
      "-1.9599639845400545\n",
      "1.959963984540054\n"
     ]
    }
   ],
   "source": [
    "print( stats.norm.ppf(q=0.025) ) # Find the quantile for the 2.5% cutoff\n",
    "print( stats.norm.ppf(q=0.975) ) # Find the quantile for the (100-2.5)=97.5% cutoff"
   ]
  },
  {
   "cell_type": "markdown",
   "metadata": {},
   "source": [
    "> **The quantile output above confirms that roughly 95% of the data lies between -2 (-1.96) to 2 (+1.96) standard deviations from the mean.**"
   ]
  },
  {
   "cell_type": "code",
   "execution_count": 15,
   "metadata": {
    "execution": {
     "iopub.execute_input": "2024-04-21T19:58:40.054880Z",
     "iopub.status.busy": "2024-04-21T19:58:40.054512Z",
     "iopub.status.idle": "2024-04-21T19:58:40.066245Z",
     "shell.execute_reply": "2024-04-21T19:58:40.065238Z",
     "shell.execute_reply.started": "2024-04-21T19:58:40.054821Z"
    }
   },
   "outputs": [
    {
     "name": "stdout",
     "output_type": "stream",
     "text": [
      "-2.9677379253417833\n",
      "2.9677379253417944\n"
     ]
    }
   ],
   "source": [
    "print( stats.norm.ppf(q=0.0015) ) # Find the quantile for the 0.15% cutoff\n",
    "print( stats.norm.ppf(q=0.9985) ) # Find the quantile for the (100-0.15)=99.85% cutoff"
   ]
  },
  {
   "cell_type": "markdown",
   "metadata": {},
   "source": [
    "> **The quantile output above confirms that roughly 99.7% of the data lies between -3 (-2.96) to 3 (+2.96) standard deviations from the mean.**"
   ]
  },
  {
   "cell_type": "markdown",
   "metadata": {},
   "source": [
    "---\n",
    "## The Binomial Distribution"
   ]
  },
  {
   "cell_type": "markdown",
   "metadata": {},
   "source": [
    "The [binomial distribution](https://en.wikipedia.org/wiki/Binomial_distribution) is a **discrete** probability distribution that models the outcomes of a given number of random trails of some experiment or event. \n",
    "- The binomial is defined by two parameters: the probability of success in any given trial and the number of trials. \n",
    "- The binomial distribution tells you **how likely it is to achieve a given number of successes** in **n** trials of the experiment. \n",
    "- For example, we could model flipping a fair coin 10 times with a binomial distribution where the number of trials is set to 10 and the probability of success is set to 0.5. In this case the distribution would tell us how likely it is to get zero heads, 1 head, 2 heads and so on."
   ]
  },
  {
   "cell_type": "code",
   "execution_count": 16,
   "metadata": {
    "execution": {
     "iopub.execute_input": "2024-04-21T19:58:40.068568Z",
     "iopub.status.busy": "2024-04-21T19:58:40.068183Z",
     "iopub.status.idle": "2024-04-21T19:58:40.080317Z",
     "shell.execute_reply": "2024-04-21T19:58:40.079053Z",
     "shell.execute_reply.started": "2024-04-21T19:58:40.068498Z"
    }
   },
   "outputs": [
    {
     "data": {
      "text/plain": [
       "(array([5, 6, 4, ..., 5, 5, 6]), 10000)"
      ]
     },
     "execution_count": 16,
     "metadata": {},
     "output_type": "execute_result"
    }
   ],
   "source": [
    "# عملت 10000 تجربه ف كل مره كنت بعمل ملك وكتابه 10 مرات واعد طلع الملك كام مره \n",
    "fair_coin_flips = stats.binom.rvs(n=10,        # Number of flips per trial\n",
    "                                  p=0.5,       # Success probability\n",
    "                                  size=10000)  # Number of trials\n",
    "fair_coin_flips, len(fair_coin_flips)"
   ]
  },
  {
   "cell_type": "code",
   "execution_count": 17,
   "metadata": {
    "execution": {
     "iopub.execute_input": "2024-04-21T19:58:40.082525Z",
     "iopub.status.busy": "2024-04-21T19:58:40.082115Z",
     "iopub.status.idle": "2024-04-21T19:58:40.131145Z",
     "shell.execute_reply": "2024-04-21T19:58:40.129969Z",
     "shell.execute_reply.started": "2024-04-21T19:58:40.082446Z"
    }
   },
   "outputs": [
    {
     "data": {
      "text/html": [
       "<div>\n",
       "<style scoped>\n",
       "    .dataframe tbody tr th:only-of-type {\n",
       "        vertical-align: middle;\n",
       "    }\n",
       "\n",
       "    .dataframe tbody tr th {\n",
       "        vertical-align: top;\n",
       "    }\n",
       "\n",
       "    .dataframe thead th {\n",
       "        text-align: right;\n",
       "    }\n",
       "</style>\n",
       "<table border=\"1\" class=\"dataframe\">\n",
       "  <thead>\n",
       "    <tr style=\"text-align: right;\">\n",
       "      <th>col_0</th>\n",
       "      <th>0</th>\n",
       "      <th>1</th>\n",
       "      <th>2</th>\n",
       "      <th>3</th>\n",
       "      <th>4</th>\n",
       "      <th>5</th>\n",
       "      <th>6</th>\n",
       "      <th>7</th>\n",
       "      <th>8</th>\n",
       "      <th>9</th>\n",
       "      <th>10</th>\n",
       "    </tr>\n",
       "    <tr>\n",
       "      <th>row_0</th>\n",
       "      <th></th>\n",
       "      <th></th>\n",
       "      <th></th>\n",
       "      <th></th>\n",
       "      <th></th>\n",
       "      <th></th>\n",
       "      <th></th>\n",
       "      <th></th>\n",
       "      <th></th>\n",
       "      <th></th>\n",
       "      <th></th>\n",
       "    </tr>\n",
       "  </thead>\n",
       "  <tbody>\n",
       "    <tr>\n",
       "      <th>counts</th>\n",
       "      <td>7</td>\n",
       "      <td>111</td>\n",
       "      <td>419</td>\n",
       "      <td>1188</td>\n",
       "      <td>2057</td>\n",
       "      <td>2440</td>\n",
       "      <td>2087</td>\n",
       "      <td>1174</td>\n",
       "      <td>407</td>\n",
       "      <td>106</td>\n",
       "      <td>4</td>\n",
       "    </tr>\n",
       "  </tbody>\n",
       "</table>\n",
       "</div>"
      ],
      "text/plain": [
       "col_0   0    1    2     3     4     5     6     7    8    9   10\n",
       "row_0                                                           \n",
       "counts   7  111  419  1188  2057  2440  2087  1174  407  106   4"
      ]
     },
     "execution_count": 17,
     "metadata": {},
     "output_type": "execute_result"
    }
   ],
   "source": [
    "pd.crosstab(index='counts', columns=fair_coin_flips)"
   ]
  },
  {
   "cell_type": "code",
   "execution_count": 18,
   "metadata": {
    "execution": {
     "iopub.execute_input": "2024-04-21T19:58:40.133029Z",
     "iopub.status.busy": "2024-04-21T19:58:40.132633Z",
     "iopub.status.idle": "2024-04-21T19:58:40.552090Z",
     "shell.execute_reply": "2024-04-21T19:58:40.550509Z",
     "shell.execute_reply.started": "2024-04-21T19:58:40.132953Z"
    }
   },
   "outputs": [
    {
     "data": {
      "text/plain": [
       "<matplotlib.axes._subplots.AxesSubplot at 0x7f5c49d79e48>"
      ]
     },
     "execution_count": 18,
     "metadata": {},
     "output_type": "execute_result"
    },
    {
     "data": {
      "image/png": "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\n",
      "text/plain": [
       "<Figure size 504x504 with 1 Axes>"
      ]
     },
     "metadata": {},
     "output_type": "display_data"
    }
   ],
   "source": [
    "sns.distplot(fair_coin_flips, bins=11, kde=False)"
   ]
  },
  {
   "cell_type": "markdown",
   "metadata": {},
   "source": [
    "- The binomial distribution is discrete, it only takes on integer values so we can summarize binomial data with a frequency table and its distribution with a histogram. \n",
    "- The histogram shows us that a binomial distribution with a 50% probability of success is roughly symmetric, with the most likely outcomes lying at the center. This is reminiscent of the normal distribution.\n",
    "- If we alter the success probability, the distribution won't be symmetric."
   ]
  },
  {
   "cell_type": "code",
   "execution_count": 19,
   "metadata": {
    "execution": {
     "iopub.execute_input": "2024-04-21T19:58:40.554683Z",
     "iopub.status.busy": "2024-04-21T19:58:40.554145Z",
     "iopub.status.idle": "2024-04-21T19:58:41.040074Z",
     "shell.execute_reply": "2024-04-21T19:58:41.038604Z",
     "shell.execute_reply.started": "2024-04-21T19:58:40.554591Z"
    }
   },
   "outputs": [
    {
     "data": {
      "text/html": [
       "<div>\n",
       "<style scoped>\n",
       "    .dataframe tbody tr th:only-of-type {\n",
       "        vertical-align: middle;\n",
       "    }\n",
       "\n",
       "    .dataframe tbody tr th {\n",
       "        vertical-align: top;\n",
       "    }\n",
       "\n",
       "    .dataframe thead th {\n",
       "        text-align: right;\n",
       "    }\n",
       "</style>\n",
       "<table border=\"1\" class=\"dataframe\">\n",
       "  <thead>\n",
       "    <tr style=\"text-align: right;\">\n",
       "      <th>col_0</th>\n",
       "      <th>2</th>\n",
       "      <th>3</th>\n",
       "      <th>4</th>\n",
       "      <th>5</th>\n",
       "      <th>6</th>\n",
       "      <th>7</th>\n",
       "      <th>8</th>\n",
       "      <th>9</th>\n",
       "      <th>10</th>\n",
       "    </tr>\n",
       "    <tr>\n",
       "      <th>row_0</th>\n",
       "      <th></th>\n",
       "      <th></th>\n",
       "      <th></th>\n",
       "      <th></th>\n",
       "      <th></th>\n",
       "      <th></th>\n",
       "      <th></th>\n",
       "      <th></th>\n",
       "      <th></th>\n",
       "    </tr>\n",
       "  </thead>\n",
       "  <tbody>\n",
       "    <tr>\n",
       "      <th>counts</th>\n",
       "      <td>2</td>\n",
       "      <td>6</td>\n",
       "      <td>58</td>\n",
       "      <td>250</td>\n",
       "      <td>854</td>\n",
       "      <td>1998</td>\n",
       "      <td>3089</td>\n",
       "      <td>2639</td>\n",
       "      <td>1104</td>\n",
       "    </tr>\n",
       "  </tbody>\n",
       "</table>\n",
       "</div>"
      ],
      "text/plain": [
       "col_0   2   3   4    5    6     7     8     9     10\n",
       "row_0                                               \n",
       "counts   2   6  58  250  854  1998  3089  2639  1104"
      ]
     },
     "execution_count": 19,
     "metadata": {},
     "output_type": "execute_result"
    },
    {
     "data": {
      "image/png": "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\n",
      "text/plain": [
       "<Figure size 504x504 with 1 Axes>"
      ]
     },
     "metadata": {},
     "output_type": "display_data"
    }
   ],
   "source": [
    "biased_coin_flips = stats.binom.rvs(n=10,      # Number of flips per trial\n",
    "                                  p=0.8,       # Success probability\n",
    "                                  size=10000)  # Number of trials\n",
    "\n",
    "\n",
    "# Plot histogram\n",
    "sns.distplot(biased_coin_flips, bins=11, kde=False)\n",
    "\n",
    "# Print table of counts\n",
    "pd.crosstab(index=\"counts\", columns= biased_coin_flips)"
   ]
  },
  {
   "cell_type": "markdown",
   "metadata": {},
   "source": [
    "The cdf() function lets us check the probability of achieving a number of successes within a certain range:"
   ]
  },
  {
   "cell_type": "code",
   "execution_count": 20,
   "metadata": {
    "execution": {
     "iopub.execute_input": "2024-04-21T19:58:41.043479Z",
     "iopub.status.busy": "2024-04-21T19:58:41.042463Z",
     "iopub.status.idle": "2024-04-21T19:58:41.053588Z",
     "shell.execute_reply": "2024-04-21T19:58:41.052820Z",
     "shell.execute_reply.started": "2024-04-21T19:58:41.043380Z"
    }
   },
   "outputs": [
    {
     "data": {
      "text/plain": [
       "0.032793497599999964"
      ]
     },
     "execution_count": 20,
     "metadata": {},
     "output_type": "execute_result"
    }
   ],
   "source": [
    "stats.binom.cdf(k=5,        # Probability of k = 5 successes or less\n",
    "                n=10,       # With 10 flips\n",
    "                p=0.8)      # And success probability 0.8"
   ]
  },
  {
   "cell_type": "code",
   "execution_count": 21,
   "metadata": {
    "execution": {
     "iopub.execute_input": "2024-04-21T19:58:41.055509Z",
     "iopub.status.busy": "2024-04-21T19:58:41.054949Z",
     "iopub.status.idle": "2024-04-21T19:58:41.067677Z",
     "shell.execute_reply": "2024-04-21T19:58:41.066612Z",
     "shell.execute_reply.started": "2024-04-21T19:58:41.055435Z"
    }
   },
   "outputs": [
    {
     "data": {
      "text/plain": [
       "0.37580963840000003"
      ]
     },
     "execution_count": 21,
     "metadata": {},
     "output_type": "execute_result"
    }
   ],
   "source": [
    "1 - stats.binom.cdf(k=8,        # Probability of k = 9 successes or more\n",
    "                    n=10,       # With 10 flips\n",
    "                    p=0.8)      # And success probability 0.8"
   ]
  },
  {
   "cell_type": "markdown",
   "metadata": {},
   "source": [
    "- For **continuous** distributions like the normal, we use `pdf()` (probability density functions) to check the probability density at a given x value. \n",
    "- For **discrete** distributions like the binomial, we use `pmf()` (probability mass function) to check the mass (proportion of observations) at given number of successes k."
   ]
  },
  {
   "cell_type": "code",
   "execution_count": 22,
   "metadata": {
    "execution": {
     "iopub.execute_input": "2024-04-21T19:58:41.069443Z",
     "iopub.status.busy": "2024-04-21T19:58:41.069074Z",
     "iopub.status.idle": "2024-04-21T19:58:41.082156Z",
     "shell.execute_reply": "2024-04-21T19:58:41.081055Z",
     "shell.execute_reply.started": "2024-04-21T19:58:41.069383Z"
    }
   },
   "outputs": [
    {
     "data": {
      "text/plain": [
       "0.24609375000000025"
      ]
     },
     "execution_count": 22,
     "metadata": {},
     "output_type": "execute_result"
    }
   ],
   "source": [
    "stats.binom.pmf(k=5,        # Probability of k = 5 successes\n",
    "                n=10,       # With 10 flips\n",
    "                p=0.5)      # And success probability 0.5"
   ]
  },
  {
   "cell_type": "code",
   "execution_count": 23,
   "metadata": {
    "execution": {
     "iopub.execute_input": "2024-04-21T19:58:41.083838Z",
     "iopub.status.busy": "2024-04-21T19:58:41.083499Z",
     "iopub.status.idle": "2024-04-21T19:58:41.094674Z",
     "shell.execute_reply": "2024-04-21T19:58:41.093515Z",
     "shell.execute_reply.started": "2024-04-21T19:58:41.083789Z"
    }
   },
   "outputs": [
    {
     "data": {
      "text/plain": [
       "0.301989888"
      ]
     },
     "execution_count": 23,
     "metadata": {},
     "output_type": "execute_result"
    }
   ],
   "source": [
    "stats.binom.pmf(k=8,        # Probability of k = 8 successes\n",
    "                n=10,       # With 10 flips\n",
    "                p=0.8)      # And success probability 0.8"
   ]
  },
  {
   "cell_type": "markdown",
   "metadata": {},
   "source": [
    "---\n",
    "## 4. Geometric Distributions\n",
    "The geometric and exponential distributions model the time it takes for an event to occur. The [geometric](https://www.youtube.com/watch?v=o5N8ZeMQZxY) distribution is discrete and models the number of **trials it takes to achieve a success** in repeated experiments with a given probability of success. ايه احتماليه ان النجاح يحصل بعد 5 تجارب مثلاوبالتالي التجارب دي هي ال random varaible"
   ]
  },
  {
   "cell_type": "code",
   "execution_count": 24,
   "metadata": {
    "execution": {
     "iopub.execute_input": "2024-04-21T19:58:41.096675Z",
     "iopub.status.busy": "2024-04-21T19:58:41.096329Z",
     "iopub.status.idle": "2024-04-21T19:58:41.111635Z",
     "shell.execute_reply": "2024-04-21T19:58:41.110724Z",
     "shell.execute_reply.started": "2024-04-21T19:58:41.096602Z"
    }
   },
   "outputs": [
    {
     "data": {
      "text/plain": [
       "{1, 2, 3, 4, 5, 6, 7, 8, 9, 10, 11, 12, 14}"
      ]
     },
     "execution_count": 24,
     "metadata": {},
     "output_type": "execute_result"
    }
   ],
   "source": [
    "\n",
    "set(stats.geom.rvs(size=10000, p=0.5))"
   ]
  },
  {
   "cell_type": "code",
   "execution_count": 25,
   "metadata": {
    "execution": {
     "iopub.execute_input": "2024-04-21T19:58:41.113570Z",
     "iopub.status.busy": "2024-04-21T19:58:41.113227Z",
     "iopub.status.idle": "2024-04-21T19:58:41.583746Z",
     "shell.execute_reply": "2024-04-21T19:58:41.582246Z",
     "shell.execute_reply.started": "2024-04-21T19:58:41.113508Z"
    }
   },
   "outputs": [
    {
     "data": {
      "text/html": [
       "<div>\n",
       "<style scoped>\n",
       "    .dataframe tbody tr th:only-of-type {\n",
       "        vertical-align: middle;\n",
       "    }\n",
       "\n",
       "    .dataframe tbody tr th {\n",
       "        vertical-align: top;\n",
       "    }\n",
       "\n",
       "    .dataframe thead th {\n",
       "        text-align: right;\n",
       "    }\n",
       "</style>\n",
       "<table border=\"1\" class=\"dataframe\">\n",
       "  <thead>\n",
       "    <tr style=\"text-align: right;\">\n",
       "      <th>col_0</th>\n",
       "      <th>1</th>\n",
       "      <th>2</th>\n",
       "      <th>3</th>\n",
       "      <th>4</th>\n",
       "      <th>5</th>\n",
       "      <th>6</th>\n",
       "      <th>7</th>\n",
       "      <th>8</th>\n",
       "      <th>9</th>\n",
       "      <th>10</th>\n",
       "      <th>11</th>\n",
       "      <th>12</th>\n",
       "      <th>13</th>\n",
       "    </tr>\n",
       "    <tr>\n",
       "      <th>row_0</th>\n",
       "      <th></th>\n",
       "      <th></th>\n",
       "      <th></th>\n",
       "      <th></th>\n",
       "      <th></th>\n",
       "      <th></th>\n",
       "      <th></th>\n",
       "      <th></th>\n",
       "      <th></th>\n",
       "      <th></th>\n",
       "      <th></th>\n",
       "      <th></th>\n",
       "      <th></th>\n",
       "    </tr>\n",
       "  </thead>\n",
       "  <tbody>\n",
       "    <tr>\n",
       "      <th>counts</th>\n",
       "      <td>5072</td>\n",
       "      <td>2509</td>\n",
       "      <td>1215</td>\n",
       "      <td>606</td>\n",
       "      <td>301</td>\n",
       "      <td>138</td>\n",
       "      <td>83</td>\n",
       "      <td>39</td>\n",
       "      <td>18</td>\n",
       "      <td>12</td>\n",
       "      <td>5</td>\n",
       "      <td>1</td>\n",
       "      <td>1</td>\n",
       "    </tr>\n",
       "  </tbody>\n",
       "</table>\n",
       "</div>"
      ],
      "text/plain": [
       "col_0     1     2     3    4    5    6   7   8   9   10  11  12  13\n",
       "row_0                                                              \n",
       "counts  5072  2509  1215  606  301  138  83  39  18  12   5   1   1"
      ]
     },
     "execution_count": 25,
     "metadata": {},
     "output_type": "execute_result"
    },
    {
     "data": {
      "image/png": "iVBORw0KGgoAAAANSUhEUgAAAbgAAAGfCAYAAAAtY8c9AAAABHNCSVQICAgIfAhkiAAAAAlwSFlzAAALEgAACxIB0t1+/AAAADl0RVh0U29mdHdhcmUAbWF0cGxvdGxpYiB2ZXJzaW9uIDMuMC4zLCBodHRwOi8vbWF0cGxvdGxpYi5vcmcvnQurowAAE1ZJREFUeJzt3W2sZWd53+H/HQ/khUTYhKlFZ+yOpViJnKi8aGQ7papaXIwhCPtDglxomFJL/uK2pIqUQvvBKoSKqFVIUBsqC7uYBONYDsgWooGRIYoqFeMxUIPtUE958UsNnjDGSYpCanL3w1mDTsxM54x99tnOPdclHe21nrX2Xs+Sj+bntfeaPdXdAYBpfmDdEwCAVRA4AEYSOABGEjgARhI4AEYSOABGEjgARhI4AEYSOABG2rXuCfz/vPCFL+x9+/atexoAPIvcfffdf9zdu0+237M6cPv27cuhQ4fWPQ0AnkWq6mtb2c9blACMJHAAjCRwAIwkcACMJHAAjCRwAIwkcACMJHAAjCRwAIwkcACMJHAAjCRwAIwkcACMJHAAjCRwAIwkcACM9Kz+B0+3y013PrjyY7zhonNXfgwAts4VHAAjbSlwVfXVqvpCVX2+qg4tYy+oqoNV9cDyeNYyXlX1nqo6XFX3VNXLNr3OgWX/B6rqwGpOCQBO7QruH3T3S7p7/7L+1iR3dPf5Se5Y1pPk1UnOX36uTvLeZCOISa5NclGSC5NceyyKALDdnslblJcnuXFZvjHJFZvGP9AbPp3kzKp6UZJXJTnY3Ue7+/EkB5Nc9gyODwAntNXAdZJPVNXdVXX1MnZ2dz+6LH89ydnL8p4kD2167sPL2InGAWDbbfUuyr/b3Y9U1d9IcrCq/mjzxu7uqurtmNAS0KuT5Nxz3ZkIwNOzpSu47n5keXwsyUey8RnaN5a3HrM8Prbs/kiSczY9fe8ydqLxpx7ruu7e3937d+/efWpnAwCLkwauqp5XVT92bDnJpUm+mOT2JMfuhDyQ5LZl+fYkb1ruprw4yRPLW5kfT3JpVZ213Fxy6TIGANtuK29Rnp3kI1V1bP+buvv3q+quJLdU1VVJvpbk9cv+H0vymiSHk3w7yZuTpLuPVtU7kty17Pf27j66bWcCAJucNHDd/eUkLz7O+DeTXHKc8U5yzQle64YkN5z6NAHg1PgmEwBGEjgARhI4AEYSOABGEjgARhI4AEYSOABGEjgARhI4AEYSOABGEjgARhI4AEYSOABGEjgARhI4AEYSOABGEjgARhI4AEYSOABGEjgARhI4AEYSOABGEjgARhI4AEYSOABGEjgARhI4AEYSOABGEjgARhI4AEYSOABGEjgARhI4AEYSOABGEjgARhI4AEYSOABGEjgARhI4AEYSOABGEjgARhI4AEYSOABGEjgARhI4AEYSOABGEjgARhI4AEYSOABGEjgARhI4AEYSOABGEjgARhI4AEYSOABGEjgARhI4AEYSOABGEjgARhI4AEYSOABGEjgARtpy4KrqjKr6XFV9dFk/r6rurKrDVfW7VfXcZfwHl/XDy/Z9m17jbcv4l6rqVdt9MgBwzKlcwb0lyf2b1n8tybu7+yeSPJ7kqmX8qiSPL+PvXvZLVV2Q5MokP53ksiS/VVVnPLPpA8DxbSlwVbU3yc8led+yXklekeTWZZcbk1yxLF++rGfZfsmy/+VJbu7u73T3V5IcTnLhdpwEADzVVq/gfiPJryT5y2X9x5N8q7ufXNYfTrJnWd6T5KEkWbY/sez/vfHjPAcAttVJA1dVr03yWHffvQPzSVVdXVWHqurQkSNHduKQAAy0lSu4lyd5XVV9NcnN2Xhr8jeTnFlVu5Z99iZ5ZFl+JMk5SbJsf36Sb24eP85zvqe7r+vu/d29f/fu3ad8QgCQbCFw3f227t7b3fuycZPIJ7v7jUk+leTnl90OJLltWb59Wc+y/ZPd3cv4lctdluclOT/JZ7btTABgk10n3+WE/lWSm6vqV5N8Lsn1y/j1SX67qg4nOZqNKKa7762qW5Lcl+TJJNd093efwfEB4IROKXDd/QdJ/mBZ/nKOcxdkd/95kl84wfPfmeSdpzpJADhVvskEgJEEDoCRBA6AkQQOgJEEDoCRBA6AkQQOgJEEDoCRBA6AkQQOgJEEDoCRBA6AkQQOgJEEDoCRBA6AkQQOgJEEDoCRBA6AkQQOgJEEDoCRBA6AkQQOgJEEDoCRBA6AkQQOgJEEDoCRBA6AkQQOgJEEDoCRBA6AkQQOgJEEDoCRBA6AkQQOgJEEDoCRBA6AkQQOgJEEDoCRBA6AkQQOgJEEDoCRBA6AkQQOgJEEDoCRBA6AkQQOgJEEDoCRBA6AkQQOgJEEDoCRBA6AkQQOgJEEDoCRBA6AkQQOgJEEDoCRBA6AkQQOgJEEDoCRBA6AkQQOgJEEDoCRBA6AkU4auKr6oar6TFX9j6q6t6r+7TJ+XlXdWVWHq+p3q+q5y/gPLuuHl+37Nr3W25bxL1XVq1Z1UgCwlSu47yR5RXe/OMlLklxWVRcn+bUk7+7un0jyeJKrlv2vSvL4Mv7uZb9U1QVJrkzy00kuS/JbVXXGdp4MABxz0sD1hj9bVp+z/HSSVyS5dRm/MckVy/Lly3qW7ZdUVS3jN3f3d7r7K0kOJ7lwW84CAJ5iS5/BVdUZVfX5JI8lOZjkfyX5Vnc/uezycJI9y/KeJA8lybL9iSQ/vnn8OM/ZfKyrq+pQVR06cuTIqZ8RAGSLgevu73b3S5LszcZV10+takLdfV137+/u/bt3717VYQAY7pTuouzubyX5VJKfTXJmVe1aNu1N8siy/EiSc5Jk2f78JN/cPH6c5wDAttrKXZS7q+rMZfmHk7wyyf3ZCN3PL7sdSHLbsnz7sp5l+ye7u5fxK5e7LM9Lcn6Sz2zXiQDAZrtOvktelOTG5Y7HH0hyS3d/tKruS3JzVf1qks8luX7Z//okv11Vh5Mczcadk+nue6vqliT3JXkyyTXd/d3tPR0A2HDSwHX3PUleepzxL+c4d0F2958n+YUTvNY7k7zz1KcJAKfGN5kAMJLAATCSwAEwksABMJLAATCSwAEwksABMJLAATCSwAEwksABMJLAATCSwAEwksABMJLAATCSwAEwksABMJLAATCSwAEwksABMJLAATCSwAEwksABMJLAATCSwAEwksABMJLAATCSwAEwksABMJLAATCSwAEw0q51T2CKm+58cEeO84aLzt2R4wD8decKDoCRBA6AkQQOgJEEDoCRBA6AkQQOgJEEDoCRBA6AkQQOgJEEDoCRBA6AkQQOgJEEDoCRBA6AkQQOgJEEDoCRBA6AkQQOgJEEDoCRBA6AkQQOgJEEDoCRBA6AkQQOgJEEDoCRBA6AkQQOgJEEDoCRBA6AkQQOgJEEDoCRThq4qjqnqj5VVfdV1b1V9ZZl/AVVdbCqHlgez1rGq6reU1WHq+qeqnrZptc6sOz/QFUdWN1pAXC628oV3JNJfrm7L0hycZJrquqCJG9Nckd3n5/kjmU9SV6d5Pzl5+ok7002gpjk2iQXJbkwybXHoggA2+2kgevuR7v7s8vynya5P8meJJcnuXHZ7cYkVyzLlyf5QG/4dJIzq+pFSV6V5GB3H+3ux5McTHLZtp4NACxO6TO4qtqX5KVJ7kxydnc/umz6epKzl+U9SR7a9LSHl7ETjQPAttty4KrqR5P8XpJf6u4/2bytuztJb8eEqurqqjpUVYeOHDmyHS8JwGloS4GrqudkI24f7O4PL8PfWN56zPL42DL+SJJzNj197zJ2ovG/oruv6+793b1/9+7dp3IuAPA9W7mLspJcn+T+7v71TZtuT3LsTsgDSW7bNP6m5W7Ki5M8sbyV+fEkl1bVWcvNJZcuYwCw7XZtYZ+XJ/nFJF+oqs8vY/86ybuS3FJVVyX5WpLXL9s+luQ1SQ4n+XaSNydJdx+tqnckuWvZ7+3dfXRbzgIAnuKkgevu/5akTrD5kuPs30muOcFr3ZDkhlOZIAA8Hb7JBICRBA6AkQQOgJEEDoCRBA6AkQQOgJEEDoCRBA6AkQQOgJEEDoCRBA6AkQQOgJEEDoCRBA6AkQQOgJEEDoCRBA6AkQQOgJEEDoCRBA6AkQQOgJEEDoCRBA6AkQQOgJEEDoCRBA6AkQQOgJEEDoCRBA6AkQQOgJEEDoCRBA6AkQQOgJEEDoCRBA6AkQQOgJEEDoCRBA6AkQQOgJEEDoCRBA6AkQQOgJEEDoCRBA6AkQQOgJEEDoCRBA6AkQQOgJEEDoCRBA6AkQQOgJF2rXsCnJqb7nxw5cd4w0XnrvwYAKvmCg6AkQQOgJEEDoCRBA6AkQQOgJEEDoCRBA6AkQQOgJEEDoCRBA6AkQQOgJFOGriquqGqHquqL24ae0FVHayqB5bHs5bxqqr3VNXhqrqnql626TkHlv0fqKoDqzkdANiwlSu49ye57Cljb01yR3efn+SOZT1JXp3k/OXn6iTvTTaCmOTaJBcluTDJtceiCACrcNLAdfcfJjn6lOHLk9y4LN+Y5IpN4x/oDZ9OcmZVvSjJq5Ic7O6j3f14koP5/mgCwLZ5up/Bnd3djy7LX09y9rK8J8lDm/Z7eBk70fj3qaqrq+pQVR06cuTI05weAKe7Z3yTSXd3kt6GuRx7veu6e39379+9e/d2vSwAp5mnG7hvLG89Znl8bBl/JMk5m/bbu4ydaBwAVuLpBu72JMfuhDyQ5LZN429a7qa8OMkTy1uZH09yaVWdtdxccukyBgArsetkO1TVh5L8/SQvrKqHs3E35LuS3FJVVyX5WpLXL7t/LMlrkhxO8u0kb06S7j5aVe9Ictey39u7+6k3rgDAtjlp4Lr7H51g0yXH2beTXHOC17khyQ2nNDsAeJp8kwkAIwkcACMJHAAjCRwAIwkcACMJHAAjCRwAIwkcACMJHAAjCRwAIwkcACMJHAAjCRwAIwkcACMJHAAjCRwAIwkcACMJHAAjCRwAIwkcACMJHAAjCRwAIwkcACPtWvcEePa56c4Hd+Q4b7jo3B05DnB6cgUHwEgCB8BIAgfASAIHwEgCB8BIAgfASAIHwEgCB8BIAgfASAIHwEgCB8BIAgfASAIHwEgCB8BIAgfASAIHwEgCB8BIAgfASAIHwEgCB8BIu9Y9AU5fN9354MqP8YaLzl35MYBnJ1dwAIwkcACMJHAAjCRwAIwkcACMJHAAjCRwAIwkcACMJHAAjCRwAIwkcACM5LsoGc33XcLpyxUcACMJHAAjCRwAI/kMDv6a8HkinBpXcACMtOOBq6rLqupLVXW4qt6608cH4PSwo29RVtUZSf5TklcmeTjJXVV1e3fft5PzAI7P26BMstNXcBcmOdzdX+7uv0hyc5LLd3gOAJwGdvomkz1JHtq0/nCSi3Z4DsAa7cRV4iSueJ++Z91dlFV1dZKrl9U/q6ovrXM+z9ALk/zxuiexQ07bc33jGieyA07b/67PFiv8/XpWnu8W/a2t7LTTgXskyTmb1vcuY9/T3dcluW4nJ7UqVXWou/evex47wbnO5FznOh3Od6c/g7sryflVdV5VPTfJlUlu3+E5AHAa2NEruO5+sqr+WZKPJzkjyQ3dfe9OzgGA08OOfwbX3R9L8rGdPu6ajHirdYuc60zOda7x51vdve45AMC281VdAIwkcNusqs6pqk9V1X1VdW9VvWXdc1q1qjqjqj5XVR9d91xWrarOrKpbq+qPqur+qvrZdc9pVarqXy6/w1+sqg9V1Q+te07bpapuqKrHquqLm8ZeUFUHq+qB5fGsdc5xu5zgXP/98jt8T1V9pKrOXOccV0Xgtt+TSX65uy9IcnGSa6rqgjXPadXekuT+dU9ih/xmkt/v7p9K8uIMPe+q2pPkXyTZ390/k42bwq5c76y21fuTXPaUsbcmuaO7z09yx7I+wfvz/ed6MMnPdPffTvI/k7xtpye1EwRum3X3o9392WX5T7PxB+Ce9c5qdapqb5KfS/K+dc9l1arq+Un+XpLrk6S7/6K7v7XeWa3UriQ/XFW7kvxIkv+95vlsm+7+wyRHnzJ8eZIbl+Ubk1yxo5NakeOda3d/orufXFY/nY2/kzyOwK1QVe1L8tIkd653Jiv1G0l+JclfrnsiO+C8JEeS/JflLdn3VdXz1j2pVejuR5L8hyQPJnk0yRPd/Yn1zmrlzu7uR5flryc5e52T2UH/NMl/XfckVkHgVqSqfjTJ7yX5pe7+k3XPZxWq6rVJHuvuu9c9lx2yK8nLkry3u1+a5P9kzttYf8Xy+dPl2Yj630zyvKr6x+ud1c7pjdvLx99iXlX/Jhsfq3xw3XNZBYFbgap6Tjbi9sHu/vC657NCL0/yuqr6ajb+ZYhXVNXvrHdKK/Vwkoe7+9gV+a3ZCN5E/zDJV7r7SHf/3yQfTvJ31jynVftGVb0oSZbHx9Y8n5Wqqn+S5LVJ3thD/76YwG2zqqpsfEZzf3f/+rrns0rd/bbu3tvd+7JxA8Inu3vs/+V399eTPFRVP7kMXZJk6r9l+GCSi6vqR5bf6Usy9IaaTW5PcmBZPpDktjXOZaWq6rJsfLTwuu7+9rrnsyoCt/1enuQXs3E18/nl5zXrnhTb5p8n+WBV3ZPkJUn+3ZrnsxLLVeqtST6b5AvZ+LNizDdfVNWHkvz3JD9ZVQ9X1VVJ3pXklVX1QDauYN+1zjlulxOc639M8mNJDi5/Rv3ntU5yRXyTCQAjuYIDYCSBA2AkgQNgJIEDYCSBA2AkgQNgJIEDYCSBA2Ck/wd+tS0cA24+tgAAAABJRU5ErkJggg==\n",
      "text/plain": [
       "<Figure size 504x504 with 1 Axes>"
      ]
     },
     "metadata": {},
     "output_type": "display_data"
    }
   ],
   "source": [
    "import random\n",
    "random.seed(12)\n",
    "\n",
    "flips_till_heads = stats.geom.rvs(size=10000,  # Generate geometric data\n",
    "                                  p=0.5)       # With success prob 0.5\n",
    "\n",
    "# Plot histogram\n",
    "sns.distplot(flips_till_heads, bins=max(flips_till_heads)+1, kde=False)\n",
    "\n",
    "# Print table of counts\n",
    "pd.crosstab(index=\"counts\", columns= flips_till_heads)"
   ]
  },
  {
   "cell_type": "markdown",
   "metadata": {},
   "source": [
    "##### The distribution is very likely to get a heads in 1 or 2 flips, while it is very unlikely for it to take more than 5 flips to get a heads. In the 10,000 trails we generated, the longest it took to get a heads was 13 flips."
   ]
  },
  {
   "cell_type": "code",
   "execution_count": 26,
   "metadata": {
    "execution": {
     "iopub.execute_input": "2024-04-21T19:58:41.586122Z",
     "iopub.status.busy": "2024-04-21T19:58:41.585638Z",
     "iopub.status.idle": "2024-04-21T19:58:41.600649Z",
     "shell.execute_reply": "2024-04-21T19:58:41.599668Z",
     "shell.execute_reply.started": "2024-04-21T19:58:41.586045Z"
    }
   },
   "outputs": [
    {
     "data": {
      "text/plain": [
       "0.03125"
      ]
     },
     "execution_count": 26,
     "metadata": {},
     "output_type": "execute_result"
    }
   ],
   "source": [
    "first_five = stats.geom.cdf(k=5,   # Prob of success in first 5 flips\n",
    "                           p=0.5)\n",
    "\n",
    "1 - first_five"
   ]
  },
  {
   "cell_type": "code",
   "execution_count": 27,
   "metadata": {
    "execution": {
     "iopub.execute_input": "2024-04-21T19:58:41.602153Z",
     "iopub.status.busy": "2024-04-21T19:58:41.601883Z",
     "iopub.status.idle": "2024-04-21T19:58:41.612489Z",
     "shell.execute_reply": "2024-04-21T19:58:41.611543Z",
     "shell.execute_reply.started": "2024-04-21T19:58:41.602111Z"
    }
   },
   "outputs": [
    {
     "data": {
      "text/plain": [
       "0.25"
      ]
     },
     "execution_count": 27,
     "metadata": {},
     "output_type": "execute_result"
    }
   ],
   "source": [
    "stats.geom.pmf(k=2,   # Prob of needing exactly 2 flips to get first success\n",
    "              p=0.5)"
   ]
  },
  {
   "cell_type": "markdown",
   "metadata": {},
   "source": [
    "---\n",
    "## 5. Exponential Distributions\n",
    "The exponential distribution is a continuous analog of the geometric distribution and models **the amount of time** you have to wait before an event occurs given a certain occurrence rate."
   ]
  },
  {
   "cell_type": "code",
   "execution_count": 28,
   "metadata": {
    "execution": {
     "iopub.execute_input": "2024-04-21T19:58:41.613933Z",
     "iopub.status.busy": "2024-04-21T19:58:41.613679Z",
     "iopub.status.idle": "2024-04-21T19:58:41.625807Z",
     "shell.execute_reply": "2024-04-21T19:58:41.624654Z",
     "shell.execute_reply.started": "2024-04-21T19:58:41.613887Z"
    }
   },
   "outputs": [
    {
     "data": {
      "text/plain": [
       "0.36787944117144233"
      ]
     },
     "execution_count": 28,
     "metadata": {},
     "output_type": "execute_result"
    }
   ],
   "source": [
    "# Get the probability of waiting more than 1 time unit before a success\n",
    "prob_1 = stats.expon.cdf(x=1,        \n",
    "                         scale=1)  # Arrival rate\n",
    "\n",
    "1 - prob_1"
   ]
  },
  {
   "cell_type": "code",
   "execution_count": 29,
   "metadata": {
    "execution": {
     "iopub.execute_input": "2024-04-21T19:58:41.627960Z",
     "iopub.status.busy": "2024-04-21T19:58:41.627572Z",
     "iopub.status.idle": "2024-04-21T19:58:42.126289Z",
     "shell.execute_reply": "2024-04-21T19:58:42.125002Z",
     "shell.execute_reply.started": "2024-04-21T19:58:41.627887Z"
    }
   },
   "outputs": [
    {
     "data": {
      "image/png": "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\n",
      "text/plain": [
       "<Figure size 504x504 with 1 Axes>"
      ]
     },
     "metadata": {},
     "output_type": "display_data"
    }
   ],
   "source": [
    "plt.fill_between(x=np.arange(0,1,0.01), \n",
    "                 y1= stats.expon.pdf(np.arange(0,1,0.01)) ,\n",
    "                 facecolor='blue',\n",
    "                 alpha=0.35)\n",
    "\n",
    "plt.fill_between(x=np.arange(1,7,0.01), \n",
    "                 y1= stats.expon.pdf(np.arange(1,7,0.01)) ,\n",
    "                 facecolor='red',\n",
    "                 alpha=0.35)\n",
    "\n",
    "plt.text(x=0.17, y=0.2, s= round(prob_1,3))\n",
    "plt.text(x=1.2, y=0.08, s= round(1 - prob_1,3));"
   ]
  },
  {
   "cell_type": "markdown",
   "metadata": {},
   "source": [
    "#### Similar to the geometric distribution, the exponential starts high and has a long tail that trails off to the right that contains rare cases where you have to wait much longer than average for an arrival."
   ]
  },
  {
   "cell_type": "markdown",
   "metadata": {},
   "source": [
    "---\n",
    "## 5. Poisson Distribution"
   ]
  },
  {
   "cell_type": "markdown",
   "metadata": {},
   "source": [
    "The Poisson distribution models the probability of seeing a certain number of successes within a time interval.\n",
    "- The Poisson distribution can be used to model traffic, such as the number of arrivals a hospital can expect in a hour's time or the number of emails you'd expect to receive in a week."
   ]
  },
  {
   "cell_type": "code",
   "execution_count": 30,
   "metadata": {
    "execution": {
     "iopub.execute_input": "2024-04-21T19:58:42.129098Z",
     "iopub.status.busy": "2024-04-21T19:58:42.128335Z",
     "iopub.status.idle": "2024-04-21T19:58:42.595686Z",
     "shell.execute_reply": "2024-04-21T19:58:42.594192Z",
     "shell.execute_reply.started": "2024-04-21T19:58:42.129015Z"
    }
   },
   "outputs": [
    {
     "data": {
      "text/html": [
       "<div>\n",
       "<style scoped>\n",
       "    .dataframe tbody tr th:only-of-type {\n",
       "        vertical-align: middle;\n",
       "    }\n",
       "\n",
       "    .dataframe tbody tr th {\n",
       "        vertical-align: top;\n",
       "    }\n",
       "\n",
       "    .dataframe thead th {\n",
       "        text-align: right;\n",
       "    }\n",
       "</style>\n",
       "<table border=\"1\" class=\"dataframe\">\n",
       "  <thead>\n",
       "    <tr style=\"text-align: right;\">\n",
       "      <th>col_0</th>\n",
       "      <th>0</th>\n",
       "      <th>1</th>\n",
       "      <th>2</th>\n",
       "      <th>3</th>\n",
       "      <th>4</th>\n",
       "      <th>5</th>\n",
       "      <th>6</th>\n",
       "    </tr>\n",
       "    <tr>\n",
       "      <th>row_0</th>\n",
       "      <th></th>\n",
       "      <th></th>\n",
       "      <th></th>\n",
       "      <th></th>\n",
       "      <th></th>\n",
       "      <th></th>\n",
       "      <th></th>\n",
       "    </tr>\n",
       "  </thead>\n",
       "  <tbody>\n",
       "    <tr>\n",
       "      <th>counts</th>\n",
       "      <td>3713</td>\n",
       "      <td>3694</td>\n",
       "      <td>1779</td>\n",
       "      <td>617</td>\n",
       "      <td>163</td>\n",
       "      <td>28</td>\n",
       "      <td>6</td>\n",
       "    </tr>\n",
       "  </tbody>\n",
       "</table>\n",
       "</div>"
      ],
      "text/plain": [
       "col_0      0     1     2    3    4   5  6\n",
       "row_0                                    \n",
       "counts  3713  3694  1779  617  163  28  6"
      ]
     },
     "execution_count": 30,
     "metadata": {},
     "output_type": "execute_result"
    },
    {
     "data": {
      "image/png": "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\n",
      "text/plain": [
       "<Figure size 504x504 with 1 Axes>"
      ]
     },
     "metadata": {},
     "output_type": "display_data"
    }
   ],
   "source": [
    "random.seed(12)\n",
    "\n",
    "arrival_rate_1 = stats.poisson.rvs(size=10000,  # Generate Poisson data\n",
    "                                   mu=1 )       # Average arrival time 1 (lambda)\n",
    "\n",
    "# Plot histogram\n",
    "sns.distplot(arrival_rate_1, kde=False, bins=max(arrival_rate_1)+1)\n",
    "\n",
    "# Print table of counts\n",
    "pd.crosstab(index=\"counts\", columns= arrival_rate_1)"
   ]
  },
  {
   "cell_type": "markdown",
   "metadata": {},
   "source": [
    "The histogram shows that when arrivals are relatively infrequent, it is rare to see more than a couple of arrivals in each time period. When the arrival rate is high, it becomes increasingly rare to see a low number of arrivals and the distribution starts to look more symmetric:"
   ]
  },
  {
   "cell_type": "code",
   "execution_count": 31,
   "metadata": {
    "execution": {
     "iopub.execute_input": "2024-04-21T19:58:42.598722Z",
     "iopub.status.busy": "2024-04-21T19:58:42.597880Z",
     "iopub.status.idle": "2024-04-21T19:58:43.157445Z",
     "shell.execute_reply": "2024-04-21T19:58:43.155978Z",
     "shell.execute_reply.started": "2024-04-21T19:58:42.598625Z"
    }
   },
   "outputs": [
    {
     "data": {
      "text/html": [
       "<div>\n",
       "<style scoped>\n",
       "    .dataframe tbody tr th:only-of-type {\n",
       "        vertical-align: middle;\n",
       "    }\n",
       "\n",
       "    .dataframe tbody tr th {\n",
       "        vertical-align: top;\n",
       "    }\n",
       "\n",
       "    .dataframe thead th {\n",
       "        text-align: right;\n",
       "    }\n",
       "</style>\n",
       "<table border=\"1\" class=\"dataframe\">\n",
       "  <thead>\n",
       "    <tr style=\"text-align: right;\">\n",
       "      <th>col_0</th>\n",
       "      <th>1</th>\n",
       "      <th>2</th>\n",
       "      <th>3</th>\n",
       "      <th>4</th>\n",
       "      <th>5</th>\n",
       "      <th>6</th>\n",
       "      <th>7</th>\n",
       "      <th>8</th>\n",
       "      <th>9</th>\n",
       "      <th>10</th>\n",
       "      <th>11</th>\n",
       "      <th>12</th>\n",
       "      <th>13</th>\n",
       "      <th>14</th>\n",
       "      <th>15</th>\n",
       "      <th>16</th>\n",
       "      <th>17</th>\n",
       "      <th>18</th>\n",
       "      <th>19</th>\n",
       "      <th>20</th>\n",
       "      <th>21</th>\n",
       "      <th>22</th>\n",
       "      <th>23</th>\n",
       "      <th>26</th>\n",
       "    </tr>\n",
       "    <tr>\n",
       "      <th>row_0</th>\n",
       "      <th></th>\n",
       "      <th></th>\n",
       "      <th></th>\n",
       "      <th></th>\n",
       "      <th></th>\n",
       "      <th></th>\n",
       "      <th></th>\n",
       "      <th></th>\n",
       "      <th></th>\n",
       "      <th></th>\n",
       "      <th></th>\n",
       "      <th></th>\n",
       "      <th></th>\n",
       "      <th></th>\n",
       "      <th></th>\n",
       "      <th></th>\n",
       "      <th></th>\n",
       "      <th></th>\n",
       "      <th></th>\n",
       "      <th></th>\n",
       "      <th></th>\n",
       "      <th></th>\n",
       "      <th></th>\n",
       "      <th></th>\n",
       "    </tr>\n",
       "  </thead>\n",
       "  <tbody>\n",
       "    <tr>\n",
       "      <th>counts</th>\n",
       "      <td>1</td>\n",
       "      <td>32</td>\n",
       "      <td>72</td>\n",
       "      <td>203</td>\n",
       "      <td>362</td>\n",
       "      <td>623</td>\n",
       "      <td>877</td>\n",
       "      <td>1153</td>\n",
       "      <td>1229</td>\n",
       "      <td>1247</td>\n",
       "      <td>1124</td>\n",
       "      <td>994</td>\n",
       "      <td>710</td>\n",
       "      <td>543</td>\n",
       "      <td>313</td>\n",
       "      <td>231</td>\n",
       "      <td>138</td>\n",
       "      <td>74</td>\n",
       "      <td>41</td>\n",
       "      <td>14</td>\n",
       "      <td>11</td>\n",
       "      <td>5</td>\n",
       "      <td>2</td>\n",
       "      <td>1</td>\n",
       "    </tr>\n",
       "  </tbody>\n",
       "</table>\n",
       "</div>"
      ],
      "text/plain": [
       "col_0   1   2   3    4    5    6    7  ...  18  19  20  21  22  23  26\n",
       "row_0                                  ...                            \n",
       "counts   1  32  72  203  362  623  877 ...  74  41  14  11   5   2   1\n",
       "\n",
       "[1 rows x 24 columns]"
      ]
     },
     "execution_count": 31,
     "metadata": {},
     "output_type": "execute_result"
    },
    {
     "data": {
      "image/png": "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\n",
      "text/plain": [
       "<Figure size 504x504 with 1 Axes>"
      ]
     },
     "metadata": {},
     "output_type": "display_data"
    }
   ],
   "source": [
    "random.seed(12)\n",
    "\n",
    "arrival_rate_10 = stats.poisson.rvs(size=10000,  # Generate Poisson data\n",
    "                                   mu=10 )       # Average arrival time 10\n",
    "# Plot histogram\n",
    "sns.distplot(arrival_rate_10, kde=False, bins=max(arrival_rate_10)+1)\n",
    "\n",
    "# Print table of counts\n",
    "pd.crosstab(index=\"counts\", columns= arrival_rate_10)"
   ]
  },
  {
   "cell_type": "code",
   "execution_count": 32,
   "metadata": {
    "execution": {
     "iopub.execute_input": "2024-04-21T19:58:43.160848Z",
     "iopub.status.busy": "2024-04-21T19:58:43.159719Z",
     "iopub.status.idle": "2024-04-21T19:58:43.170760Z",
     "shell.execute_reply": "2024-04-21T19:58:43.169697Z",
     "shell.execute_reply.started": "2024-04-21T19:58:43.160738Z"
    }
   },
   "outputs": [
    {
     "data": {
      "text/plain": [
       "0.06708596287903189"
      ]
     },
     "execution_count": 32,
     "metadata": {},
     "output_type": "execute_result"
    }
   ],
   "source": [
    "stats.poisson.cdf(k=5,     # Check the probability of 5 arrivals or less\n",
    "                  mu=10)   # With arrival rate 10"
   ]
  },
  {
   "cell_type": "code",
   "execution_count": 33,
   "metadata": {
    "execution": {
     "iopub.execute_input": "2024-04-21T19:58:43.172756Z",
     "iopub.status.busy": "2024-04-21T19:58:43.172303Z",
     "iopub.status.idle": "2024-04-21T19:58:43.185033Z",
     "shell.execute_reply": "2024-04-21T19:58:43.184028Z",
     "shell.execute_reply.started": "2024-04-21T19:58:43.172686Z"
    }
   },
   "outputs": [
    {
     "data": {
      "text/plain": [
       "0.12511003572113372"
      ]
     },
     "execution_count": 33,
     "metadata": {},
     "output_type": "execute_result"
    }
   ],
   "source": [
    "stats.poisson.pmf(k=10,     # Check the prob f exactly 10 arrivals\n",
    "                  mu=10)    # With arrival rate 10"
   ]
  },
  {
   "cell_type": "markdown",
   "metadata": {},
   "source": [
    "## Wrap Up"
   ]
  },
  {
   "cell_type": "markdown",
   "metadata": {},
   "source": [
    "- Python's scipy library contains functions that make it easy to work with a wide range of probability distributions, including [many that we did not discuss](https://docs.scipy.org/doc/scipy/reference/stats.html) in this lesson. \n",
    "- Probability distribution functions are useful for generating random data, modeling random events and aiding with statistical tests and analysis."
   ]
  }
 ],
 "metadata": {
  "kaggle": {
   "accelerator": "none",
   "dataSources": [
    {
     "databundleVersionId": 26502,
     "sourceId": 3136,
     "sourceType": "competition"
    }
   ],
   "dockerImageVersionId": 24140,
   "isGpuEnabled": false,
   "isInternetEnabled": false,
   "language": "python",
   "sourceType": "notebook"
  },
  "kernelspec": {
   "display_name": "Python 3",
   "language": "python",
   "name": "python3"
  },
  "language_info": {
   "codemirror_mode": {
    "name": "ipython",
    "version": 3
   },
   "file_extension": ".py",
   "mimetype": "text/x-python",
   "name": "python",
   "nbconvert_exporter": "python",
   "pygments_lexer": "ipython3",
   "version": "3.6.6"
  }
 },
 "nbformat": 4,
 "nbformat_minor": 4
}
=======
{"metadata":{"kernelspec":{"display_name":"Python 3","language":"python","name":"python3"},"language_info":{"name":"python","version":"3.6.6","mimetype":"text/x-python","codemirror_mode":{"name":"ipython","version":3},"pygments_lexer":"ipython3","nbconvert_exporter":"python","file_extension":".py"},"kaggle":{"accelerator":"none","dataSources":[{"sourceId":3136,"databundleVersionId":26502,"sourceType":"competition"}],"dockerImageVersionId":24140,"isInternetEnabled":false,"language":"python","sourceType":"notebook","isGpuEnabled":false}},"nbformat_minor":4,"nbformat":4,"cells":[{"cell_type":"markdown","source":"# Probability Distributions","metadata":{"_uuid":"8f2839f25d086af736a60e9eeb907d3b93b6e0e5","_cell_guid":"b1076dfc-b9ad-4769-8c92-a6c4dae69d19","trusted":true}},{"cell_type":"markdown","source":"When working with data, variables in the columns of the data set can be thought of as random variables: variables that vary due to chance. \n\nA **probability distribution** describes how a random variable is distributed; it tells us which values a random variable is most likely to take on and which values are less likely on a scale from 0 (the event never occurs) to 1 (the event always occurs). ","metadata":{}},{"cell_type":"code","source":"%matplotlib inline\n\nimport numpy as np\nimport pandas as pd\nimport matplotlib.pyplot as plt\nimport seaborn as sns\nimport scipy.stats as stats\nimport random","metadata":{"execution":{"iopub.status.busy":"2024-04-21T19:58:39.050118Z","iopub.execute_input":"2024-04-21T19:58:39.050500Z","iopub.status.idle":"2024-04-21T19:58:39.056936Z","shell.execute_reply.started":"2024-04-21T19:58:39.050440Z","shell.execute_reply":"2024-04-21T19:58:39.055855Z"},"trusted":true},"execution_count":40,"outputs":[]},{"cell_type":"markdown","source":"## 1. The Uniform Distribution","metadata":{}},{"cell_type":"markdown","source":"The uniform distribution is a probability distribution where each value within a certain range is **equally likely to occur** and values outside of the range never occur.\n\n<img src = \"https://i.ytimg.com/vi/UC-CBUSQXAo/maxresdefault.jpg\" alt=\"Uniform Distribution\" width=\"500\">","metadata":{}},{"cell_type":"code","source":"help(stats.uniform.rvs)","metadata":{"execution":{"iopub.status.busy":"2024-04-21T19:58:39.058591Z","iopub.execute_input":"2024-04-21T19:58:39.058887Z","iopub.status.idle":"2024-04-21T19:58:39.070607Z","shell.execute_reply.started":"2024-04-21T19:58:39.058837Z","shell.execute_reply":"2024-04-21T19:58:39.069712Z"},"trusted":true},"execution_count":41,"outputs":[{"name":"stdout","text":"Help on method rvs in module scipy.stats._distn_infrastructure:\n\nrvs(*args, **kwds) method of scipy.stats._continuous_distns.uniform_gen instance\n    Random variates of given type.\n    \n    Parameters\n    ----------\n    arg1, arg2, arg3,... : array_like\n        The shape parameter(s) for the distribution (see docstring of the\n        instance object for more information).\n    loc : array_like, optional\n        Location parameter (default=0).\n    scale : array_like, optional\n        Scale parameter (default=1).\n    size : int or tuple of ints, optional\n        Defining number of random variates (default is 1).\n    random_state : None or int or ``np.random.RandomState`` instance, optional\n        If int or RandomState, use it for drawing the random variates.\n        If None, rely on ``self.random_state``.\n        Default is None.\n    \n    Returns\n    -------\n    rvs : ndarray or scalar\n        Random variates of given `size`.\n\n","output_type":"stream"}]},{"cell_type":"markdown","source":"`stats.distribution.rvs()` generates random numbers from the specified distribution. ","metadata":{}},{"cell_type":"code","source":"uniform_data = stats.uniform.rvs(size=100000,  # Generate 100000 numbers\n                                 loc = 0,      # From 0 \n                                 scale=10)     # To 10\n\nsns.kdeplot(uniform_data);","metadata":{"execution":{"iopub.status.busy":"2024-04-21T19:58:39.071940Z","iopub.execute_input":"2024-04-21T19:58:39.072217Z","iopub.status.idle":"2024-04-21T19:58:39.460853Z","shell.execute_reply.started":"2024-04-21T19:58:39.072165Z","shell.execute_reply":"2024-04-21T19:58:39.459573Z"},"trusted":true},"execution_count":42,"outputs":[{"name":"stderr","text":"/opt/conda/lib/python3.6/site-packages/scipy/stats/stats.py:1713: FutureWarning: Using a non-tuple sequence for multidimensional indexing is deprecated; use `arr[tuple(seq)]` instead of `arr[seq]`. In the future this will be interpreted as an array index, `arr[np.array(seq)]`, which will result either in an error or a different result.\n  return np.add.reduce(sorted[indexer] * weights, axis=axis) / sumval\n","output_type":"stream"},{"output_type":"display_data","data":{"text/plain":"<Figure size 432x288 with 1 Axes>","image/png":"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\n"},"metadata":{}}]},{"cell_type":"markdown","source":"#### Cumulative Distribution Function (CDF)\n<img src=\"https://miro.medium.com/v2/resize:fit:1358/0*GVMTk0rK2VOHslEV.png\" alt=\"Cumulative Distribution Function (CDF)\" width=\"500\">\n\n- `stats.distribution.cdf()` is used to determine the probability that an observation drawn from a distribution falls below a specified value (known as the [cumulative distribution function](https://en.wikipedia.org/wiki/Cumulative_distribution_function)). \n- In essence, `cdf()` gives you the area under the distribution's density curve to the left of a certain value on the x axis. \n- For example, in the uniform distribution above, there is a 25% chance that an observation will be in the range 0 to 2.5 and a 75% chance it will fall in the range 2.5 to 10. ","metadata":{}},{"cell_type":"code","source":"stats.uniform.cdf(x=2.5,         # Cutoff value (quantile) to check\n                  loc=0,         # Distribution start\n                  scale=10)      # Distribution end","metadata":{"execution":{"iopub.status.busy":"2024-04-21T19:58:39.462971Z","iopub.execute_input":"2024-04-21T19:58:39.463712Z","iopub.status.idle":"2024-04-21T19:58:39.473818Z","shell.execute_reply.started":"2024-04-21T19:58:39.463629Z","shell.execute_reply":"2024-04-21T19:58:39.472591Z"},"trusted":true},"execution_count":43,"outputs":[{"execution_count":43,"output_type":"execute_result","data":{"text/plain":"0.25"},"metadata":{}}]},{"cell_type":"markdown","source":"- `stats.distribution.ppf()` is the inverse of `cdf()`: it returns the x axis cutoff value (quantile) associated with a given probability. \n- For instance, if we want to know the cutoff value for which we have a 40% chance of drawing an observation below that value.","metadata":{}},{"cell_type":"code","source":"stats.uniform.ppf(q=0.4,         # Probability cutoff\n                  loc=0,         # Distribution start\n                  scale=10)      # Distribution end","metadata":{"execution":{"iopub.status.busy":"2024-04-21T19:58:39.476391Z","iopub.execute_input":"2024-04-21T19:58:39.477149Z","iopub.status.idle":"2024-04-21T19:58:39.488256Z","shell.execute_reply.started":"2024-04-21T19:58:39.477065Z","shell.execute_reply":"2024-04-21T19:58:39.486943Z"},"trusted":true},"execution_count":44,"outputs":[{"execution_count":44,"output_type":"execute_result","data":{"text/plain":"4.0"},"metadata":{}}]},{"cell_type":"markdown","source":"- `stats.distribution.pdf()` gives you the probability density (height of the distribution) at a given x value. \n- Since the uniform distribution is flat, all x values within its range will have the same probability density and x values outside the range have a probability density of 0.","metadata":{}},{"cell_type":"code","source":"for x in range(-1,12,3):\n    print(\"Density at x value \" + str(x))\n    print( stats.uniform.pdf(x, loc=0, scale=10) )   ","metadata":{"execution":{"iopub.status.busy":"2024-04-21T19:58:39.490306Z","iopub.execute_input":"2024-04-21T19:58:39.491327Z","iopub.status.idle":"2024-04-21T19:58:39.501995Z","shell.execute_reply.started":"2024-04-21T19:58:39.491226Z","shell.execute_reply":"2024-04-21T19:58:39.501321Z"},"trusted":true},"execution_count":45,"outputs":[{"name":"stdout","text":"Density at x value -1\n0.0\nDensity at x value 2\n0.1\nDensity at x value 5\n0.1\nDensity at x value 8\n0.1\nDensity at x value 11\n0.0\n","output_type":"stream"}]},{"cell_type":"code","source":"from scipy.stats import skew, kurtosis\n\nmean_value = uniform_data.mean()\nvariance_value = uniform_data.var()\nskewness_value = skew(uniform_data)\nkurtosis_value = kurtosis(uniform_data)\n\nprint(\"Mean:\", mean_value)\nprint(\"Variance:\", variance_value)\nprint(\"Skewness:\", skewness_value)\nprint(\"Kurtosis:\", kurtosis_value)","metadata":{"execution":{"iopub.status.busy":"2024-04-21T19:58:39.503012Z","iopub.execute_input":"2024-04-21T19:58:39.503436Z","iopub.status.idle":"2024-04-21T19:58:39.515524Z","shell.execute_reply.started":"2024-04-21T19:58:39.503380Z","shell.execute_reply":"2024-04-21T19:58:39.514500Z"},"trusted":true},"execution_count":46,"outputs":[{"name":"stdout","text":"Mean: 5.009601552689499\nVariance: 8.38031345072244\nSkewness: -0.007082532094914635\nKurtosis: -1.2074601978193225\n","output_type":"stream"}]},{"cell_type":"markdown","source":"Probability distribution functions in scipy also support median(), mean(), var() and std().","metadata":{}},{"cell_type":"code","source":"mean, variance, skewness, kurtosis = stats.uniform.stats(moments='mvsk')\n\nprint(\"Mean:\", mean)\nprint(\"Variance:\", variance)\nprint(\"Skewness:\", skewness)\nprint(\"Kurtosis:\", kurtosis)","metadata":{"execution":{"iopub.status.busy":"2024-04-21T19:58:39.517069Z","iopub.execute_input":"2024-04-21T19:58:39.517433Z","iopub.status.idle":"2024-04-21T19:58:39.524889Z","shell.execute_reply.started":"2024-04-21T19:58:39.517357Z","shell.execute_reply":"2024-04-21T19:58:39.524043Z"},"trusted":true},"execution_count":47,"outputs":[{"name":"stdout","text":"Mean: 0.5\nVariance: 0.08333333333333333\nSkewness: 0.0\nKurtosis: -1.2\n","output_type":"stream"}]},{"cell_type":"markdown","source":"#### Generating Random Numbers and Setting The Seed","metadata":{}},{"cell_type":"markdown","source":"Python also comes with a library called \"random\" that lets you perform various operations that involve randomization. ","metadata":{}},{"cell_type":"code","source":"# Get a random integer in the specified range\nprint('Integer random number: ',random.randint(0,10)  )\n\n# Get a real number between 0 and 1\nprint('Real random number: ',random.random()) \n\n# Get a random element from a sequence\nprint('return random number from list: ',random.choice([2,4,6,9])) \n\n# Get a real in the specified range\nprint('return random number from range: ', random.uniform(0,10))","metadata":{"execution":{"iopub.status.busy":"2024-04-21T19:58:39.526227Z","iopub.execute_input":"2024-04-21T19:58:39.526567Z","iopub.status.idle":"2024-04-21T19:58:39.538164Z","shell.execute_reply.started":"2024-04-21T19:58:39.526513Z","shell.execute_reply":"2024-04-21T19:58:39.536997Z"},"trusted":true},"execution_count":48,"outputs":[{"name":"stdout","text":"Integer random number:  7\nReal random number:  0.2689949546566046\nreturn random number from list:  6\nreturn random number from range:  1.4260035292536777\n","output_type":"stream"}]},{"cell_type":"markdown","source":"**Generated the exact same numbers using `random.seed()`**","metadata":{}},{"cell_type":"code","source":"random.seed(12)  # Set the seed to an arbitrary value\nprint([random.uniform(0,10) for x in range(4)])\n\nrandom.seed(12)  # Set the seed to the same value\nprint([random.uniform(0,10) for x in range(4)])","metadata":{"execution":{"iopub.status.busy":"2024-04-21T19:58:39.539252Z","iopub.execute_input":"2024-04-21T19:58:39.539723Z","iopub.status.idle":"2024-04-21T19:58:39.551634Z","shell.execute_reply.started":"2024-04-21T19:58:39.539662Z","shell.execute_reply":"2024-04-21T19:58:39.550651Z"},"trusted":true},"execution_count":49,"outputs":[{"name":"stdout","text":"[4.7457067868854805, 6.574725026572553, 6.664104711248381, 1.4260035292536777]\n[4.7457067868854805, 6.574725026572553, 6.664104711248381, 1.4260035292536777]\n","output_type":"stream"}]},{"cell_type":"markdown","source":"---\n## 2. The Normal Distribution","metadata":{}},{"cell_type":"markdown","source":"Many real world phenomena, like IQ test scores and human heights, so it is often used to model random variables. Many common statistical tests assume distributions are normal.\n- A normal distribution is defined by its center (mean) and spread (standard deviation). \n- The distribution: as a rule of thumb, about 68% of the data lies within 1 standard deviation of the mean, 95% lies within 2 standard deviations and 99.7% lies within 3 standard deviations.\n\n<img src=\"https://media.licdn.com/dms/image/D5612AQG8zrJjcL54ZQ/article-cover_image-shrink_720_1280/0/1677870809878?e=2147483647&v=beta&t=b7PE_5vElyBGzVwADb7Z14OoDni_vutH3IlMdmVH6JM\" alt=\"Normal distribution\" width=\"500\">","metadata":{}},{"cell_type":"code","source":"prob_under_minus1 = stats.norm.cdf(x= -1,   # Cutoff value (quantile) to check\n                                loc = 0,    # Mean = 0           \n                                scale= 1)   # std = 1 \n\nprob_over_1 = 1 - stats.norm.cdf(x= 1,  \n                                loc = 0,               \n                                scale= 1) \n\nbetween_prob = 1-(prob_under_minus1+prob_over_1)\n\nprint(prob_under_minus1, prob_over_1, between_prob)","metadata":{"execution":{"iopub.status.busy":"2024-04-21T19:58:39.553696Z","iopub.execute_input":"2024-04-21T19:58:39.554006Z","iopub.status.idle":"2024-04-21T19:58:39.563406Z","shell.execute_reply.started":"2024-04-21T19:58:39.553952Z","shell.execute_reply":"2024-04-21T19:58:39.562609Z"},"trusted":true},"execution_count":50,"outputs":[{"name":"stdout","text":"0.15865525393145707 0.15865525393145707 0.6826894921370859\n","output_type":"stream"}]},{"cell_type":"markdown","source":"The output shows that roughly 16% of the data generated by a normal distribution with mean 0 and standard deviation 1 is below -1, 16% is above 1 and 68% lies between -1 and 1, which agrees with the 68, 95, 99.7 rule. Let's plot the normal distribution and inspect areas we calculated:","metadata":{}},{"cell_type":"code","source":"# Plot normal distribution areas*\nplt.rcParams[\"figure.figsize\"] = (7,7)\n                                  \nplt.fill_between(x=np.arange(-4,-1,0.01), \n                 y1= stats.norm.pdf(np.arange(-4,-1,0.01)) ,\n                 facecolor='red',\n                 alpha=0.35)\n\nplt.fill_between(x=np.arange(1,4,0.01), \n                 y1= stats.norm.pdf(np.arange(1,4,0.01)) ,\n                 facecolor='red',\n                 alpha=0.35)\n\nplt.fill_between(x=np.arange(-1,1,0.01), \n                 y1= stats.norm.pdf(np.arange(-1,1,0.01)) ,\n                 facecolor='blue',\n                 alpha=0.35)\n\nplt.text(x=-1.8, y=0.03, s= round(prob_under_minus1,3))\nplt.text(x=-0.2, y=0.1, s= round(between_prob,3))\nplt.text(x=1.4, y=0.03, s= round(prob_over_1,3));","metadata":{"execution":{"iopub.status.busy":"2024-04-21T19:58:39.564376Z","iopub.execute_input":"2024-04-21T19:58:39.564644Z","iopub.status.idle":"2024-04-21T19:58:40.031489Z","shell.execute_reply.started":"2024-04-21T19:58:39.564594Z","shell.execute_reply":"2024-04-21T19:58:40.030597Z"},"trusted":true},"execution_count":51,"outputs":[{"output_type":"display_data","data":{"text/plain":"<Figure size 504x504 with 1 Axes>","image/png":"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\n"},"metadata":{}}]},{"cell_type":"code","source":"print( stats.norm.ppf(q=0.16) ) # Find the quantile for the 16% cutoff\nprint( stats.norm.ppf(q=0.84) ) # Find the quantile for the (100-16)=84% cutoff","metadata":{"execution":{"iopub.status.busy":"2024-04-21T19:58:40.033060Z","iopub.execute_input":"2024-04-21T19:58:40.033350Z","iopub.status.idle":"2024-04-21T19:58:40.040371Z","shell.execute_reply.started":"2024-04-21T19:58:40.033290Z","shell.execute_reply":"2024-04-21T19:58:40.039055Z"},"trusted":true},"execution_count":52,"outputs":[{"name":"stdout","text":"-0.994457883209753\n0.994457883209753\n","output_type":"stream"}]},{"cell_type":"markdown","source":"> **The quantile output above confirms that roughly 68% of the data lies between -1 to 1 standard deviations from the mean.**","metadata":{}},{"cell_type":"code","source":"print( stats.norm.ppf(q=0.025) ) # Find the quantile for the 2.5% cutoff\nprint( stats.norm.ppf(q=0.975) ) # Find the quantile for the (100-2.5)=97.5% cutoff","metadata":{"execution":{"iopub.status.busy":"2024-04-21T19:58:40.042298Z","iopub.execute_input":"2024-04-21T19:58:40.042760Z","iopub.status.idle":"2024-04-21T19:58:40.053023Z","shell.execute_reply.started":"2024-04-21T19:58:40.042678Z","shell.execute_reply":"2024-04-21T19:58:40.051851Z"},"trusted":true},"execution_count":53,"outputs":[{"name":"stdout","text":"-1.9599639845400545\n1.959963984540054\n","output_type":"stream"}]},{"cell_type":"markdown","source":"> **The quantile output above confirms that roughly 95% of the data lies between -2 (-1.96) to 2 (+1.96) standard deviations from the mean.**","metadata":{}},{"cell_type":"code","source":"print( stats.norm.ppf(q=0.0015) ) # Find the quantile for the 0.15% cutoff\nprint( stats.norm.ppf(q=0.9985) ) # Find the quantile for the (100-0.15)=99.85% cutoff","metadata":{"execution":{"iopub.status.busy":"2024-04-21T19:58:40.054512Z","iopub.execute_input":"2024-04-21T19:58:40.054880Z","iopub.status.idle":"2024-04-21T19:58:40.066245Z","shell.execute_reply.started":"2024-04-21T19:58:40.054821Z","shell.execute_reply":"2024-04-21T19:58:40.065238Z"},"trusted":true},"execution_count":54,"outputs":[{"name":"stdout","text":"-2.9677379253417833\n2.9677379253417944\n","output_type":"stream"}]},{"cell_type":"markdown","source":"> **The quantile output above confirms that roughly 99.7% of the data lies between -3 (-2.96) to 3 (+2.96) standard deviations from the mean.**","metadata":{}},{"cell_type":"markdown","source":"---\n## The Binomial Distribution","metadata":{}},{"cell_type":"markdown","source":"The [binomial distribution](https://en.wikipedia.org/wiki/Binomial_distribution) is a **discrete** probability distribution that models the outcomes of a given number of random trails of some experiment or event. \n- The binomial is defined by two parameters: the probability of success in any given trial and the number of trials. \n- The binomial distribution tells you **how likely it is to achieve a given number of successes** in **n** trials of the experiment. \n- For example, we could model flipping a fair coin 10 times with a binomial distribution where the number of trials is set to 10 and the probability of success is set to 0.5. In this case the distribution would tell us how likely it is to get zero heads, 1 head, 2 heads and so on.","metadata":{}},{"cell_type":"code","source":"# عملت 10000 تجربه ف كل مره كنت بعمل ملك وكتابه 10 مرات واعد طلع الملك كام مره \nfair_coin_flips = stats.binom.rvs(n=10,        # Number of flips per trial\n                                  p=0.5,       # Success probability\n                                  size=10000)  # Number of trials\nfair_coin_flips, len(fair_coin_flips)","metadata":{"execution":{"iopub.status.busy":"2024-04-21T19:58:40.068183Z","iopub.execute_input":"2024-04-21T19:58:40.068568Z","iopub.status.idle":"2024-04-21T19:58:40.080317Z","shell.execute_reply.started":"2024-04-21T19:58:40.068498Z","shell.execute_reply":"2024-04-21T19:58:40.079053Z"},"trusted":true},"execution_count":55,"outputs":[{"execution_count":55,"output_type":"execute_result","data":{"text/plain":"(array([6, 2, 3, ..., 5, 7, 2]), 10000)"},"metadata":{}}]},{"cell_type":"code","source":"pd.crosstab(index='counts', columns=fair_coin_flips)","metadata":{"execution":{"iopub.status.busy":"2024-04-21T19:58:40.082115Z","iopub.execute_input":"2024-04-21T19:58:40.082525Z","iopub.status.idle":"2024-04-21T19:58:40.131145Z","shell.execute_reply.started":"2024-04-21T19:58:40.082446Z","shell.execute_reply":"2024-04-21T19:58:40.129969Z"},"trusted":true},"execution_count":56,"outputs":[{"execution_count":56,"output_type":"execute_result","data":{"text/plain":"col_0   0   1    2     3     4     5     6     7    8   9   10\nrow_0                                                         \ncounts   8  89  416  1170  1992  2541  2031  1231  424  92   6","text/html":"<div>\n<style scoped>\n    .dataframe tbody tr th:only-of-type {\n        vertical-align: middle;\n    }\n\n    .dataframe tbody tr th {\n        vertical-align: top;\n    }\n\n    .dataframe thead th {\n        text-align: right;\n    }\n</style>\n<table border=\"1\" class=\"dataframe\">\n  <thead>\n    <tr style=\"text-align: right;\">\n      <th>col_0</th>\n      <th>0</th>\n      <th>1</th>\n      <th>2</th>\n      <th>3</th>\n      <th>4</th>\n      <th>5</th>\n      <th>6</th>\n      <th>7</th>\n      <th>8</th>\n      <th>9</th>\n      <th>10</th>\n    </tr>\n    <tr>\n      <th>row_0</th>\n      <th></th>\n      <th></th>\n      <th></th>\n      <th></th>\n      <th></th>\n      <th></th>\n      <th></th>\n      <th></th>\n      <th></th>\n      <th></th>\n      <th></th>\n    </tr>\n  </thead>\n  <tbody>\n    <tr>\n      <th>counts</th>\n      <td>8</td>\n      <td>89</td>\n      <td>416</td>\n      <td>1170</td>\n      <td>1992</td>\n      <td>2541</td>\n      <td>2031</td>\n      <td>1231</td>\n      <td>424</td>\n      <td>92</td>\n      <td>6</td>\n    </tr>\n  </tbody>\n</table>\n</div>"},"metadata":{}}]},{"cell_type":"code","source":"sns.distplot(fair_coin_flips, bins=11, kde=False)","metadata":{"execution":{"iopub.status.busy":"2024-04-21T19:58:40.132633Z","iopub.execute_input":"2024-04-21T19:58:40.133029Z","iopub.status.idle":"2024-04-21T19:58:40.552090Z","shell.execute_reply.started":"2024-04-21T19:58:40.132953Z","shell.execute_reply":"2024-04-21T19:58:40.550509Z"},"trusted":true},"execution_count":57,"outputs":[{"execution_count":57,"output_type":"execute_result","data":{"text/plain":"<matplotlib.axes._subplots.AxesSubplot at 0x7ae7343fd550>"},"metadata":{}},{"output_type":"display_data","data":{"text/plain":"<Figure size 504x504 with 1 Axes>","image/png":"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\n"},"metadata":{}}]},{"cell_type":"markdown","source":"- The binomial distribution is discrete, it only takes on integer values so we can summarize binomial data with a frequency table and its distribution with a histogram. \n- The histogram shows us that a binomial distribution with a 50% probability of success is roughly symmetric, with the most likely outcomes lying at the center. This is reminiscent of the normal distribution.\n- If we alter the success probability, the distribution won't be symmetric.","metadata":{}},{"cell_type":"code","source":"biased_coin_flips = stats.binom.rvs(n=10,      # Number of flips per trial\n                                  p=0.8,       # Success probability\n                                  size=10000)  # Number of trials\n\n\n# Plot histogram\nsns.distplot(biased_coin_flips, bins=11, kde=False)\n\n# Print table of counts\npd.crosstab(index=\"counts\", columns= biased_coin_flips)","metadata":{"execution":{"iopub.status.busy":"2024-04-21T19:58:40.554145Z","iopub.execute_input":"2024-04-21T19:58:40.554683Z","iopub.status.idle":"2024-04-21T19:58:41.040074Z","shell.execute_reply.started":"2024-04-21T19:58:40.554591Z","shell.execute_reply":"2024-04-21T19:58:41.038604Z"},"trusted":true},"execution_count":58,"outputs":[{"execution_count":58,"output_type":"execute_result","data":{"text/plain":"col_0   2   3   4    5    6     7     8     9     10\nrow_0                                               \ncounts   2   9  45  269  916  2014  3035  2697  1013","text/html":"<div>\n<style scoped>\n    .dataframe tbody tr th:only-of-type {\n        vertical-align: middle;\n    }\n\n    .dataframe tbody tr th {\n        vertical-align: top;\n    }\n\n    .dataframe thead th {\n        text-align: right;\n    }\n</style>\n<table border=\"1\" class=\"dataframe\">\n  <thead>\n    <tr style=\"text-align: right;\">\n      <th>col_0</th>\n      <th>2</th>\n      <th>3</th>\n      <th>4</th>\n      <th>5</th>\n      <th>6</th>\n      <th>7</th>\n      <th>8</th>\n      <th>9</th>\n      <th>10</th>\n    </tr>\n    <tr>\n      <th>row_0</th>\n      <th></th>\n      <th></th>\n      <th></th>\n      <th></th>\n      <th></th>\n      <th></th>\n      <th></th>\n      <th></th>\n      <th></th>\n    </tr>\n  </thead>\n  <tbody>\n    <tr>\n      <th>counts</th>\n      <td>2</td>\n      <td>9</td>\n      <td>45</td>\n      <td>269</td>\n      <td>916</td>\n      <td>2014</td>\n      <td>3035</td>\n      <td>2697</td>\n      <td>1013</td>\n    </tr>\n  </tbody>\n</table>\n</div>"},"metadata":{}},{"output_type":"display_data","data":{"text/plain":"<Figure size 504x504 with 1 Axes>","image/png":"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\n"},"metadata":{}}]},{"cell_type":"markdown","source":"The cdf() function lets us check the probability of achieving a number of successes within a certain range:","metadata":{}},{"cell_type":"code","source":"stats.binom.cdf(k=5,        # Probability of k = 5 successes or less\n                n=10,       # With 10 flips\n                p=0.8)      # And success probability 0.8","metadata":{"execution":{"iopub.status.busy":"2024-04-21T19:58:41.042463Z","iopub.execute_input":"2024-04-21T19:58:41.043479Z","iopub.status.idle":"2024-04-21T19:58:41.053588Z","shell.execute_reply.started":"2024-04-21T19:58:41.043380Z","shell.execute_reply":"2024-04-21T19:58:41.052820Z"},"trusted":true},"execution_count":59,"outputs":[{"execution_count":59,"output_type":"execute_result","data":{"text/plain":"0.032793497599999964"},"metadata":{}}]},{"cell_type":"code","source":"1 - stats.binom.cdf(k=8,        # Probability of k = 9 successes or more\n                    n=10,       # With 10 flips\n                    p=0.8)      # And success probability 0.8","metadata":{"execution":{"iopub.status.busy":"2024-04-21T19:58:41.054949Z","iopub.execute_input":"2024-04-21T19:58:41.055509Z","iopub.status.idle":"2024-04-21T19:58:41.067677Z","shell.execute_reply.started":"2024-04-21T19:58:41.055435Z","shell.execute_reply":"2024-04-21T19:58:41.066612Z"},"trusted":true},"execution_count":60,"outputs":[{"execution_count":60,"output_type":"execute_result","data":{"text/plain":"0.37580963840000003"},"metadata":{}}]},{"cell_type":"markdown","source":"- For **continuous** distributions like the normal, we use `pdf()` (probability density functions) to check the probability density at a given x value. \n- For **discrete** distributions like the binomial, we use `pmf()` (probability mass function) to check the mass (proportion of observations) at given number of successes k.","metadata":{}},{"cell_type":"code","source":"stats.binom.pmf(k=5,        # Probability of k = 5 successes\n                n=10,       # With 10 flips\n                p=0.5)      # And success probability 0.5","metadata":{"execution":{"iopub.status.busy":"2024-04-21T19:58:41.069074Z","iopub.execute_input":"2024-04-21T19:58:41.069443Z","iopub.status.idle":"2024-04-21T19:58:41.082156Z","shell.execute_reply.started":"2024-04-21T19:58:41.069383Z","shell.execute_reply":"2024-04-21T19:58:41.081055Z"},"trusted":true},"execution_count":61,"outputs":[{"execution_count":61,"output_type":"execute_result","data":{"text/plain":"0.24609375000000025"},"metadata":{}}]},{"cell_type":"code","source":"stats.binom.pmf(k=8,        # Probability of k = 8 successes\n                n=10,       # With 10 flips\n                p=0.8)      # And success probability 0.8","metadata":{"execution":{"iopub.status.busy":"2024-04-21T19:58:41.083499Z","iopub.execute_input":"2024-04-21T19:58:41.083838Z","iopub.status.idle":"2024-04-21T19:58:41.094674Z","shell.execute_reply.started":"2024-04-21T19:58:41.083789Z","shell.execute_reply":"2024-04-21T19:58:41.093515Z"},"trusted":true},"execution_count":62,"outputs":[{"execution_count":62,"output_type":"execute_result","data":{"text/plain":"0.301989888"},"metadata":{}}]},{"cell_type":"markdown","source":"---\n## 4. Geometric Distributions\nThe geometric and exponential distributions model the time it takes for an event to occur. The [geometric](https://www.youtube.com/watch?v=o5N8ZeMQZxY) distribution is discrete and models the number of **trials it takes to achieve a success** in repeated experiments with a given probability of success. ايه احتماليه ان النجاح يحصل بعد 5 تجارب مثلاوبالتالي التجارب دي هي ال random varaible","metadata":{}},{"cell_type":"code","source":"\nset(stats.geom.rvs(size=10000, p=0.5))","metadata":{"execution":{"iopub.status.busy":"2024-04-21T19:58:41.096329Z","iopub.execute_input":"2024-04-21T19:58:41.096675Z","iopub.status.idle":"2024-04-21T19:58:41.111635Z","shell.execute_reply.started":"2024-04-21T19:58:41.096602Z","shell.execute_reply":"2024-04-21T19:58:41.110724Z"},"trusted":true},"execution_count":63,"outputs":[{"execution_count":63,"output_type":"execute_result","data":{"text/plain":"{1, 2, 3, 4, 5, 6, 7, 8, 9, 10, 11, 12, 13, 14}"},"metadata":{}}]},{"cell_type":"code","source":"import random\nrandom.seed(12)\n\nflips_till_heads = stats.geom.rvs(size=10000,  # Generate geometric data\n                                  p=0.5)       # With success prob 0.5\n\n# Plot histogram\nsns.distplot(flips_till_heads, bins=max(flips_till_heads)+1, kde=False)\n\n# Print table of counts\npd.crosstab(index=\"counts\", columns= flips_till_heads)","metadata":{"execution":{"iopub.status.busy":"2024-04-21T19:58:41.113227Z","iopub.execute_input":"2024-04-21T19:58:41.113570Z","iopub.status.idle":"2024-04-21T19:58:41.583746Z","shell.execute_reply.started":"2024-04-21T19:58:41.113508Z","shell.execute_reply":"2024-04-21T19:58:41.582246Z"},"trusted":true},"execution_count":64,"outputs":[{"execution_count":64,"output_type":"execute_result","data":{"text/plain":"col_0     1     2     3    4    5    6   7   8   9   10  11  12  13\nrow_0                                                              \ncounts  4948  2534  1245  646  293  164  89  45  21   8   2   2   3","text/html":"<div>\n<style scoped>\n    .dataframe tbody tr th:only-of-type {\n        vertical-align: middle;\n    }\n\n    .dataframe tbody tr th {\n        vertical-align: top;\n    }\n\n    .dataframe thead th {\n        text-align: right;\n    }\n</style>\n<table border=\"1\" class=\"dataframe\">\n  <thead>\n    <tr style=\"text-align: right;\">\n      <th>col_0</th>\n      <th>1</th>\n      <th>2</th>\n      <th>3</th>\n      <th>4</th>\n      <th>5</th>\n      <th>6</th>\n      <th>7</th>\n      <th>8</th>\n      <th>9</th>\n      <th>10</th>\n      <th>11</th>\n      <th>12</th>\n      <th>13</th>\n    </tr>\n    <tr>\n      <th>row_0</th>\n      <th></th>\n      <th></th>\n      <th></th>\n      <th></th>\n      <th></th>\n      <th></th>\n      <th></th>\n      <th></th>\n      <th></th>\n      <th></th>\n      <th></th>\n      <th></th>\n      <th></th>\n    </tr>\n  </thead>\n  <tbody>\n    <tr>\n      <th>counts</th>\n      <td>4948</td>\n      <td>2534</td>\n      <td>1245</td>\n      <td>646</td>\n      <td>293</td>\n      <td>164</td>\n      <td>89</td>\n      <td>45</td>\n      <td>21</td>\n      <td>8</td>\n      <td>2</td>\n      <td>2</td>\n      <td>3</td>\n    </tr>\n  </tbody>\n</table>\n</div>"},"metadata":{}},{"output_type":"display_data","data":{"text/plain":"<Figure size 504x504 with 1 Axes>","image/png":"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\n"},"metadata":{}}]},{"cell_type":"markdown","source":"##### The distribution is very likely to get a heads in 1 or 2 flips, while it is very unlikely for it to take more than 5 flips to get a heads. In the 10,000 trails we generated, the longest it took to get a heads was 13 flips.","metadata":{}},{"cell_type":"code","source":"first_five = stats.geom.cdf(k=5,   # Prob of success in first 5 flips\n                           p=0.5)\n\n1 - first_five","metadata":{"execution":{"iopub.status.busy":"2024-04-21T19:58:41.585638Z","iopub.execute_input":"2024-04-21T19:58:41.586122Z","iopub.status.idle":"2024-04-21T19:58:41.600649Z","shell.execute_reply.started":"2024-04-21T19:58:41.586045Z","shell.execute_reply":"2024-04-21T19:58:41.599668Z"},"trusted":true},"execution_count":65,"outputs":[{"execution_count":65,"output_type":"execute_result","data":{"text/plain":"0.03125"},"metadata":{}}]},{"cell_type":"code","source":"stats.geom.pmf(k=2,   # Prob of needing exactly 2 flips to get first success\n              p=0.5)","metadata":{"execution":{"iopub.status.busy":"2024-04-21T19:58:41.601883Z","iopub.execute_input":"2024-04-21T19:58:41.602153Z","iopub.status.idle":"2024-04-21T19:58:41.612489Z","shell.execute_reply.started":"2024-04-21T19:58:41.602111Z","shell.execute_reply":"2024-04-21T19:58:41.611543Z"},"trusted":true},"execution_count":66,"outputs":[{"execution_count":66,"output_type":"execute_result","data":{"text/plain":"0.25"},"metadata":{}}]},{"cell_type":"markdown","source":"---\n## 5. Exponential Distributions\nThe exponential distribution is a continuous analog of the geometric distribution and models **the amount of time** you have to wait before an event occurs given a certain occurrence rate.","metadata":{}},{"cell_type":"code","source":"# Get the probability of waiting more than 1 time unit before a success\nprob_1 = stats.expon.cdf(x=1,        \n                         scale=1)  # Arrival rate\n\n1 - prob_1","metadata":{"execution":{"iopub.status.busy":"2024-04-21T19:58:41.613679Z","iopub.execute_input":"2024-04-21T19:58:41.613933Z","iopub.status.idle":"2024-04-21T19:58:41.625807Z","shell.execute_reply.started":"2024-04-21T19:58:41.613887Z","shell.execute_reply":"2024-04-21T19:58:41.624654Z"},"trusted":true},"execution_count":67,"outputs":[{"execution_count":67,"output_type":"execute_result","data":{"text/plain":"0.36787944117144233"},"metadata":{}}]},{"cell_type":"code","source":"plt.fill_between(x=np.arange(0,1,0.01), \n                 y1= stats.expon.pdf(np.arange(0,1,0.01)) ,\n                 facecolor='blue',\n                 alpha=0.35)\n\nplt.fill_between(x=np.arange(1,7,0.01), \n                 y1= stats.expon.pdf(np.arange(1,7,0.01)) ,\n                 facecolor='red',\n                 alpha=0.35)\n\nplt.text(x=0.17, y=0.2, s= round(prob_1,3))\nplt.text(x=1.2, y=0.08, s= round(1 - prob_1,3));","metadata":{"execution":{"iopub.status.busy":"2024-04-21T19:58:41.627572Z","iopub.execute_input":"2024-04-21T19:58:41.627960Z","iopub.status.idle":"2024-04-21T19:58:42.126289Z","shell.execute_reply.started":"2024-04-21T19:58:41.627887Z","shell.execute_reply":"2024-04-21T19:58:42.125002Z"},"trusted":true},"execution_count":68,"outputs":[{"output_type":"display_data","data":{"text/plain":"<Figure size 504x504 with 1 Axes>","image/png":"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\n"},"metadata":{}}]},{"cell_type":"markdown","source":"#### Similar to the geometric distribution, the exponential starts high and has a long tail that trails off to the right that contains rare cases where you have to wait much longer than average for an arrival.","metadata":{}},{"cell_type":"markdown","source":"---\n## 5. Poisson Distribution","metadata":{}},{"cell_type":"markdown","source":"The Poisson distribution models the probability of seeing a certain number of successes within a time interval.\n- The Poisson distribution can be used to model traffic, such as the number of arrivals a hospital can expect in a hour's time or the number of emails you'd expect to receive in a week.","metadata":{}},{"cell_type":"code","source":"random.seed(12)\n\narrival_rate_1 = stats.poisson.rvs(size=10000,  # Generate Poisson data\n                                   mu=1 )       # Average arrival time 1 (lambda)\n\n# Plot histogram\nsns.distplot(arrival_rate_1, kde=False, bins=max(arrival_rate_1)+1)\n\n# Print table of counts\npd.crosstab(index=\"counts\", columns= arrival_rate_1)","metadata":{"execution":{"iopub.status.busy":"2024-04-21T19:58:42.128335Z","iopub.execute_input":"2024-04-21T19:58:42.129098Z","iopub.status.idle":"2024-04-21T19:58:42.595686Z","shell.execute_reply.started":"2024-04-21T19:58:42.129015Z","shell.execute_reply":"2024-04-21T19:58:42.594192Z"},"trusted":true},"execution_count":69,"outputs":[{"execution_count":69,"output_type":"execute_result","data":{"text/plain":"col_0      0     1     2    3    4   5  6\nrow_0                                    \ncounts  3720  3629  1822  646  149  27  7","text/html":"<div>\n<style scoped>\n    .dataframe tbody tr th:only-of-type {\n        vertical-align: middle;\n    }\n\n    .dataframe tbody tr th {\n        vertical-align: top;\n    }\n\n    .dataframe thead th {\n        text-align: right;\n    }\n</style>\n<table border=\"1\" class=\"dataframe\">\n  <thead>\n    <tr style=\"text-align: right;\">\n      <th>col_0</th>\n      <th>0</th>\n      <th>1</th>\n      <th>2</th>\n      <th>3</th>\n      <th>4</th>\n      <th>5</th>\n      <th>6</th>\n    </tr>\n    <tr>\n      <th>row_0</th>\n      <th></th>\n      <th></th>\n      <th></th>\n      <th></th>\n      <th></th>\n      <th></th>\n      <th></th>\n    </tr>\n  </thead>\n  <tbody>\n    <tr>\n      <th>counts</th>\n      <td>3720</td>\n      <td>3629</td>\n      <td>1822</td>\n      <td>646</td>\n      <td>149</td>\n      <td>27</td>\n      <td>7</td>\n    </tr>\n  </tbody>\n</table>\n</div>"},"metadata":{}},{"output_type":"display_data","data":{"text/plain":"<Figure size 504x504 with 1 Axes>","image/png":"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\n"},"metadata":{}}]},{"cell_type":"markdown","source":"The histogram shows that when arrivals are relatively infrequent, it is rare to see more than a couple of arrivals in each time period. When the arrival rate is high, it becomes increasingly rare to see a low number of arrivals and the distribution starts to look more symmetric:","metadata":{}},{"cell_type":"code","source":"random.seed(12)\n\narrival_rate_10 = stats.poisson.rvs(size=10000,  # Generate Poisson data\n                                   mu=10 )       # Average arrival time 10\n# Plot histogram\nsns.distplot(arrival_rate_10, kde=False, bins=max(arrival_rate_10)+1)\n\n# Print table of counts\npd.crosstab(index=\"counts\", columns= arrival_rate_10)","metadata":{"execution":{"iopub.status.busy":"2024-04-21T19:58:42.597880Z","iopub.execute_input":"2024-04-21T19:58:42.598722Z","iopub.status.idle":"2024-04-21T19:58:43.157445Z","shell.execute_reply.started":"2024-04-21T19:58:42.598625Z","shell.execute_reply":"2024-04-21T19:58:43.155978Z"},"trusted":true},"execution_count":70,"outputs":[{"execution_count":70,"output_type":"execute_result","data":{"text/plain":"col_0   0   1   2   3    4    5    6    7  ...  18  19  20  21  22  23  24  25\nrow_0                                      ...                                \ncounts   1   6  19  73  209  427  627  898 ...  76  37  13  14   2   2   1   1\n\n[1 rows x 26 columns]","text/html":"<div>\n<style scoped>\n    .dataframe tbody tr th:only-of-type {\n        vertical-align: middle;\n    }\n\n    .dataframe tbody tr th {\n        vertical-align: top;\n    }\n\n    .dataframe thead th {\n        text-align: right;\n    }\n</style>\n<table border=\"1\" class=\"dataframe\">\n  <thead>\n    <tr style=\"text-align: right;\">\n      <th>col_0</th>\n      <th>0</th>\n      <th>1</th>\n      <th>2</th>\n      <th>3</th>\n      <th>4</th>\n      <th>5</th>\n      <th>6</th>\n      <th>7</th>\n      <th>8</th>\n      <th>9</th>\n      <th>10</th>\n      <th>11</th>\n      <th>12</th>\n      <th>13</th>\n      <th>14</th>\n      <th>15</th>\n      <th>16</th>\n      <th>17</th>\n      <th>18</th>\n      <th>19</th>\n      <th>20</th>\n      <th>21</th>\n      <th>22</th>\n      <th>23</th>\n      <th>24</th>\n      <th>25</th>\n    </tr>\n    <tr>\n      <th>row_0</th>\n      <th></th>\n      <th></th>\n      <th></th>\n      <th></th>\n      <th></th>\n      <th></th>\n      <th></th>\n      <th></th>\n      <th></th>\n      <th></th>\n      <th></th>\n      <th></th>\n      <th></th>\n      <th></th>\n      <th></th>\n      <th></th>\n      <th></th>\n      <th></th>\n      <th></th>\n      <th></th>\n      <th></th>\n      <th></th>\n      <th></th>\n      <th></th>\n      <th></th>\n      <th></th>\n    </tr>\n  </thead>\n  <tbody>\n    <tr>\n      <th>counts</th>\n      <td>1</td>\n      <td>6</td>\n      <td>19</td>\n      <td>73</td>\n      <td>209</td>\n      <td>427</td>\n      <td>627</td>\n      <td>898</td>\n      <td>1115</td>\n      <td>1283</td>\n      <td>1229</td>\n      <td>1099</td>\n      <td>933</td>\n      <td>694</td>\n      <td>547</td>\n      <td>336</td>\n      <td>238</td>\n      <td>120</td>\n      <td>76</td>\n      <td>37</td>\n      <td>13</td>\n      <td>14</td>\n      <td>2</td>\n      <td>2</td>\n      <td>1</td>\n      <td>1</td>\n    </tr>\n  </tbody>\n</table>\n</div>"},"metadata":{}},{"output_type":"display_data","data":{"text/plain":"<Figure size 504x504 with 1 Axes>","image/png":"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\n"},"metadata":{}}]},{"cell_type":"code","source":"stats.poisson.cdf(k=5,     # Check the probability of 5 arrivals or less\n                  mu=10)   # With arrival rate 10","metadata":{"execution":{"iopub.status.busy":"2024-04-21T19:58:43.159719Z","iopub.execute_input":"2024-04-21T19:58:43.160848Z","iopub.status.idle":"2024-04-21T19:58:43.170760Z","shell.execute_reply.started":"2024-04-21T19:58:43.160738Z","shell.execute_reply":"2024-04-21T19:58:43.169697Z"},"trusted":true},"execution_count":71,"outputs":[{"execution_count":71,"output_type":"execute_result","data":{"text/plain":"0.06708596287903189"},"metadata":{}}]},{"cell_type":"code","source":"stats.poisson.pmf(k=10,     # Check the prob f exactly 10 arrivals\n                  mu=10)    # With arrival rate 10","metadata":{"execution":{"iopub.status.busy":"2024-04-21T19:58:43.172303Z","iopub.execute_input":"2024-04-21T19:58:43.172756Z","iopub.status.idle":"2024-04-21T19:58:43.185033Z","shell.execute_reply.started":"2024-04-21T19:58:43.172686Z","shell.execute_reply":"2024-04-21T19:58:43.184028Z"},"trusted":true},"execution_count":72,"outputs":[{"execution_count":72,"output_type":"execute_result","data":{"text/plain":"0.12511003572113372"},"metadata":{}}]},{"cell_type":"markdown","source":"## Wrap Up","metadata":{}},{"cell_type":"markdown","source":"- Python's scipy library contains functions that make it easy to work with a wide range of probability distributions, including [many that we did not discuss](https://docs.scipy.org/doc/scipy/reference/stats.html) in this lesson. \n- Probability distribution functions are useful for generating random data, modeling random events and aiding with statistical tests and analysis.","metadata":{}}]}
>>>>>>> 6c9b9eb (add git ignore)
