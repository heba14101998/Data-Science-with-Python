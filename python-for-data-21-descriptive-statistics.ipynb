{
 "cells": [
  {
   "cell_type": "markdown",
   "metadata": {
    "_cell_guid": "b1076dfc-b9ad-4769-8c92-a6c4dae69d19",
    "_uuid": "8f2839f25d086af736a60e9eeb907d3b93b6e0e5"
   },
   "source": [
    "# Descriptive Statistics"
   ]
  },
  {
   "cell_type": "markdown",
   "metadata": {},
   "source": [
    "## Measures of Center"
   ]
  },
  {
   "cell_type": "code",
   "execution_count": 1,
   "metadata": {
    "execution": {
     "iopub.execute_input": "2024-04-20T22:57:32.084729Z",
     "iopub.status.busy": "2024-04-20T22:57:32.084093Z",
     "iopub.status.idle": "2024-04-20T22:57:32.325420Z",
     "shell.execute_reply": "2024-04-20T22:57:32.323748Z",
     "shell.execute_reply.started": "2024-04-20T22:57:32.084667Z"
    }
   },
   "outputs": [],
   "source": [
    "%matplotlib inline\n",
    "\n",
    "import numpy as np\n",
    "import pandas as pd\n",
    "import matplotlib.pyplot as plt"
   ]
  },
  {
   "cell_type": "code",
   "execution_count": 2,
   "metadata": {
    "execution": {
     "iopub.execute_input": "2024-04-20T22:59:43.979925Z",
     "iopub.status.busy": "2024-04-20T22:59:43.979583Z",
     "iopub.status.idle": "2024-04-20T22:59:43.991411Z",
     "shell.execute_reply": "2024-04-20T22:59:43.990447Z",
     "shell.execute_reply.started": "2024-04-20T22:59:43.979865Z"
    }
   },
   "outputs": [],
   "source": [
    "mtcars = pd.read_csv(\"/kaggle/input/mtcars/mtcars.csv\")\n",
    "mtcars = mtcars.rename(columns={\"Unnamed: 0\":\"model\"})\n",
    "mtcars.index = mtcars.model"
   ]
  },
  {
   "cell_type": "code",
   "execution_count": 3,
   "metadata": {
    "execution": {
     "iopub.execute_input": "2024-04-20T23:03:14.948783Z",
     "iopub.status.busy": "2024-04-20T23:03:14.948197Z",
     "iopub.status.idle": "2024-04-20T23:03:14.970397Z",
     "shell.execute_reply": "2024-04-20T23:03:14.968022Z",
     "shell.execute_reply.started": "2024-04-20T23:03:14.948728Z"
    }
   },
   "outputs": [
    {
     "name": "stdout",
     "output_type": "stream",
     "text": [
      "(32, 12)\n"
     ]
    },
    {
     "data": {
      "text/html": [
       "<div>\n",
       "<style scoped>\n",
       "    .dataframe tbody tr th:only-of-type {\n",
       "        vertical-align: middle;\n",
       "    }\n",
       "\n",
       "    .dataframe tbody tr th {\n",
       "        vertical-align: top;\n",
       "    }\n",
       "\n",
       "    .dataframe thead th {\n",
       "        text-align: right;\n",
       "    }\n",
       "</style>\n",
       "<table border=\"1\" class=\"dataframe\">\n",
       "  <thead>\n",
       "    <tr style=\"text-align: right;\">\n",
       "      <th></th>\n",
       "      <th>model</th>\n",
       "      <th>mpg</th>\n",
       "      <th>cyl</th>\n",
       "      <th>disp</th>\n",
       "      <th>hp</th>\n",
       "      <th>drat</th>\n",
       "      <th>wt</th>\n",
       "      <th>qsec</th>\n",
       "      <th>vs</th>\n",
       "      <th>am</th>\n",
       "      <th>gear</th>\n",
       "      <th>carb</th>\n",
       "    </tr>\n",
       "    <tr>\n",
       "      <th>model</th>\n",
       "      <th></th>\n",
       "      <th></th>\n",
       "      <th></th>\n",
       "      <th></th>\n",
       "      <th></th>\n",
       "      <th></th>\n",
       "      <th></th>\n",
       "      <th></th>\n",
       "      <th></th>\n",
       "      <th></th>\n",
       "      <th></th>\n",
       "      <th></th>\n",
       "    </tr>\n",
       "  </thead>\n",
       "  <tbody>\n",
       "    <tr>\n",
       "      <td>Mazda RX4</td>\n",
       "      <td>Mazda RX4</td>\n",
       "      <td>21.0</td>\n",
       "      <td>6</td>\n",
       "      <td>160.0</td>\n",
       "      <td>110</td>\n",
       "      <td>3.90</td>\n",
       "      <td>2.620</td>\n",
       "      <td>16.46</td>\n",
       "      <td>0</td>\n",
       "      <td>1</td>\n",
       "      <td>4</td>\n",
       "      <td>4</td>\n",
       "    </tr>\n",
       "    <tr>\n",
       "      <td>Mazda RX4 Wag</td>\n",
       "      <td>Mazda RX4 Wag</td>\n",
       "      <td>21.0</td>\n",
       "      <td>6</td>\n",
       "      <td>160.0</td>\n",
       "      <td>110</td>\n",
       "      <td>3.90</td>\n",
       "      <td>2.875</td>\n",
       "      <td>17.02</td>\n",
       "      <td>0</td>\n",
       "      <td>1</td>\n",
       "      <td>4</td>\n",
       "      <td>4</td>\n",
       "    </tr>\n",
       "    <tr>\n",
       "      <td>Datsun 710</td>\n",
       "      <td>Datsun 710</td>\n",
       "      <td>22.8</td>\n",
       "      <td>4</td>\n",
       "      <td>108.0</td>\n",
       "      <td>93</td>\n",
       "      <td>3.85</td>\n",
       "      <td>2.320</td>\n",
       "      <td>18.61</td>\n",
       "      <td>1</td>\n",
       "      <td>1</td>\n",
       "      <td>4</td>\n",
       "      <td>1</td>\n",
       "    </tr>\n",
       "    <tr>\n",
       "      <td>Hornet 4 Drive</td>\n",
       "      <td>Hornet 4 Drive</td>\n",
       "      <td>21.4</td>\n",
       "      <td>6</td>\n",
       "      <td>258.0</td>\n",
       "      <td>110</td>\n",
       "      <td>3.08</td>\n",
       "      <td>3.215</td>\n",
       "      <td>19.44</td>\n",
       "      <td>1</td>\n",
       "      <td>0</td>\n",
       "      <td>3</td>\n",
       "      <td>1</td>\n",
       "    </tr>\n",
       "    <tr>\n",
       "      <td>Hornet Sportabout</td>\n",
       "      <td>Hornet Sportabout</td>\n",
       "      <td>18.7</td>\n",
       "      <td>8</td>\n",
       "      <td>360.0</td>\n",
       "      <td>175</td>\n",
       "      <td>3.15</td>\n",
       "      <td>3.440</td>\n",
       "      <td>17.02</td>\n",
       "      <td>0</td>\n",
       "      <td>0</td>\n",
       "      <td>3</td>\n",
       "      <td>2</td>\n",
       "    </tr>\n",
       "  </tbody>\n",
       "</table>\n",
       "</div>"
      ],
      "text/plain": [
       "                               model   mpg  cyl   disp   hp  drat     wt  \\\n",
       "model                                                                      \n",
       "Mazda RX4                  Mazda RX4  21.0    6  160.0  110  3.90  2.620   \n",
       "Mazda RX4 Wag          Mazda RX4 Wag  21.0    6  160.0  110  3.90  2.875   \n",
       "Datsun 710                Datsun 710  22.8    4  108.0   93  3.85  2.320   \n",
       "Hornet 4 Drive        Hornet 4 Drive  21.4    6  258.0  110  3.08  3.215   \n",
       "Hornet Sportabout  Hornet Sportabout  18.7    8  360.0  175  3.15  3.440   \n",
       "\n",
       "                    qsec  vs  am  gear  carb  \n",
       "model                                         \n",
       "Mazda RX4          16.46   0   1     4     4  \n",
       "Mazda RX4 Wag      17.02   0   1     4     4  \n",
       "Datsun 710         18.61   1   1     4     1  \n",
       "Hornet 4 Drive     19.44   1   0     3     1  \n",
       "Hornet Sportabout  17.02   0   0     3     2  "
      ]
     },
     "execution_count": 3,
     "metadata": {},
     "output_type": "execute_result"
    }
   ],
   "source": [
    "print(mtcars.shape)\n",
    "mtcars.head(5)"
   ]
  },
  {
   "cell_type": "code",
   "execution_count": 4,
   "metadata": {
    "execution": {
     "iopub.execute_input": "2024-04-20T23:00:18.616904Z",
     "iopub.status.busy": "2024-04-20T23:00:18.616462Z",
     "iopub.status.idle": "2024-04-20T23:00:18.637675Z",
     "shell.execute_reply": "2024-04-20T23:00:18.636658Z",
     "shell.execute_reply.started": "2024-04-20T23:00:18.616841Z"
    }
   },
   "outputs": [
    {
     "data": {
      "text/html": [
       "<div>\n",
       "<style scoped>\n",
       "    .dataframe tbody tr th:only-of-type {\n",
       "        vertical-align: middle;\n",
       "    }\n",
       "\n",
       "    .dataframe tbody tr th {\n",
       "        vertical-align: top;\n",
       "    }\n",
       "\n",
       "    .dataframe thead th {\n",
       "        text-align: right;\n",
       "    }\n",
       "</style>\n",
       "<table border=\"1\" class=\"dataframe\">\n",
       "  <thead>\n",
       "    <tr style=\"text-align: right;\">\n",
       "      <th></th>\n",
       "      <th>mpg</th>\n",
       "      <th>cyl</th>\n",
       "      <th>disp</th>\n",
       "      <th>hp</th>\n",
       "      <th>drat</th>\n",
       "      <th>wt</th>\n",
       "      <th>qsec</th>\n",
       "      <th>vs</th>\n",
       "      <th>am</th>\n",
       "      <th>gear</th>\n",
       "      <th>carb</th>\n",
       "    </tr>\n",
       "    <tr>\n",
       "      <th>model</th>\n",
       "      <th></th>\n",
       "      <th></th>\n",
       "      <th></th>\n",
       "      <th></th>\n",
       "      <th></th>\n",
       "      <th></th>\n",
       "      <th></th>\n",
       "      <th></th>\n",
       "      <th></th>\n",
       "      <th></th>\n",
       "      <th></th>\n",
       "    </tr>\n",
       "  </thead>\n",
       "  <tbody>\n",
       "    <tr>\n",
       "      <td>Mazda RX4</td>\n",
       "      <td>21.0</td>\n",
       "      <td>6</td>\n",
       "      <td>160.0</td>\n",
       "      <td>110</td>\n",
       "      <td>3.90</td>\n",
       "      <td>2.620</td>\n",
       "      <td>16.46</td>\n",
       "      <td>0</td>\n",
       "      <td>1</td>\n",
       "      <td>4</td>\n",
       "      <td>4</td>\n",
       "    </tr>\n",
       "    <tr>\n",
       "      <td>Mazda RX4 Wag</td>\n",
       "      <td>21.0</td>\n",
       "      <td>6</td>\n",
       "      <td>160.0</td>\n",
       "      <td>110</td>\n",
       "      <td>3.90</td>\n",
       "      <td>2.875</td>\n",
       "      <td>17.02</td>\n",
       "      <td>0</td>\n",
       "      <td>1</td>\n",
       "      <td>4</td>\n",
       "      <td>4</td>\n",
       "    </tr>\n",
       "    <tr>\n",
       "      <td>Datsun 710</td>\n",
       "      <td>22.8</td>\n",
       "      <td>4</td>\n",
       "      <td>108.0</td>\n",
       "      <td>93</td>\n",
       "      <td>3.85</td>\n",
       "      <td>2.320</td>\n",
       "      <td>18.61</td>\n",
       "      <td>1</td>\n",
       "      <td>1</td>\n",
       "      <td>4</td>\n",
       "      <td>1</td>\n",
       "    </tr>\n",
       "    <tr>\n",
       "      <td>Hornet 4 Drive</td>\n",
       "      <td>21.4</td>\n",
       "      <td>6</td>\n",
       "      <td>258.0</td>\n",
       "      <td>110</td>\n",
       "      <td>3.08</td>\n",
       "      <td>3.215</td>\n",
       "      <td>19.44</td>\n",
       "      <td>1</td>\n",
       "      <td>0</td>\n",
       "      <td>3</td>\n",
       "      <td>1</td>\n",
       "    </tr>\n",
       "    <tr>\n",
       "      <td>Hornet Sportabout</td>\n",
       "      <td>18.7</td>\n",
       "      <td>8</td>\n",
       "      <td>360.0</td>\n",
       "      <td>175</td>\n",
       "      <td>3.15</td>\n",
       "      <td>3.440</td>\n",
       "      <td>17.02</td>\n",
       "      <td>0</td>\n",
       "      <td>0</td>\n",
       "      <td>3</td>\n",
       "      <td>2</td>\n",
       "    </tr>\n",
       "  </tbody>\n",
       "</table>\n",
       "</div>"
      ],
      "text/plain": [
       "                    mpg  cyl   disp   hp  drat     wt   qsec  vs  am  gear  \\\n",
       "model                                                                        \n",
       "Mazda RX4          21.0    6  160.0  110  3.90  2.620  16.46   0   1     4   \n",
       "Mazda RX4 Wag      21.0    6  160.0  110  3.90  2.875  17.02   0   1     4   \n",
       "Datsun 710         22.8    4  108.0   93  3.85  2.320  18.61   1   1     4   \n",
       "Hornet 4 Drive     21.4    6  258.0  110  3.08  3.215  19.44   1   0     3   \n",
       "Hornet Sportabout  18.7    8  360.0  175  3.15  3.440  17.02   0   0     3   \n",
       "\n",
       "                   carb  \n",
       "model                    \n",
       "Mazda RX4             4  \n",
       "Mazda RX4 Wag         4  \n",
       "Datsun 710            1  \n",
       "Hornet 4 Drive        1  \n",
       "Hornet Sportabout     2  "
      ]
     },
     "execution_count": 4,
     "metadata": {},
     "output_type": "execute_result"
    }
   ],
   "source": [
    "del mtcars[\"model\"]\n",
    "mtcars.head(5)"
   ]
  },
  {
   "cell_type": "markdown",
   "metadata": {},
   "source": [
    "### 1. Mean"
   ]
  },
  {
   "cell_type": "code",
   "execution_count": 5,
   "metadata": {
    "execution": {
     "iopub.execute_input": "2024-04-20T23:36:16.736223Z",
     "iopub.status.busy": "2024-04-20T23:36:16.735905Z",
     "iopub.status.idle": "2024-04-20T23:36:16.742773Z",
     "shell.execute_reply": "2024-04-20T23:36:16.741432Z",
     "shell.execute_reply.started": "2024-04-20T23:36:16.736170Z"
    }
   },
   "outputs": [
    {
     "name": "stdout",
     "output_type": "stream",
     "text": [
      "Mean of each column: \n",
      "\n",
      "mpg      20.090625\n",
      "cyl       6.187500\n",
      "disp    230.721875\n",
      "hp      146.687500\n",
      "drat      3.596563\n",
      "wt        3.217250\n",
      "qsec     17.848750\n",
      "vs        0.437500\n",
      "am        0.406250\n",
      "gear      3.687500\n",
      "carb      2.812500\n",
      "dtype: float64\n"
     ]
    }
   ],
   "source": [
    "print(\"Mean of each column: \\n\")\n",
    "print(mtcars.mean(axis = 0))  # axis = 0 : for columns and axis=1 for rows"
   ]
  },
  {
   "cell_type": "markdown",
   "metadata": {},
   "source": [
    "### 2. Median"
   ]
  },
  {
   "cell_type": "markdown",
   "metadata": {},
   "source": [
    "- The median splits the data in half. \n",
    "- The median is also known as the 50% percentile since 50%."
   ]
  },
  {
   "cell_type": "code",
   "execution_count": 6,
   "metadata": {
    "execution": {
     "iopub.execute_input": "2024-04-20T23:05:58.930183Z",
     "iopub.status.busy": "2024-04-20T23:05:58.929765Z",
     "iopub.status.idle": "2024-04-20T23:05:58.938601Z",
     "shell.execute_reply": "2024-04-20T23:05:58.936864Z",
     "shell.execute_reply.started": "2024-04-20T23:05:58.930118Z"
    }
   },
   "outputs": [
    {
     "name": "stdout",
     "output_type": "stream",
     "text": [
      "\n",
      "Median of each column: \n",
      "\n",
      "model\n",
      "Mazda RX4              4.000\n",
      "Mazda RX4 Wag          4.000\n",
      "Datsun 710             4.000\n",
      "Hornet 4 Drive         3.215\n",
      "Hornet Sportabout      3.440\n",
      "Valiant                3.460\n",
      "Duster 360             4.000\n",
      "Merc 240D              4.000\n",
      "Merc 230               4.000\n",
      "Merc 280               4.000\n",
      "Merc 280C              4.000\n",
      "Merc 450SE             4.070\n",
      "Merc 450SL             3.730\n",
      "Merc 450SLC            3.780\n",
      "Cadillac Fleetwood     5.250\n",
      "Lincoln Continental    5.424\n",
      "Chrysler Imperial      5.345\n",
      "Fiat 128               4.000\n",
      "Honda Civic            4.000\n",
      "Toyota Corolla         4.000\n",
      "Toyota Corona          3.700\n",
      "Dodge Challenger       3.520\n",
      "AMC Javelin            3.435\n",
      "Camaro Z28             4.000\n",
      "Pontiac Firebird       3.845\n",
      "Fiat X1-9              4.000\n",
      "Porsche 914-2          4.430\n",
      "Lotus Europa           4.000\n",
      "Ford Pantera L         5.000\n",
      "Ferrari Dino           6.000\n",
      "Maserati Bora          8.000\n",
      "Volvo 142E             4.000\n",
      "dtype: float64\n"
     ]
    }
   ],
   "source": [
    "print(\"\\nMedian of each column: \\n\")\n",
    "print(mtcars.median(axis = 1)) # we could get the row medians by supplying the argument axis=1"
   ]
  },
  {
   "cell_type": "markdown",
   "metadata": {},
   "source": [
    "#### Explain diffrance between Mean and Meadian using density graphs "
   ]
  },
  {
   "cell_type": "code",
   "execution_count": 7,
   "metadata": {
    "execution": {
     "iopub.execute_input": "2024-04-20T23:29:23.684569Z",
     "iopub.status.busy": "2024-04-20T23:29:23.684222Z",
     "iopub.status.idle": "2024-04-20T23:29:23.857527Z",
     "shell.execute_reply": "2024-04-20T23:29:23.856061Z",
     "shell.execute_reply.started": "2024-04-20T23:29:23.684486Z"
    }
   },
   "outputs": [
    {
     "data": {
      "image/png": "[encoded data removed]",
      "text/plain": [
       "<Figure size 576x432 with 1 Axes>"
      ]
     },
     "metadata": {
      "needs_background": "light"
     },
     "output_type": "display_data"
    }
   ],
   "source": [
    "import seaborn as sns\n",
    "\n",
    "# Create Normal Distribution \n",
    "norm_data = np.random.normal(size=1000)\n",
    "sns.kdeplot(norm_data, bw=0.8, color='k')\n",
    "\n",
    "# Calculate the mean and median of the data\n",
    "mean_value = np.mean(norm_data)\n",
    "median_value = np.median(norm_data)\n",
    "\n",
    "# Plot vertical lines at the mean and median\n",
    "plt.axvline(mean_value, linestyle='-', color='b', label='Mean')\n",
    "plt.axvline(median_value, linestyle='--', color='r', label='Median')\n",
    "\n",
    "# Display the plot\n",
    "plt.gcf().set_size_inches(8, 6)\n",
    "plt.legend()\n",
    "plt.show()\n"
   ]
  },
  {
   "cell_type": "code",
   "execution_count": 8,
   "metadata": {
    "execution": {
     "iopub.execute_input": "2024-04-20T23:29:33.883422Z",
     "iopub.status.busy": "2024-04-20T23:29:33.883050Z",
     "iopub.status.idle": "2024-04-20T23:29:34.059770Z",
     "shell.execute_reply": "2024-04-20T23:29:34.058042Z",
     "shell.execute_reply.started": "2024-04-20T23:29:33.883350Z"
    }
   },
   "outputs": [
    {
     "data": {
      "image/png": "[encoded data removed]",
      "text/plain": [
       "<Figure size 576x432 with 1 Axes>"
      ]
     },
     "metadata": {
      "needs_background": "light"
     },
     "output_type": "display_data"
    }
   ],
   "source": [
    "# Create exponential distribution \n",
    "exp_data = np.random.exponential(size = 1000)\n",
    "sns.kdeplot(exp_data, color='k', bw=0.8)\n",
    "\n",
    "# Calculate the mean and median of the data\n",
    "mean_value = np.mean(exp_data)\n",
    "median_value = np.median(exp_data)\n",
    "\n",
    "# Plot vertical lines at the mean and median\n",
    "plt.axvline(mean_value, linestyle='-', color='b', label='Mean')\n",
    "plt.axvline(median_value, linestyle='--', color='r', label='Median')\n",
    "\n",
    "# Display the plot\n",
    "plt.legend(loc='upper right')\n",
    "plt.gcf().set_size_inches(8,6)\n",
    "\n",
    "plt.show()"
   ]
  },
  {
   "cell_type": "markdown",
   "metadata": {},
   "source": [
    "- **In Normal Distribution:** the mean and median are both so close to zero.\n",
    "- **In Expontial Distribution:** In skewed distributions, the mean tends to get pulled in the direction of the skew, while the median tends to resist the effects of skew."
   ]
  },
  {
   "cell_type": "code",
   "execution_count": 9,
   "metadata": {
    "execution": {
     "iopub.execute_input": "2024-04-20T23:29:37.769158Z",
     "iopub.status.busy": "2024-04-20T23:29:37.767181Z",
     "iopub.status.idle": "2024-04-20T23:29:37.937119Z",
     "shell.execute_reply": "2024-04-20T23:29:37.936491Z",
     "shell.execute_reply.started": "2024-04-20T23:29:37.769102Z"
    }
   },
   "outputs": [
    {
     "data": {
      "image/png": "[encoded data removed]",
      "text/plain": [
       "<Figure size 576x432 with 1 Axes>"
      ]
     },
     "metadata": {
      "needs_background": "light"
     },
     "output_type": "display_data"
    }
   ],
   "source": [
    "# Create Normal Distribution with outliers\n",
    "outliers=np.random.normal(15, size=50)\n",
    "outler_norm_data = np.concatenate((norm_data,outliers))\n",
    "sns.kdeplot(outler_norm_data, bw=0.8, color='k')\n",
    "\n",
    "# Calculate the mean and median of the data\n",
    "mean_value = np.mean(outler_norm_data)\n",
    "median_value = np.median(outler_norm_data)\n",
    "\n",
    "# Plot vertical lines at the mean and median\n",
    "plt.axvline(mean_value, linestyle='-', color='b', label='Mean')\n",
    "plt.axvline(median_value, linestyle='--', color='r', label='Median')\n",
    "\n",
    "# Display the plot\n",
    "plt.gcf().set_size_inches(8, 6)\n",
    "plt.legend()\n",
    "plt.show()\n"
   ]
  },
  {
   "cell_type": "markdown",
   "metadata": {},
   "source": [
    "- The mean is also influenced heavily by outliers\n",
    "- The median resists the influence of outliers."
   ]
  },
  {
   "cell_type": "markdown",
   "metadata": {},
   "source": [
    "### 3. Mode"
   ]
  },
  {
   "cell_type": "markdown",
   "metadata": {},
   "source": [
    "- The mode of a variable is simply the value that appears most frequently. \n",
    "- The mode of a categorical variable.\n",
    "- It is possible to have multiple modes. "
   ]
  },
  {
   "cell_type": "code",
   "execution_count": 10,
   "metadata": {
    "execution": {
     "iopub.execute_input": "2024-04-20T23:31:37.670960Z",
     "iopub.status.busy": "2024-04-20T23:31:37.670650Z",
     "iopub.status.idle": "2024-04-20T23:31:37.711019Z",
     "shell.execute_reply": "2024-04-20T23:31:37.709564Z",
     "shell.execute_reply.started": "2024-04-20T23:31:37.670903Z"
    }
   },
   "outputs": [
    {
     "data": {
      "text/html": [
       "<div>\n",
       "<style scoped>\n",
       "    .dataframe tbody tr th:only-of-type {\n",
       "        vertical-align: middle;\n",
       "    }\n",
       "\n",
       "    .dataframe tbody tr th {\n",
       "        vertical-align: top;\n",
       "    }\n",
       "\n",
       "    .dataframe thead th {\n",
       "        text-align: right;\n",
       "    }\n",
       "</style>\n",
       "<table border=\"1\" class=\"dataframe\">\n",
       "  <thead>\n",
       "    <tr style=\"text-align: right;\">\n",
       "      <th></th>\n",
       "      <th>mpg</th>\n",
       "      <th>cyl</th>\n",
       "      <th>disp</th>\n",
       "      <th>hp</th>\n",
       "      <th>drat</th>\n",
       "      <th>wt</th>\n",
       "      <th>qsec</th>\n",
       "      <th>vs</th>\n",
       "      <th>am</th>\n",
       "      <th>gear</th>\n",
       "      <th>carb</th>\n",
       "    </tr>\n",
       "  </thead>\n",
       "  <tbody>\n",
       "    <tr>\n",
       "      <td>0</td>\n",
       "      <td>10.4</td>\n",
       "      <td>8.0</td>\n",
       "      <td>275.8</td>\n",
       "      <td>110.0</td>\n",
       "      <td>3.07</td>\n",
       "      <td>3.44</td>\n",
       "      <td>17.02</td>\n",
       "      <td>0.0</td>\n",
       "      <td>0.0</td>\n",
       "      <td>3.0</td>\n",
       "      <td>2.0</td>\n",
       "    </tr>\n",
       "    <tr>\n",
       "      <td>1</td>\n",
       "      <td>15.2</td>\n",
       "      <td>NaN</td>\n",
       "      <td>NaN</td>\n",
       "      <td>175.0</td>\n",
       "      <td>3.92</td>\n",
       "      <td>NaN</td>\n",
       "      <td>18.90</td>\n",
       "      <td>NaN</td>\n",
       "      <td>NaN</td>\n",
       "      <td>NaN</td>\n",
       "      <td>4.0</td>\n",
       "    </tr>\n",
       "    <tr>\n",
       "      <td>2</td>\n",
       "      <td>19.2</td>\n",
       "      <td>NaN</td>\n",
       "      <td>NaN</td>\n",
       "      <td>180.0</td>\n",
       "      <td>NaN</td>\n",
       "      <td>NaN</td>\n",
       "      <td>NaN</td>\n",
       "      <td>NaN</td>\n",
       "      <td>NaN</td>\n",
       "      <td>NaN</td>\n",
       "      <td>NaN</td>\n",
       "    </tr>\n",
       "    <tr>\n",
       "      <td>3</td>\n",
       "      <td>21.0</td>\n",
       "      <td>NaN</td>\n",
       "      <td>NaN</td>\n",
       "      <td>NaN</td>\n",
       "      <td>NaN</td>\n",
       "      <td>NaN</td>\n",
       "      <td>NaN</td>\n",
       "      <td>NaN</td>\n",
       "      <td>NaN</td>\n",
       "      <td>NaN</td>\n",
       "      <td>NaN</td>\n",
       "    </tr>\n",
       "    <tr>\n",
       "      <td>4</td>\n",
       "      <td>21.4</td>\n",
       "      <td>NaN</td>\n",
       "      <td>NaN</td>\n",
       "      <td>NaN</td>\n",
       "      <td>NaN</td>\n",
       "      <td>NaN</td>\n",
       "      <td>NaN</td>\n",
       "      <td>NaN</td>\n",
       "      <td>NaN</td>\n",
       "      <td>NaN</td>\n",
       "      <td>NaN</td>\n",
       "    </tr>\n",
       "    <tr>\n",
       "      <td>5</td>\n",
       "      <td>22.8</td>\n",
       "      <td>NaN</td>\n",
       "      <td>NaN</td>\n",
       "      <td>NaN</td>\n",
       "      <td>NaN</td>\n",
       "      <td>NaN</td>\n",
       "      <td>NaN</td>\n",
       "      <td>NaN</td>\n",
       "      <td>NaN</td>\n",
       "      <td>NaN</td>\n",
       "      <td>NaN</td>\n",
       "    </tr>\n",
       "    <tr>\n",
       "      <td>6</td>\n",
       "      <td>30.4</td>\n",
       "      <td>NaN</td>\n",
       "      <td>NaN</td>\n",
       "      <td>NaN</td>\n",
       "      <td>NaN</td>\n",
       "      <td>NaN</td>\n",
       "      <td>NaN</td>\n",
       "      <td>NaN</td>\n",
       "      <td>NaN</td>\n",
       "      <td>NaN</td>\n",
       "      <td>NaN</td>\n",
       "    </tr>\n",
       "  </tbody>\n",
       "</table>\n",
       "</div>"
      ],
      "text/plain": [
       "    mpg  cyl   disp     hp  drat    wt   qsec   vs   am  gear  carb\n",
       "0  10.4  8.0  275.8  110.0  3.07  3.44  17.02  0.0  0.0   3.0   2.0\n",
       "1  15.2  NaN    NaN  175.0  3.92   NaN  18.90  NaN  NaN   NaN   4.0\n",
       "2  19.2  NaN    NaN  180.0   NaN   NaN    NaN  NaN  NaN   NaN   NaN\n",
       "3  21.0  NaN    NaN    NaN   NaN   NaN    NaN  NaN  NaN   NaN   NaN\n",
       "4  21.4  NaN    NaN    NaN   NaN   NaN    NaN  NaN  NaN   NaN   NaN\n",
       "5  22.8  NaN    NaN    NaN   NaN   NaN    NaN  NaN  NaN   NaN   NaN\n",
       "6  30.4  NaN    NaN    NaN   NaN   NaN    NaN  NaN  NaN   NaN   NaN"
      ]
     },
     "execution_count": 10,
     "metadata": {},
     "output_type": "execute_result"
    }
   ],
   "source": [
    "mtcars.mode()"
   ]
  },
  {
   "cell_type": "markdown",
   "metadata": {},
   "source": [
    "- The columns with multiple modes (multiple values with the same count) return multiple values as the mode. \n",
    "- Columns with no mode (no value that appears more than once) return NaN (continous columns)."
   ]
  },
  {
   "cell_type": "markdown",
   "metadata": {},
   "source": [
    "---\n",
    "## Measures of Spread"
   ]
  },
  {
   "cell_type": "markdown",
   "metadata": {},
   "source": [
    "Measures of spread (dispersion) are statistics that describe how data varies. While measures of center give us an idea of the typical value, measures of spread give us a sense of how much the data tends to diverge from the typical value.\n",
    "\n"
   ]
  },
  {
   "cell_type": "markdown",
   "metadata": {},
   "source": [
    "### 1. Range\n",
    "One of the simplest measures of spread is the range. Range is the distance between the maximum and minimum observations."
   ]
  },
  {
   "cell_type": "code",
   "execution_count": 11,
   "metadata": {
    "execution": {
     "iopub.execute_input": "2024-04-20T23:36:48.986232Z",
     "iopub.status.busy": "2024-04-20T23:36:48.985932Z",
     "iopub.status.idle": "2024-04-20T23:36:48.995330Z",
     "shell.execute_reply": "2024-04-20T23:36:48.993938Z",
     "shell.execute_reply.started": "2024-04-20T23:36:48.986189Z"
    }
   },
   "outputs": [
    {
     "data": {
      "text/plain": [
       "23.5"
      ]
     },
     "execution_count": 11,
     "metadata": {},
     "output_type": "execute_result"
    }
   ],
   "source": [
    "max(mtcars[\"mpg\"]) - min(mtcars[\"mpg\"])"
   ]
  },
  {
   "cell_type": "markdown",
   "metadata": {},
   "source": [
    "### 2. Percentiles\n",
    "A summary of several percentiles can be used to describe a variable's spread."
   ]
  },
  {
   "cell_type": "code",
   "execution_count": 12,
   "metadata": {
    "execution": {
     "iopub.execute_input": "2024-04-20T23:41:35.436254Z",
     "iopub.status.busy": "2024-04-20T23:41:35.435760Z",
     "iopub.status.idle": "2024-04-20T23:41:35.453173Z",
     "shell.execute_reply": "2024-04-20T23:41:35.451661Z",
     "shell.execute_reply.started": "2024-04-20T23:41:35.436188Z"
    }
   },
   "outputs": [
    {
     "data": {
      "text/plain": [
       "[10.4, 15.425, 19.2, 22.8, 33.9]"
      ]
     },
     "execution_count": 12,
     "metadata": {},
     "output_type": "execute_result"
    }
   ],
   "source": [
    "# Another form:np.percentile(mtcars['mpg'], 0)\n",
    "five_num = [mtcars[\"mpg\"].quantile(0),   \n",
    "            mtcars[\"mpg\"].quantile(0.25),\n",
    "            mtcars[\"mpg\"].quantile(0.50),\n",
    "            mtcars[\"mpg\"].quantile(0.75),\n",
    "            mtcars[\"mpg\"].quantile(1)]\n",
    "\n",
    "five_num"
   ]
  },
  {
   "cell_type": "code",
   "execution_count": 13,
   "metadata": {
    "execution": {
     "iopub.execute_input": "2024-04-20T23:41:53.939791Z",
     "iopub.status.busy": "2024-04-20T23:41:53.939472Z",
     "iopub.status.idle": "2024-04-20T23:41:53.950770Z",
     "shell.execute_reply": "2024-04-20T23:41:53.948706Z",
     "shell.execute_reply.started": "2024-04-20T23:41:53.939757Z"
    }
   },
   "outputs": [
    {
     "data": {
      "text/plain": [
       "count    32.000000\n",
       "mean     20.090625\n",
       "std       6.026948\n",
       "min      10.400000\n",
       "25%      15.425000\n",
       "50%      19.200000\n",
       "75%      22.800000\n",
       "max      33.900000\n",
       "Name: mpg, dtype: float64"
      ]
     },
     "execution_count": 13,
     "metadata": {},
     "output_type": "execute_result"
    }
   ],
   "source": [
    "mtcars[\"mpg\"].describe()"
   ]
  },
  {
   "cell_type": "markdown",
   "metadata": {},
   "source": []
  },
  {
   "cell_type": "markdown",
   "metadata": {},
   "source": [
    "### 3. Interquartile (IQR) range\n",
    "Another common measure of spread. IQR is the distance between the 3rd quartile and the 1st quartile:"
   ]
  },
  {
   "cell_type": "code",
   "execution_count": 14,
   "metadata": {
    "execution": {
     "iopub.execute_input": "2024-04-20T23:42:36.051713Z",
     "iopub.status.busy": "2024-04-20T23:42:36.051198Z",
     "iopub.status.idle": "2024-04-20T23:42:36.065024Z",
     "shell.execute_reply": "2024-04-20T23:42:36.063057Z",
     "shell.execute_reply.started": "2024-04-20T23:42:36.051631Z"
    }
   },
   "outputs": [
    {
     "data": {
      "text/plain": [
       "7.375"
      ]
     },
     "execution_count": 14,
     "metadata": {},
     "output_type": "execute_result"
    }
   ],
   "source": [
    "mtcars[\"mpg\"].quantile(0.75) - mtcars[\"mpg\"].quantile(0.25)"
   ]
  },
  {
   "cell_type": "markdown",
   "metadata": {},
   "source": [
    "#### Visual representations of the five number summary and IQR."
   ]
  },
  {
   "cell_type": "code",
   "execution_count": 15,
   "metadata": {
    "execution": {
     "iopub.execute_input": "2024-04-20T23:51:16.383482Z",
     "iopub.status.busy": "2024-04-20T23:51:16.383137Z",
     "iopub.status.idle": "2024-04-20T23:51:16.529432Z",
     "shell.execute_reply": "2024-04-20T23:51:16.527792Z",
     "shell.execute_reply.started": "2024-04-20T23:51:16.383424Z"
    }
   },
   "outputs": [
    {
     "data": {
      "image/png": "[encoded data removed]",
      "text/plain": [
       "<Figure size 576x576 with 1 Axes>"
      ]
     },
     "metadata": {
      "needs_background": "light"
     },
     "output_type": "display_data"
    }
   ],
   "source": [
    "plt.figure(figsize=(8,8))\n",
    "## Pandas \n",
    "# mtcars.boxplot(column='mpg')\n",
    "## matplotlib\n",
    "plt.boxplot(mtcars['mpg'])\n",
    "## Seaborn\n",
    "# sns.boxplot(data=mtcars, y='mpg')\n",
    "\n",
    "plt.text(x=0.74, y=22.25, s=\"3rd Quartile\")\n",
    "plt.text(x=0.8, y=18.75, s=\"Median\")\n",
    "plt.text(x=0.75, y=15.5, s=\"1st Quartile\")\n",
    "plt.text(x=0.9, y=10, s=\"Min\")\n",
    "plt.text(x=0.9, y=33.5, s=\"Max\")\n",
    "plt.text(x=0.7, y=19.5, s=\"IQR\", rotation=90, size=25)\n",
    "plt.title('Boxplot of mpg using Pandas')\n",
    "plt.xlabel('mpg')\n",
    "plt.ylabel('Values')\n",
    "plt.show()"
   ]
  },
  {
   "cell_type": "markdown",
   "metadata": {},
   "source": [
    "### 4. Variance and Standard deviation \n",
    "<img src=\"https://images.ctfassets.net/pdf29us7flmy/4UEXUFiVFUgsNA9fZOOQf2/b9e09d7447df4f0253a145ad853eb883/resized.png?w=720&q=100&fm=jpg\" alt=\"Variance\" width=\"300\">\n",
    "\n",
    "<img src=\"https://images.ctfassets.net/pdf29us7flmy/ScS4Ia62OmBW9emJop4fR/e8a6f771dcdd40316243dcf15bfea6f1/Screen_Shot_2023-01-26_at_9.23.52_AM.png?w=720&q=100&fm=jpg\" alt=\"standard deviation\" width=\"300\">\n",
    "\n",
    "> Standard deviation can be more interpretable than variance, since the std is expressed in terms of the same units as the variable.\n",
    "\n",
    "> Since variance and standard deviation are both derived from the mean, they are susceptible to the influence of data skew and outliers. \n"
   ]
  },
  {
   "cell_type": "code",
   "execution_count": 16,
   "metadata": {
    "execution": {
     "iopub.execute_input": "2024-04-20T23:52:46.398179Z",
     "iopub.status.busy": "2024-04-20T23:52:46.397842Z",
     "iopub.status.idle": "2024-04-20T23:52:46.406055Z",
     "shell.execute_reply": "2024-04-20T23:52:46.404965Z",
     "shell.execute_reply.started": "2024-04-20T23:52:46.398135Z"
    }
   },
   "outputs": [
    {
     "data": {
      "text/plain": [
       "36.32410282258065"
      ]
     },
     "execution_count": 16,
     "metadata": {},
     "output_type": "execute_result"
    }
   ],
   "source": [
    "mtcars[\"mpg\"].var()"
   ]
  },
  {
   "cell_type": "code",
   "execution_count": 17,
   "metadata": {
    "execution": {
     "iopub.execute_input": "2024-04-20T23:52:47.167652Z",
     "iopub.status.busy": "2024-04-20T23:52:47.167289Z",
     "iopub.status.idle": "2024-04-20T23:52:47.176708Z",
     "shell.execute_reply": "2024-04-20T23:52:47.175215Z",
     "shell.execute_reply.started": "2024-04-20T23:52:47.167594Z"
    }
   },
   "outputs": [
    {
     "data": {
      "text/plain": [
       "6.026948052089105"
      ]
     },
     "execution_count": 17,
     "metadata": {},
     "output_type": "execute_result"
    }
   ],
   "source": [
    "mtcars[\"mpg\"].std()"
   ]
  },
  {
   "cell_type": "markdown",
   "metadata": {},
   "source": [
    "### 5. Median absolute deviation\n",
    "Median absolute deviation is an alternative measure of spread based on the **median**. \n",
    "- It is the median of the absolute value of the deviations from the median.\n",
    "\n",
    "<img src=\"https://media.geeksforgeeks.org/wp-content/uploads/median-absolute-deviation.jpg\" alt=\"Median Absolute Deviation\" width=\"500\">\n",
    "\n",
    "> **Note**: The MAD is often multiplied by a scaling factor of 1.4826."
   ]
  },
  {
   "cell_type": "code",
   "execution_count": 18,
   "metadata": {
    "execution": {
     "iopub.execute_input": "2024-04-20T23:57:16.163023Z",
     "iopub.status.busy": "2024-04-20T23:57:16.162687Z",
     "iopub.status.idle": "2024-04-20T23:57:16.201868Z",
     "shell.execute_reply": "2024-04-20T23:57:16.201113Z",
     "shell.execute_reply.started": "2024-04-20T23:57:16.162971Z"
    }
   },
   "outputs": [
    {
     "data": {
      "text/plain": [
       "5.411490000000001"
      ]
     },
     "execution_count": 18,
     "metadata": {},
     "output_type": "execute_result"
    }
   ],
   "source": [
    "abs_median_devs = abs(mtcars[\"mpg\"] - mtcars[\"mpg\"].median())\n",
    "\n",
    "abs_median_devs.median() * 1.4826"
   ]
  },
  {
   "cell_type": "markdown",
   "metadata": {},
   "source": [
    "---\n",
    "## Skewness and Kurtosis"
   ]
  },
  {
   "cell_type": "markdown",
   "metadata": {},
   "source": [
    "Give you a sense of the shape of a distribution. \n",
    "- Skewness measures the skew or asymmetry of a distribution.\n",
    "- kurtosis measures how much data is in the tails of a distribution v.s. the center. \n",
    "- skewness involves cubing deviations from the mean and kurtosis involves raising deviations from the mean to the 4th power.\n",
    "![Skewness and kurtosis fourmulas](https://miro.medium.com/v2/resize:fit:746/1*fAmnVIOyj5M_GBWnMA0JAA.png)"
   ]
  },
  {
   "cell_type": "code",
   "execution_count": 19,
   "metadata": {
    "execution": {
     "iopub.execute_input": "2024-04-21T00:04:38.050822Z",
     "iopub.status.busy": "2024-04-21T00:04:38.050393Z",
     "iopub.status.idle": "2024-04-21T00:04:38.060953Z",
     "shell.execute_reply": "2024-04-21T00:04:38.058244Z",
     "shell.execute_reply.started": "2024-04-21T00:04:38.050769Z"
    }
   },
   "outputs": [
    {
     "data": {
      "text/plain": [
       "0.6723771376290805"
      ]
     },
     "execution_count": 19,
     "metadata": {},
     "output_type": "execute_result"
    }
   ],
   "source": [
    "mtcars[\"mpg\"].skew()  # Check skewness"
   ]
  },
  {
   "cell_type": "code",
   "execution_count": 20,
   "metadata": {
    "execution": {
     "iopub.execute_input": "2024-04-21T00:04:38.457847Z",
     "iopub.status.busy": "2024-04-21T00:04:38.457336Z",
     "iopub.status.idle": "2024-04-21T00:04:38.469396Z",
     "shell.execute_reply": "2024-04-21T00:04:38.467723Z",
     "shell.execute_reply.started": "2024-04-21T00:04:38.457750Z"
    }
   },
   "outputs": [
    {
     "data": {
      "text/plain": [
       "-0.0220062914240855"
      ]
     },
     "execution_count": 20,
     "metadata": {},
     "output_type": "execute_result"
    }
   ],
   "source": [
    "mtcars[\"mpg\"].kurt()  # Check kurtosis"
   ]
  },
  {
   "cell_type": "code",
   "execution_count": 21,
   "metadata": {
    "execution": {
     "iopub.execute_input": "2024-04-21T00:05:02.041421Z",
     "iopub.status.busy": "2024-04-21T00:05:02.040857Z",
     "iopub.status.idle": "2024-04-21T00:05:02.073988Z",
     "shell.execute_reply": "2024-04-21T00:05:02.071501Z",
     "shell.execute_reply.started": "2024-04-21T00:05:02.041183Z"
    }
   },
   "outputs": [],
   "source": [
    "norm_data = np.random.normal(size=100000)\n",
    "skewed_data = np.concatenate((np.random.normal(size=35000)+2, \n",
    "                             np.random.exponential(size=65000)), \n",
    "                             axis=0)\n",
    "uniform_data = np.random.uniform(0,2, size=100000)\n",
    "peaked_data = np.concatenate((np.random.exponential(size=50000),\n",
    "                             np.random.exponential(size=50000)*(-1)),\n",
    "                             axis=0)\n",
    "\n",
    "data_df = pd.DataFrame({\"norm\":norm_data,\n",
    "                       \"skewed\":skewed_data,\n",
    "                       \"uniform\":uniform_data,\n",
    "                       \"peaked\":peaked_data})"
   ]
  },
  {
   "cell_type": "code",
   "execution_count": 22,
   "metadata": {
    "execution": {
     "iopub.execute_input": "2024-04-21T00:05:04.235990Z",
     "iopub.status.busy": "2024-04-21T00:05:04.235431Z",
     "iopub.status.idle": "2024-04-21T00:05:46.454788Z",
     "shell.execute_reply": "2024-04-21T00:05:46.453848Z",
     "shell.execute_reply.started": "2024-04-21T00:05:04.235910Z"
    }
   },
   "outputs": [
    {
     "data": {
      "image/png": "[encoded data removed]",
      "text/plain": [
       "<Figure size 720x720 with 1 Axes>"
      ]
     },
     "metadata": {
      "needs_background": "light"
     },
     "output_type": "display_data"
    }
   ],
   "source": [
    "data_df.plot(kind=\"density\",\n",
    "            figsize=(10,10),\n",
    "            xlim=(-5,5));"
   ]
  },
  {
   "cell_type": "code",
   "execution_count": 23,
   "metadata": {
    "execution": {
     "iopub.execute_input": "2024-04-21T00:07:06.436785Z",
     "iopub.status.busy": "2024-04-21T00:07:06.436384Z",
     "iopub.status.idle": "2024-04-21T00:07:06.464994Z",
     "shell.execute_reply": "2024-04-21T00:07:06.463571Z",
     "shell.execute_reply.started": "2024-04-21T00:07:06.436717Z"
    }
   },
   "outputs": [
    {
     "data": {
      "text/plain": [
       "norm      -0.002928\n",
       "skewed     1.006624\n",
       "uniform   -0.002095\n",
       "peaked     0.021814\n",
       "dtype: float64"
      ]
     },
     "execution_count": 23,
     "metadata": {},
     "output_type": "execute_result"
    }
   ],
   "source": [
    "data_df.skew()"
   ]
  },
  {
   "cell_type": "markdown",
   "metadata": {},
   "source": [
    "- Low skewness for all of the distributions except the `skewed` one, because all the others are roughly symmetric."
   ]
  },
  {
   "cell_type": "code",
   "execution_count": 24,
   "metadata": {
    "execution": {
     "iopub.execute_input": "2024-04-21T00:08:30.359496Z",
     "iopub.status.busy": "2024-04-21T00:08:30.359140Z",
     "iopub.status.idle": "2024-04-21T00:08:30.384257Z",
     "shell.execute_reply": "2024-04-21T00:08:30.382356Z",
     "shell.execute_reply.started": "2024-04-21T00:08:30.359438Z"
    }
   },
   "outputs": [
    {
     "data": {
      "text/plain": [
       "norm       0.000546\n",
       "skewed     1.367462\n",
       "uniform   -1.205015\n",
       "peaked     2.851877\n",
       "dtype: float64"
      ]
     },
     "execution_count": 24,
     "metadata": {},
     "output_type": "execute_result"
    }
   ],
   "source": [
    "data_df.kurt()"
   ]
  },
  {
   "cell_type": "markdown",
   "metadata": {},
   "source": [
    "- The normally distributed data has a kurtosis near zero.\n",
    "- The flat distribution has negative kurtosis.\n",
    "- The two distributions with more data in the tails vs the center have higher kurtosis."
   ]
  },
  {
   "cell_type": "markdown",
   "metadata": {},
   "source": [
    "## Wrap Up"
   ]
  },
  {
   "cell_type": "markdown",
   "metadata": {},
   "source": [
    "Descriptive statistics help you explore features of your data, like center, spread and shape by summarizing them with numerical measurements. In addition, certain values, like the mean and variance, are used in all sorts of statistical tests and predictive models."
   ]
  }
 ],
 "metadata": {
  "kaggle": {
   "accelerator": "none",
   "dataSources": [
    {
     "databundleVersionId": 26502,
     "sourceId": 3136,
     "sourceType": "competition"
    },
    {
     "datasetId": 28259,
     "sourceId": 36005,
     "sourceType": "datasetVersion"
    }
   ],
   "dockerImageVersionId": 29661,
   "isGpuEnabled": false,
   "isInternetEnabled": false,
   "language": "python",
   "sourceType": "notebook"
  },
  "kernelspec": {
   "display_name": "Python 3",
   "language": "python",
   "name": "python3"
  },
  "language_info": {
   "codemirror_mode": {
    "name": "ipython",
    "version": 3
   },
   "file_extension": ".py",
   "mimetype": "text/x-python",
   "name": "python",
   "nbconvert_exporter": "python",
   "pygments_lexer": "ipython3",
   "version": "3.6.6"
  }
 },
 "nbformat": 4,
 "nbformat_minor": 4
}
