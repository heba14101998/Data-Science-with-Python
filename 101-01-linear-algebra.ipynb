{
 "cells": [
  {
   "cell_type": "code",
   "execution_count": null,
   "metadata": {},
   "outputs": [],
   "source": [
    "# Linear Algebra Notebook\n",
    "\n",
    "This notebook covers the fundamental concepts of linear algebra, including vectors, matrices, norms, dot products, linear transformations, eigenvalues, eigenvectors, and more.\n"
   ]
  },
  {
   "cell_type": "markdown",
   "metadata": {},
   "source": [
    "---\n",
    "# 1. Vectors and Vector Operations\n",
    "---"
   ]
  },
  {
   "cell_type": "markdown",
   "metadata": {},
   "source": [
    "## 1.1 What is a Vector?\n",
    "A vector is a quantity that has both magnitude and direction. In computer science, vectors are often represented as lists of numbers. The number of dimensions equals the number of elements in the vector.\n",
    "\n",
    "For example:\n",
    "- A 2D vector: $[1, 2]$\n",
    "- A 3D vector: $[3, 4, 5]$\n",
    "\n",
    "- **In Data Scince and ML:** It represents single data points or features. Used for distance calculations, embeddings, and feature representation."
   ]
  },
  {
   "cell_type": "code",
   "execution_count": 7,
   "metadata": {},
   "outputs": [
    {
     "name": "stdout",
     "output_type": "stream",
     "text": [
      "vector a:  [1 2 3] vector dim: 3\n",
      "vector b:  [4 5 6] vector dim: 3\n"
     ]
    }
   ],
   "source": [
    "import numpy as np\n",
    "\n",
    "# Define two vectors\n",
    "a = np.array([1, 2, 3])\n",
    "b = np.array([4, 5, 6])\n",
    "print(\"vector a: \", a, \"vector dim:\", a.shape[0])\n",
    "print(\"vector b: \", b, \"vector dim:\", b.shape[0])"
   ]
  },
  {
   "cell_type": "markdown",
   "metadata": {},
   "source": [
    "## 1.2 Vector Basic Operations\n",
    "\n",
    "- **Vector Scaling**\n",
    "To scale a vector, multiply each component by a scalar. For example:\n",
    "$$ 2\\cdot [1, 2, 3] = [2 \\cdot 1, 2 \\cdot 2, 2\\cdot 3] = [2, 4, 6]$$\n",
    "\n",
    "- **Vector Addition**\n",
    "To add two vectors, add their corresponding components. For example:\n",
    "$$[1, 2, 3] + [4, 5, 6] = [1 + 4, 2 + 5, 3 + 6] = [5, 7, 9]$$\n",
    "\n",
    "- **Vector Subtraction**\n",
    "To subtract two vectors, subtract their corresponding components. For example:\n",
    "$$[1, 2, 3] + [4, 5, 6] = [1 - 4, 2 - 5, 3 - 6] = [-3, -3, -3]$$\n"
   ]
  },
  {
   "cell_type": "code",
   "execution_count": 5,
   "metadata": {},
   "outputs": [
    {
     "name": "stdout",
     "output_type": "stream",
     "text": [
      "Scaled Vector: [2 4 6]\n",
      "Vector Addition: [5 7 9]\n",
      "Vector Subtraction: [-3 -3 -3]\n"
     ]
    }
   ],
   "source": [
    "# Vector scaling\n",
    "scalar = 2\n",
    "scaled_vector = scalar * a\n",
    "print(\"Scaled Vector:\", scaled_vector)\n",
    "\n",
    "# Vector addition\n",
    "vector_addition = a + b\n",
    "print(\"Vector Addition:\", vector_addition)\n",
    "\n",
    "# Vector subtraction\n",
    "vector_subtraction = a - b\n",
    "print(\"Vector Subtraction:\", vector_subtraction)"
   ]
  },
  {
   "cell_type": "markdown",
   "metadata": {},
   "source": [
    "## 1.3 Vector Norms\n",
    "\n",
    "- **L1 Norm (Manhattan Norm)**: The L1 norm is the sum of the absolute values of the vector components.\n",
    "- **L2 Norm (Euclidean Norm)**: The L2 norm is the square root of the sum of the squared components of the vector.\n",
    "- **L∞ Norm (Max Norm)**: The L∞ norm is the maximum absolute value among the components of the vector.\n"
   ]
  },
  {
   "cell_type": "code",
   "execution_count": 9,
   "metadata": {},
   "outputs": [
    {
     "name": "stdout",
     "output_type": "stream",
     "text": [
      "L1 Norm of vector a: 6.0\n",
      "L2 Norm of vector a: 3.7416573867739413\n",
      "L∞ Norm of vector a: 3.0\n"
     ]
    }
   ],
   "source": [
    "# Calculate L1 norm (Manhattan Norm)\n",
    "l1_norm = np.linalg.norm(a, ord=1)\n",
    "print(\"L1 Norm of vector a:\", l1_norm)\n",
    "\n",
    "# Calculate L2 norm (Euclidean Norm)\n",
    "l2_norm = np.linalg.norm(a) # default value or ord=2\n",
    "print(\"L2 Norm of vector a:\", l2_norm)\n",
    "\n",
    "# Calculate L∞ norm (Max Norm)\n",
    "linf_norm = np.linalg.norm(a, ord=np.inf)\n",
    "print(\"L∞ Norm of vector a:\", linf_norm)"
   ]
  },
  {
   "cell_type": "markdown",
   "metadata": {},
   "source": [
    "## 1.4 Dot Product\n",
    "The dot product of two vectors measures how much they point in the same direction.\n"
   ]
  },
  {
   "cell_type": "code",
   "execution_count": 10,
   "metadata": {},
   "outputs": [
    {
     "name": "stdout",
     "output_type": "stream",
     "text": [
      "Dot Product of a and b: 32\n"
     ]
    }
   ],
   "source": [
    "# Calculate dot product\n",
    "dot_product = np.dot(a, b)\n",
    "print(\"Dot Product of a and b:\", dot_product)"
   ]
  },
  {
   "cell_type": "markdown",
   "metadata": {},
   "source": [
    "---\n",
    "# 2. Matrices and Matrix Operations\n",
    "---"
   ]
  },
  {
   "cell_type": "markdown",
   "metadata": {},
   "source": [
    "### 2.1 What is a Matrix?\n",
    "A matrix is a two-dimensional array of numbers, organized into rows and columns. In data science, matrices are used to represent:\n",
    "\n",
    "- **Datasets**: Each row represents a data point, and each column represents a feature.\n",
    "- **Transformations**: Matrices are used to apply linear transformations (e.g., scaling, rotation) to data.\n",
    "- **Weights in Machine Learning**: In models like linear regression or neural networks, weights are often represented as matrices.\n",
    "\n",
    "**Example:**\n",
    "\n",
    "Suppose you have a dataset of three houses with the same features as above:\n",
    "$$\n",
    "\\text{Dataset} = \\begin{bmatrix}\n",
    "1500 & 3 & 10 \\\\\n",
    "2000 & 4 & 5 \\\\\n",
    "1200 & 2 & 20\n",
    "\\end{bmatrix}\n",
    "$$\n",
    "\n",
    "**Here:**\n",
    "- Each row represents a house.\n",
    "- Each column represents a feature (size, bedrooms, age)."
   ]
  },
  {
   "cell_type": "code",
   "execution_count": 16,
   "metadata": {},
   "outputs": [
    {
     "name": "stdout",
     "output_type": "stream",
     "text": [
      "matrix A: \n",
      " [[1 2]\n",
      " [3 4]] \n",
      "number of vectores: 2 each vector dim: 2\n",
      "\n",
      "\n",
      "matrix B: \n",
      " [[5 6]\n",
      " [7 8]] \n",
      "number of vectores: 2 each vector dim: 2\n"
     ]
    }
   ],
   "source": [
    "# Define two matrices\n",
    "A = np.array([[1, 2], [3, 4]])\n",
    "B = np.array([[5, 6], [7, 8]])\n",
    "\n",
    "print(\"matrix A: \\n\", A, \"\\nnumber of vectores:\",  A.shape[1],\"each vector dim:\", A.shape[0])\n",
    "print(\"\\n\\nmatrix B: \\n\", B, \"\\nnumber of vectores:\",  B.shape[1],\"each vector dim:\", B.shape[0])"
   ]
  },
  {
   "cell_type": "code",
   "execution_count": 15,
   "metadata": {},
   "outputs": [
    {
     "name": "stdout",
     "output_type": "stream",
     "text": [
      "Matrix Addition:\n",
      " [[ 6  8]\n",
      " [10 12]]\n",
      "Matrix Multiplication:\n",
      " [[19 22]\n",
      " [43 50]]\n",
      "Matrix Multiplication:\n",
      " [[19 22]\n",
      " [43 50]]\n"
     ]
    }
   ],
   "source": [
    "# Matrix addition\n",
    "matrix_addition = A + B\n",
    "print(\"Matrix Addition:\\n\", matrix_addition)\n",
    "\n",
    "# Matrix multiplication\n",
    "matrix_multiplication = np.dot(A, B)\n",
    "print(\"Matrix Multiplication:\\n\", matrix_multiplication)\n",
    "\n",
    "# Matrix multiplication or but with aother method\n",
    "matrix_multiplication = A @ B\n",
    "print(\"Matrix Multiplication:\\n\", matrix_multiplication)"
   ]
  },
  {
   "cell_type": "markdown",
   "metadata": {},
   "source": [
    "### 2.2 Matrix Rank\n",
    "The **rank of a matrix** is the maximum number of **linearly independent rows or columns** in the matrix. In other words, it tells you:\n",
    "- How many rows (or columns) are unique and not just linear combinations of other rows (or columns).\n",
    "- The dimensionality of the vector space spanned by the rows or columns of the matrix. يعني الفيكتورز  المكون منها الماتركس دي والي تخليني اقدر اعبر عن السبيس كله واي فيكتور جديد هيكون بمعلوميه الفيكتورز الاندبيندت دول \n",
    "\n",
    "**What is Matrix Rank in Data Science and ML?**\n",
    "\n",
    "- In a dataset, the rank of the feature matrix indicates whether there are redundant (linearly dependent) features.\n",
    "- If the rank is less than the number of features, some features are linear combinations of others, which can lead to multicollinearity in regression models.\n",
    "\n",
    "**Applications of Matrix Rank in Data Science and ML**\n",
    "\n",
    "[a] Linear Regression\n",
    "- In linear regression, the rank of the feature matrix $X$ determines whether the system $X^T X \\beta = X^T y$ has a unique solution.\n",
    "- If $X$ is not full rank, the system is underdetermined, and regularization is needed.\n",
    "\n",
    "[b] Dimensionality Reduction (PCA)\n",
    "- PCA uses the rank of the covariance matrix to identify the principal components (directions of maximum variance) in the data.\n",
    "- The rank determines how many principal components are needed to represent the data effectively.\n",
    "\n",
    "[c] Collaborative Filtering (Recommendation Systems)\n",
    "- In recommendation systems, the user-item interaction matrix is often low-rank.\n",
    "- Matrix factorization techniques (e.g., Singular Value Decomposition) exploit this low-rank structure to predict missing values.\n",
    "\n",
    "[d] Image Compression\n",
    "- Images can be represented as matrices, and their rank determines the compressibility.\n",
    "- Low-rank approximations (e.g., using SVD) are used to compress images by retaining only the most important information.\n",
    "\n"
   ]
  },
  {
   "cell_type": "code",
   "execution_count": 17,
   "metadata": {},
   "outputs": [
    {
     "name": "stdout",
     "output_type": "stream",
     "text": [
      "Rank of matrix A: 2\n"
     ]
    }
   ],
   "source": [
    "# Calculate matrix rank\n",
    "rank = np.linalg.matrix_rank(A)\n",
    "print(\"Rank of matrix A:\", rank)"
   ]
  },
  {
   "cell_type": "code",
   "execution_count": 18,
   "metadata": {},
   "outputs": [],
   "source": [
    "matrix = [[1, 2, 3], [4, 5, 6], [7, 8, 9]]"
   ]
  }
 ],
 "metadata": {
  "kernelspec": {
   "display_name": "nlp-env",
   "language": "python",
   "name": "python3"
  },
  "language_info": {
   "codemirror_mode": {
    "name": "ipython",
    "version": 3
   },
   "file_extension": ".py",
   "mimetype": "text/x-python",
   "name": "python",
   "nbconvert_exporter": "python",
   "pygments_lexer": "ipython3",
   "version": "3.9.19"
  }
 },
 "nbformat": 4,
 "nbformat_minor": 2
}
