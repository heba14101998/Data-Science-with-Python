{
 "cells": [
  {
   "cell_type": "markdown",
   "metadata": {
    "_cell_guid": "b1076dfc-b9ad-4769-8c92-a6c4dae69d19",
    "_uuid": "8f2839f25d086af736a60e9eeb907d3b93b6e0e5"
   },
   "source": [
    "# Probability Distributions"
   ]
  },
  {
   "cell_type": "markdown",
   "metadata": {},
   "source": [
    "When working with data, variables in the columns of the data set can be thought of as random variables: variables that vary due to chance. \n",
    "\n",
    "A **probability distribution** describes how a random variable is distributed; it tells us which values a random variable is most likely to take on and which values are less likely on a scale from 0 (the event never occurs) to 1 (the event always occurs). "
   ]
  },
  {
   "cell_type": "code",
   "execution_count": 1,
   "metadata": {
    "execution": {
     "iopub.execute_input": "2024-04-21T19:58:39.050500Z",
     "iopub.status.busy": "2024-04-21T19:58:39.050118Z",
     "iopub.status.idle": "2024-04-21T19:58:39.056936Z",
     "shell.execute_reply": "2024-04-21T19:58:39.055855Z",
     "shell.execute_reply.started": "2024-04-21T19:58:39.050440Z"
    }
   },
   "outputs": [],
   "source": [
    "%matplotlib inline\n",
    "\n",
    "import numpy as np\n",
    "import pandas as pd\n",
    "import matplotlib.pyplot as plt\n",
    "import seaborn as sns\n",
    "import scipy.stats as stats\n",
    "import random"
   ]
  },
  {
   "cell_type": "markdown",
   "metadata": {},
   "source": [
    "## 1. The Uniform Distribution"
   ]
  },
  {
   "cell_type": "markdown",
   "metadata": {},
   "source": [
    "The uniform distribution is a probability distribution where each value within a certain range is **equally likely to occur** and values outside of the range never occur.\n",
    "\n",
    "<img src = \"https://i.ytimg.com/vi/UC-CBUSQXAo/maxresdefault.jpg\" alt=\"Uniform Distribution\" width=\"500\">"
   ]
  },
  {
   "cell_type": "code",
   "execution_count": 2,
   "metadata": {
    "execution": {
     "iopub.execute_input": "2024-04-21T19:58:39.058887Z",
     "iopub.status.busy": "2024-04-21T19:58:39.058591Z",
     "iopub.status.idle": "2024-04-21T19:58:39.070607Z",
     "shell.execute_reply": "2024-04-21T19:58:39.069712Z",
     "shell.execute_reply.started": "2024-04-21T19:58:39.058837Z"
    }
   },
   "outputs": [
    {
     "name": "stdout",
     "output_type": "stream",
     "text": [
      "Help on method rvs in module scipy.stats._distn_infrastructure:\n",
      "\n",
      "rvs(*args, **kwds) method of scipy.stats._continuous_distns.uniform_gen instance\n",
      "    Random variates of given type.\n",
      "    \n",
      "    Parameters\n",
      "    ----------\n",
      "    arg1, arg2, arg3,... : array_like\n",
      "        The shape parameter(s) for the distribution (see docstring of the\n",
      "        instance object for more information).\n",
      "    loc : array_like, optional\n",
      "        Location parameter (default=0).\n",
      "    scale : array_like, optional\n",
      "        Scale parameter (default=1).\n",
      "    size : int or tuple of ints, optional\n",
      "        Defining number of random variates (default is 1).\n",
      "    random_state : None or int or ``np.random.RandomState`` instance, optional\n",
      "        If int or RandomState, use it for drawing the random variates.\n",
      "        If None, rely on ``self.random_state``.\n",
      "        Default is None.\n",
      "    \n",
      "    Returns\n",
      "    -------\n",
      "    rvs : ndarray or scalar\n",
      "        Random variates of given `size`.\n",
      "\n"
     ]
    }
   ],
   "source": [
    "help(stats.uniform.rvs)"
   ]
  },
  {
   "cell_type": "markdown",
   "metadata": {},
   "source": [
    "`stats.distribution.rvs()` generates random numbers from the specified distribution. "
   ]
  },
  {
   "cell_type": "code",
   "execution_count": 3,
   "metadata": {
    "execution": {
     "iopub.execute_input": "2024-04-21T19:58:39.072217Z",
     "iopub.status.busy": "2024-04-21T19:58:39.071940Z",
     "iopub.status.idle": "2024-04-21T19:58:39.460853Z",
     "shell.execute_reply": "2024-04-21T19:58:39.459573Z",
     "shell.execute_reply.started": "2024-04-21T19:58:39.072165Z"
    }
   },
   "outputs": [
    {
     "name": "stderr",
     "output_type": "stream",
     "text": [
      "/opt/conda/lib/python3.6/site-packages/scipy/stats/stats.py:1713: FutureWarning: Using a non-tuple sequence for multidimensional indexing is deprecated; use `arr[tuple(seq)]` instead of `arr[seq]`. In the future this will be interpreted as an array index, `arr[np.array(seq)]`, which will result either in an error or a different result.\n",
      "  return np.add.reduce(sorted[indexer] * weights, axis=axis) / sumval\n"
     ]
    },
    {
     "data": {
      "image/png": "[encoded data removed]",
      "text/plain": [
       "<Figure size 432x288 with 1 Axes>"
      ]
     },
     "metadata": {},
     "output_type": "display_data"
    }
   ],
   "source": [
    "uniform_data = stats.uniform.rvs(size=100000,  # Generate 100000 numbers\n",
    "                                 loc = 0,      # From 0 \n",
    "                                 scale=10)     # To 10\n",
    "\n",
    "sns.kdeplot(uniform_data);"
   ]
  },
  {
   "cell_type": "markdown",
   "metadata": {},
   "source": [
    "#### Cumulative Distribution Function (CDF)\n",
    "<img src=\"https://miro.medium.com/v2/resize:fit:1358/0*GVMTk0rK2VOHslEV.png\" alt=\"Cumulative Distribution Function (CDF)\" width=\"500\">\n",
    "\n",
    "- `stats.distribution.cdf()` is used to determine the probability that an observation drawn from a distribution falls below a specified value (known as the [cumulative distribution function](https://en.wikipedia.org/wiki/Cumulative_distribution_function)). \n",
    "- In essence, `cdf()` gives you the area under the distribution's density curve to the left of a certain value on the x axis. \n",
    "- For example, in the uniform distribution above, there is a 25% chance that an observation will be in the range 0 to 2.5 and a 75% chance it will fall in the range 2.5 to 10. "
   ]
  },
  {
   "cell_type": "code",
   "execution_count": 4,
   "metadata": {
    "execution": {
     "iopub.execute_input": "2024-04-21T19:58:39.463712Z",
     "iopub.status.busy": "2024-04-21T19:58:39.462971Z",
     "iopub.status.idle": "2024-04-21T19:58:39.473818Z",
     "shell.execute_reply": "2024-04-21T19:58:39.472591Z",
     "shell.execute_reply.started": "2024-04-21T19:58:39.463629Z"
    }
   },
   "outputs": [
    {
     "data": {
      "text/plain": [
       "0.25"
      ]
     },
     "execution_count": 4,
     "metadata": {},
     "output_type": "execute_result"
    }
   ],
   "source": [
    "stats.uniform.cdf(x=2.5,         # Cutoff value (quantile) to check\n",
    "                  loc=0,         # Distribution start\n",
    "                  scale=10)      # Distribution end"
   ]
  },
  {
   "cell_type": "markdown",
   "metadata": {},
   "source": [
    "- `stats.distribution.ppf()` is the inverse of `cdf()`: it returns the x axis cutoff value (quantile) associated with a given probability. \n",
    "- For instance, if we want to know the cutoff value for which we have a 40% chance of drawing an observation below that value."
   ]
  },
  {
   "cell_type": "code",
   "execution_count": 5,
   "metadata": {
    "execution": {
     "iopub.execute_input": "2024-04-21T19:58:39.477149Z",
     "iopub.status.busy": "2024-04-21T19:58:39.476391Z",
     "iopub.status.idle": "2024-04-21T19:58:39.488256Z",
     "shell.execute_reply": "2024-04-21T19:58:39.486943Z",
     "shell.execute_reply.started": "2024-04-21T19:58:39.477065Z"
    }
   },
   "outputs": [
    {
     "data": {
      "text/plain": [
       "4.0"
      ]
     },
     "execution_count": 5,
     "metadata": {},
     "output_type": "execute_result"
    }
   ],
   "source": [
    "stats.uniform.ppf(q=0.4,         # Probability cutoff\n",
    "                  loc=0,         # Distribution start\n",
    "                  scale=10)      # Distribution end"
   ]
  },
  {
   "cell_type": "markdown",
   "metadata": {},
   "source": [
    "- `stats.distribution.pdf()` gives you the probability density (height of the distribution) at a given x value. \n",
    "- Since the uniform distribution is flat, all x values within its range will have the same probability density and x values outside the range have a probability density of 0."
   ]
  },
  {
   "cell_type": "code",
   "execution_count": 6,
   "metadata": {
    "execution": {
     "iopub.execute_input": "2024-04-21T19:58:39.491327Z",
     "iopub.status.busy": "2024-04-21T19:58:39.490306Z",
     "iopub.status.idle": "2024-04-21T19:58:39.501995Z",
     "shell.execute_reply": "2024-04-21T19:58:39.501321Z",
     "shell.execute_reply.started": "2024-04-21T19:58:39.491226Z"
    }
   },
   "outputs": [
    {
     "name": "stdout",
     "output_type": "stream",
     "text": [
      "Density at x value -1\n",
      "0.0\n",
      "Density at x value 2\n",
      "0.1\n",
      "Density at x value 5\n",
      "0.1\n",
      "Density at x value 8\n",
      "0.1\n",
      "Density at x value 11\n",
      "0.0\n"
     ]
    }
   ],
   "source": [
    "for x in range(-1,12,3):\n",
    "    print(\"Density at x value \" + str(x))\n",
    "    print( stats.uniform.pdf(x, loc=0, scale=10) )   "
   ]
  },
  {
   "cell_type": "code",
   "execution_count": 7,
   "metadata": {
    "execution": {
     "iopub.execute_input": "2024-04-21T19:58:39.503436Z",
     "iopub.status.busy": "2024-04-21T19:58:39.503012Z",
     "iopub.status.idle": "2024-04-21T19:58:39.515524Z",
     "shell.execute_reply": "2024-04-21T19:58:39.514500Z",
     "shell.execute_reply.started": "2024-04-21T19:58:39.503380Z"
    }
   },
   "outputs": [
    {
     "name": "stdout",
     "output_type": "stream",
     "text": [
      "Mean: 5.013689580503001\n",
      "Variance: 8.335418353863467\n",
      "Skewness: -0.002779621212329232\n",
      "Kurtosis: -1.2035487909493283\n"
     ]
    }
   ],
   "source": [
    "from scipy.stats import skew, kurtosis\n",
    "\n",
    "mean_value = uniform_data.mean()\n",
    "variance_value = uniform_data.var()\n",
    "skewness_value = skew(uniform_data)\n",
    "kurtosis_value = kurtosis(uniform_data)\n",
    "\n",
    "print(\"Mean:\", mean_value)\n",
    "print(\"Variance:\", variance_value)\n",
    "print(\"Skewness:\", skewness_value)\n",
    "print(\"Kurtosis:\", kurtosis_value)"
   ]
  },
  {
   "cell_type": "markdown",
   "metadata": {},
   "source": [
    "Probability distribution functions in scipy also support median(), mean(), var() and std()."
   ]
  },
  {
   "cell_type": "code",
   "execution_count": 8,
   "metadata": {
    "execution": {
     "iopub.execute_input": "2024-04-21T19:58:39.517433Z",
     "iopub.status.busy": "2024-04-21T19:58:39.517069Z",
     "iopub.status.idle": "2024-04-21T19:58:39.524889Z",
     "shell.execute_reply": "2024-04-21T19:58:39.524043Z",
     "shell.execute_reply.started": "2024-04-21T19:58:39.517357Z"
    }
   },
   "outputs": [
    {
     "name": "stdout",
     "output_type": "stream",
     "text": [
      "Mean: 0.5\n",
      "Variance: 0.08333333333333333\n",
      "Skewness: 0.0\n",
      "Kurtosis: -1.2\n"
     ]
    }
   ],
   "source": [
    "mean, variance, skewness, kurtosis = stats.uniform.stats(moments='mvsk')\n",
    "\n",
    "print(\"Mean:\", mean)\n",
    "print(\"Variance:\", variance)\n",
    "print(\"Skewness:\", skewness)\n",
    "print(\"Kurtosis:\", kurtosis)"
   ]
  },
  {
   "cell_type": "markdown",
   "metadata": {},
   "source": [
    "#### Generating Random Numbers and Setting The Seed"
   ]
  },
  {
   "cell_type": "markdown",
   "metadata": {},
   "source": [
    "Python also comes with a library called \"random\" that lets you perform various operations that involve randomization. "
   ]
  },
  {
   "cell_type": "code",
   "execution_count": 9,
   "metadata": {
    "execution": {
     "iopub.execute_input": "2024-04-21T19:58:39.526567Z",
     "iopub.status.busy": "2024-04-21T19:58:39.526227Z",
     "iopub.status.idle": "2024-04-21T19:58:39.538164Z",
     "shell.execute_reply": "2024-04-21T19:58:39.536997Z",
     "shell.execute_reply.started": "2024-04-21T19:58:39.526513Z"
    }
   },
   "outputs": [
    {
     "name": "stdout",
     "output_type": "stream",
     "text": [
      "Integer random number:  0\n",
      "Real random number:  0.9476048108533511\n",
      "return random number from list:  9\n",
      "return random number from range:  1.5546310470836155\n"
     ]
    }
   ],
   "source": [
    "# Get a random integer in the specified range\n",
    "print('Integer random number: ',random.randint(0,10)  )\n",
    "\n",
    "# Get a real number between 0 and 1\n",
    "print('Real random number: ',random.random()) \n",
    "\n",
    "# Get a random element from a sequence\n",
    "print('return random number from list: ',random.choice([2,4,6,9])) \n",
    "\n",
    "# Get a real in the specified range\n",
    "print('return random number from range: ', random.uniform(0,10))"
   ]
  },
  {
   "cell_type": "markdown",
   "metadata": {},
   "source": [
    "**Generated the exact same numbers using `random.seed()`**"
   ]
  },
  {
   "cell_type": "code",
   "execution_count": 10,
   "metadata": {
    "execution": {
     "iopub.execute_input": "2024-04-21T19:58:39.539723Z",
     "iopub.status.busy": "2024-04-21T19:58:39.539252Z",
     "iopub.status.idle": "2024-04-21T19:58:39.551634Z",
     "shell.execute_reply": "2024-04-21T19:58:39.550651Z",
     "shell.execute_reply.started": "2024-04-21T19:58:39.539662Z"
    }
   },
   "outputs": [
    {
     "name": "stdout",
     "output_type": "stream",
     "text": [
      "[4.7457067868854805, 6.574725026572553, 6.664104711248381, 1.4260035292536777]\n",
      "[4.7457067868854805, 6.574725026572553, 6.664104711248381, 1.4260035292536777]\n"
     ]
    }
   ],
   "source": [
    "random.seed(12)  # Set the seed to an arbitrary value\n",
    "print([random.uniform(0,10) for x in range(4)])\n",
    "\n",
    "random.seed(12)  # Set the seed to the same value\n",
    "print([random.uniform(0,10) for x in range(4)])"
   ]
  },
  {
   "cell_type": "markdown",
   "metadata": {},
   "source": [
    "---\n",
    "## 2. The Normal Distribution"
   ]
  },
  {
   "cell_type": "markdown",
   "metadata": {},
   "source": [
    "Many real world phenomena, like IQ test scores and human heights, so it is often used to model random variables. Many common statistical tests assume distributions are normal.\n",
    "- A normal distribution is defined by its center (mean) and spread (standard deviation). \n",
    "- The distribution: as a rule of thumb, about 68% of the data lies within 1 standard deviation of the mean, 95% lies within 2 standard deviations and 99.7% lies within 3 standard deviations.\n",
    "\n",
    "<img src=\"https://media.licdn.com/dms/image/D5612AQG8zrJjcL54ZQ/article-cover_image-shrink_720_1280/0/1677870809878?e=2147483647&v=beta&t=b7PE_5vElyBGzVwADb7Z14OoDni_vutH3IlMdmVH6JM\" alt=\"Normal distribution\" width=\"500\">"
   ]
  },
  {
   "cell_type": "code",
   "execution_count": 11,
   "metadata": {
    "execution": {
     "iopub.execute_input": "2024-04-21T19:58:39.554006Z",
     "iopub.status.busy": "2024-04-21T19:58:39.553696Z",
     "iopub.status.idle": "2024-04-21T19:58:39.563406Z",
     "shell.execute_reply": "2024-04-21T19:58:39.562609Z",
     "shell.execute_reply.started": "2024-04-21T19:58:39.553952Z"
    }
   },
   "outputs": [
    {
     "name": "stdout",
     "output_type": "stream",
     "text": [
      "0.15865525393145707 0.15865525393145707 0.6826894921370859\n"
     ]
    }
   ],
   "source": [
    "prob_under_minus1 = stats.norm.cdf(x= -1,   # Cutoff value (quantile) to check\n",
    "                                loc = 0,    # Mean = 0           \n",
    "                                scale= 1)   # std = 1 \n",
    "\n",
    "prob_over_1 = 1 - stats.norm.cdf(x= 1,  \n",
    "                                loc = 0,               \n",
    "                                scale= 1) \n",
    "\n",
    "between_prob = 1-(prob_under_minus1+prob_over_1)\n",
    "\n",
    "print(prob_under_minus1, prob_over_1, between_prob)"
   ]
  },
  {
   "cell_type": "markdown",
   "metadata": {},
   "source": [
    "The output shows that roughly 16% of the data generated by a normal distribution with mean 0 and standard deviation 1 is below -1, 16% is above 1 and 68% lies between -1 and 1, which agrees with the 68, 95, 99.7 rule. Let's plot the normal distribution and inspect areas we calculated:"
   ]
  },
  {
   "cell_type": "code",
   "execution_count": 12,
   "metadata": {
    "execution": {
     "iopub.execute_input": "2024-04-21T19:58:39.564644Z",
     "iopub.status.busy": "2024-04-21T19:58:39.564376Z",
     "iopub.status.idle": "2024-04-21T19:58:40.031489Z",
     "shell.execute_reply": "2024-04-21T19:58:40.030597Z",
     "shell.execute_reply.started": "2024-04-21T19:58:39.564594Z"
    }
   },
   "outputs": [
    {
     "data": {
      "image/png": "[encoded data removed]",
      "text/plain": [
       "<Figure size 504x504 with 1 Axes>"
      ]
     },
     "metadata": {},
     "output_type": "display_data"
    }
   ],
   "source": [
    "# Plot normal distribution areas*\n",
    "plt.rcParams[\"figure.figsize\"] = (7,7)\n",
    "                                  \n",
    "plt.fill_between(x=np.arange(-4,-1,0.01), \n",
    "                 y1= stats.norm.pdf(np.arange(-4,-1,0.01)) ,\n",
    "                 facecolor='red',\n",
    "                 alpha=0.35)\n",
    "\n",
    "plt.fill_between(x=np.arange(1,4,0.01), \n",
    "                 y1= stats.norm.pdf(np.arange(1,4,0.01)) ,\n",
    "                 facecolor='red',\n",
    "                 alpha=0.35)\n",
    "\n",
    "plt.fill_between(x=np.arange(-1,1,0.01), \n",
    "                 y1= stats.norm.pdf(np.arange(-1,1,0.01)) ,\n",
    "                 facecolor='blue',\n",
    "                 alpha=0.35)\n",
    "\n",
    "plt.text(x=-1.8, y=0.03, s= round(prob_under_minus1,3))\n",
    "plt.text(x=-0.2, y=0.1, s= round(between_prob,3))\n",
    "plt.text(x=1.4, y=0.03, s= round(prob_over_1,3));"
   ]
  },
  {
   "cell_type": "code",
   "execution_count": 13,
   "metadata": {
    "execution": {
     "iopub.execute_input": "2024-04-21T19:58:40.033350Z",
     "iopub.status.busy": "2024-04-21T19:58:40.033060Z",
     "iopub.status.idle": "2024-04-21T19:58:40.040371Z",
     "shell.execute_reply": "2024-04-21T19:58:40.039055Z",
     "shell.execute_reply.started": "2024-04-21T19:58:40.033290Z"
    }
   },
   "outputs": [
    {
     "name": "stdout",
     "output_type": "stream",
     "text": [
      "-0.994457883209753\n",
      "0.994457883209753\n"
     ]
    }
   ],
   "source": [
    "print( stats.norm.ppf(q=0.16) ) # Find the quantile for the 16% cutoff\n",
    "print( stats.norm.ppf(q=0.84) ) # Find the quantile for the (100-16)=84% cutoff"
   ]
  },
  {
   "cell_type": "markdown",
   "metadata": {},
   "source": [
    "> **The quantile output above confirms that roughly 68% of the data lies between -1 to 1 standard deviations from the mean.**"
   ]
  },
  {
   "cell_type": "code",
   "execution_count": 14,
   "metadata": {
    "execution": {
     "iopub.execute_input": "2024-04-21T19:58:40.042760Z",
     "iopub.status.busy": "2024-04-21T19:58:40.042298Z",
     "iopub.status.idle": "2024-04-21T19:58:40.053023Z",
     "shell.execute_reply": "2024-04-21T19:58:40.051851Z",
     "shell.execute_reply.started": "2024-04-21T19:58:40.042678Z"
    }
   },
   "outputs": [
    {
     "name": "stdout",
     "output_type": "stream",
     "text": [
      "-1.9599639845400545\n",
      "1.959963984540054\n"
     ]
    }
   ],
   "source": [
    "print( stats.norm.ppf(q=0.025) ) # Find the quantile for the 2.5% cutoff\n",
    "print( stats.norm.ppf(q=0.975) ) # Find the quantile for the (100-2.5)=97.5% cutoff"
   ]
  },
  {
   "cell_type": "markdown",
   "metadata": {},
   "source": [
    "> **The quantile output above confirms that roughly 95% of the data lies between -2 (-1.96) to 2 (+1.96) standard deviations from the mean.**"
   ]
  },
  {
   "cell_type": "code",
   "execution_count": 15,
   "metadata": {
    "execution": {
     "iopub.execute_input": "2024-04-21T19:58:40.054880Z",
     "iopub.status.busy": "2024-04-21T19:58:40.054512Z",
     "iopub.status.idle": "2024-04-21T19:58:40.066245Z",
     "shell.execute_reply": "2024-04-21T19:58:40.065238Z",
     "shell.execute_reply.started": "2024-04-21T19:58:40.054821Z"
    }
   },
   "outputs": [
    {
     "name": "stdout",
     "output_type": "stream",
     "text": [
      "-2.9677379253417833\n",
      "2.9677379253417944\n"
     ]
    }
   ],
   "source": [
    "print( stats.norm.ppf(q=0.0015) ) # Find the quantile for the 0.15% cutoff\n",
    "print( stats.norm.ppf(q=0.9985) ) # Find the quantile for the (100-0.15)=99.85% cutoff"
   ]
  },
  {
   "cell_type": "markdown",
   "metadata": {},
   "source": [
    "> **The quantile output above confirms that roughly 99.7% of the data lies between -3 (-2.96) to 3 (+2.96) standard deviations from the mean.**"
   ]
  },
  {
   "cell_type": "markdown",
   "metadata": {},
   "source": [
    "---\n",
    "## The Binomial Distribution"
   ]
  },
  {
   "cell_type": "markdown",
   "metadata": {},
   "source": [
    "The [binomial distribution](https://en.wikipedia.org/wiki/Binomial_distribution) is a **discrete** probability distribution that models the outcomes of a given number of random trails of some experiment or event. \n",
    "- The binomial is defined by two parameters: the probability of success in any given trial and the number of trials. \n",
    "- The binomial distribution tells you **how likely it is to achieve a given number of successes** in **n** trials of the experiment. \n",
    "- For example, we could model flipping a fair coin 10 times with a binomial distribution where the number of trials is set to 10 and the probability of success is set to 0.5. In this case the distribution would tell us how likely it is to get zero heads, 1 head, 2 heads and so on."
   ]
  },
  {
   "cell_type": "code",
   "execution_count": 16,
   "metadata": {
    "execution": {
     "iopub.execute_input": "2024-04-21T19:58:40.068568Z",
     "iopub.status.busy": "2024-04-21T19:58:40.068183Z",
     "iopub.status.idle": "2024-04-21T19:58:40.080317Z",
     "shell.execute_reply": "2024-04-21T19:58:40.079053Z",
     "shell.execute_reply.started": "2024-04-21T19:58:40.068498Z"
    }
   },
   "outputs": [
    {
     "data": {
      "text/plain": [
       "(array([5, 6, 4, ..., 5, 5, 6]), 10000)"
      ]
     },
     "execution_count": 16,
     "metadata": {},
     "output_type": "execute_result"
    }
   ],
   "source": [
    "# عملت 10000 تجربه ف كل مره كنت بعمل ملك وكتابه 10 مرات واعد طلع الملك كام مره \n",
    "fair_coin_flips = stats.binom.rvs(n=10,        # Number of flips per trial\n",
    "                                  p=0.5,       # Success probability\n",
    "                                  size=10000)  # Number of trials\n",
    "fair_coin_flips, len(fair_coin_flips)"
   ]
  },
  {
   "cell_type": "code",
   "execution_count": 17,
   "metadata": {
    "execution": {
     "iopub.execute_input": "2024-04-21T19:58:40.082525Z",
     "iopub.status.busy": "2024-04-21T19:58:40.082115Z",
     "iopub.status.idle": "2024-04-21T19:58:40.131145Z",
     "shell.execute_reply": "2024-04-21T19:58:40.129969Z",
     "shell.execute_reply.started": "2024-04-21T19:58:40.082446Z"
    }
   },
   "outputs": [
    {
     "data": {
      "text/html": [
       "<div>\n",
       "<style scoped>\n",
       "    .dataframe tbody tr th:only-of-type {\n",
       "        vertical-align: middle;\n",
       "    }\n",
       "\n",
       "    .dataframe tbody tr th {\n",
       "        vertical-align: top;\n",
       "    }\n",
       "\n",
       "    .dataframe thead th {\n",
       "        text-align: right;\n",
       "    }\n",
       "</style>\n",
       "<table border=\"1\" class=\"dataframe\">\n",
       "  <thead>\n",
       "    <tr style=\"text-align: right;\">\n",
       "      <th>col_0</th>\n",
       "      <th>0</th>\n",
       "      <th>1</th>\n",
       "      <th>2</th>\n",
       "      <th>3</th>\n",
       "      <th>4</th>\n",
       "      <th>5</th>\n",
       "      <th>6</th>\n",
       "      <th>7</th>\n",
       "      <th>8</th>\n",
       "      <th>9</th>\n",
       "      <th>10</th>\n",
       "    </tr>\n",
       "    <tr>\n",
       "      <th>row_0</th>\n",
       "      <th></th>\n",
       "      <th></th>\n",
       "      <th></th>\n",
       "      <th></th>\n",
       "      <th></th>\n",
       "      <th></th>\n",
       "      <th></th>\n",
       "      <th></th>\n",
       "      <th></th>\n",
       "      <th></th>\n",
       "      <th></th>\n",
       "    </tr>\n",
       "  </thead>\n",
       "  <tbody>\n",
       "    <tr>\n",
       "      <th>counts</th>\n",
       "      <td>7</td>\n",
       "      <td>111</td>\n",
       "      <td>419</td>\n",
       "      <td>1188</td>\n",
       "      <td>2057</td>\n",
       "      <td>2440</td>\n",
       "      <td>2087</td>\n",
       "      <td>1174</td>\n",
       "      <td>407</td>\n",
       "      <td>106</td>\n",
       "      <td>4</td>\n",
       "    </tr>\n",
       "  </tbody>\n",
       "</table>\n",
       "</div>"
      ],
      "text/plain": [
       "col_0   0    1    2     3     4     5     6     7    8    9   10\n",
       "row_0                                                           \n",
       "counts   7  111  419  1188  2057  2440  2087  1174  407  106   4"
      ]
     },
     "execution_count": 17,
     "metadata": {},
     "output_type": "execute_result"
    }
   ],
   "source": [
    "pd.crosstab(index='counts', columns=fair_coin_flips)"
   ]
  },
  {
   "cell_type": "code",
   "execution_count": 18,
   "metadata": {
    "execution": {
     "iopub.execute_input": "2024-04-21T19:58:40.133029Z",
     "iopub.status.busy": "2024-04-21T19:58:40.132633Z",
     "iopub.status.idle": "2024-04-21T19:58:40.552090Z",
     "shell.execute_reply": "2024-04-21T19:58:40.550509Z",
     "shell.execute_reply.started": "2024-04-21T19:58:40.132953Z"
    }
   },
   "outputs": [
    {
     "data": {
      "text/plain": [
       "<matplotlib.axes._subplots.AxesSubplot at 0x7f5c49d79e48>"
      ]
     },
     "execution_count": 18,
     "metadata": {},
     "output_type": "execute_result"
    },
    {
     "data": {
      "image/png": "[encoded data removed]",
      "text/plain": [
       "<Figure size 504x504 with 1 Axes>"
      ]
     },
     "metadata": {},
     "output_type": "display_data"
    }
   ],
   "source": [
    "sns.distplot(fair_coin_flips, bins=11, kde=False)"
   ]
  },
  {
   "cell_type": "markdown",
   "metadata": {},
   "source": [
    "- The binomial distribution is discrete, it only takes on integer values so we can summarize binomial data with a frequency table and its distribution with a histogram. \n",
    "- The histogram shows us that a binomial distribution with a 50% probability of success is roughly symmetric, with the most likely outcomes lying at the center. This is reminiscent of the normal distribution.\n",
    "- If we alter the success probability, the distribution won't be symmetric."
   ]
  },
  {
   "cell_type": "code",
   "execution_count": 19,
   "metadata": {
    "execution": {
     "iopub.execute_input": "2024-04-21T19:58:40.554683Z",
     "iopub.status.busy": "2024-04-21T19:58:40.554145Z",
     "iopub.status.idle": "2024-04-21T19:58:41.040074Z",
     "shell.execute_reply": "2024-04-21T19:58:41.038604Z",
     "shell.execute_reply.started": "2024-04-21T19:58:40.554591Z"
    }
   },
   "outputs": [
    {
     "data": {
      "text/html": [
       "<div>\n",
       "<style scoped>\n",
       "    .dataframe tbody tr th:only-of-type {\n",
       "        vertical-align: middle;\n",
       "    }\n",
       "\n",
       "    .dataframe tbody tr th {\n",
       "        vertical-align: top;\n",
       "    }\n",
       "\n",
       "    .dataframe thead th {\n",
       "        text-align: right;\n",
       "    }\n",
       "</style>\n",
       "<table border=\"1\" class=\"dataframe\">\n",
       "  <thead>\n",
       "    <tr style=\"text-align: right;\">\n",
       "      <th>col_0</th>\n",
       "      <th>2</th>\n",
       "      <th>3</th>\n",
       "      <th>4</th>\n",
       "      <th>5</th>\n",
       "      <th>6</th>\n",
       "      <th>7</th>\n",
       "      <th>8</th>\n",
       "      <th>9</th>\n",
       "      <th>10</th>\n",
       "    </tr>\n",
       "    <tr>\n",
       "      <th>row_0</th>\n",
       "      <th></th>\n",
       "      <th></th>\n",
       "      <th></th>\n",
       "      <th></th>\n",
       "      <th></th>\n",
       "      <th></th>\n",
       "      <th></th>\n",
       "      <th></th>\n",
       "      <th></th>\n",
       "    </tr>\n",
       "  </thead>\n",
       "  <tbody>\n",
       "    <tr>\n",
       "      <th>counts</th>\n",
       "      <td>2</td>\n",
       "      <td>6</td>\n",
       "      <td>58</td>\n",
       "      <td>250</td>\n",
       "      <td>854</td>\n",
       "      <td>1998</td>\n",
       "      <td>3089</td>\n",
       "      <td>2639</td>\n",
       "      <td>1104</td>\n",
       "    </tr>\n",
       "  </tbody>\n",
       "</table>\n",
       "</div>"
      ],
      "text/plain": [
       "col_0   2   3   4    5    6     7     8     9     10\n",
       "row_0                                               \n",
       "counts   2   6  58  250  854  1998  3089  2639  1104"
      ]
     },
     "execution_count": 19,
     "metadata": {},
     "output_type": "execute_result"
    },
    {
     "data": {
      "image/png": "[encoded data removed]",
      "text/plain": [
       "<Figure size 504x504 with 1 Axes>"
      ]
     },
     "metadata": {},
     "output_type": "display_data"
    }
   ],
   "source": [
    "biased_coin_flips = stats.binom.rvs(n=10,      # Number of flips per trial\n",
    "                                  p=0.8,       # Success probability\n",
    "                                  size=10000)  # Number of trials\n",
    "\n",
    "\n",
    "# Plot histogram\n",
    "sns.distplot(biased_coin_flips, bins=11, kde=False)\n",
    "\n",
    "# Print table of counts\n",
    "pd.crosstab(index=\"counts\", columns= biased_coin_flips)"
   ]
  },
  {
   "cell_type": "markdown",
   "metadata": {},
   "source": [
    "The cdf() function lets us check the probability of achieving a number of successes within a certain range:"
   ]
  },
  {
   "cell_type": "code",
   "execution_count": 20,
   "metadata": {
    "execution": {
     "iopub.execute_input": "2024-04-21T19:58:41.043479Z",
     "iopub.status.busy": "2024-04-21T19:58:41.042463Z",
     "iopub.status.idle": "2024-04-21T19:58:41.053588Z",
     "shell.execute_reply": "2024-04-21T19:58:41.052820Z",
     "shell.execute_reply.started": "2024-04-21T19:58:41.043380Z"
    }
   },
   "outputs": [
    {
     "data": {
      "text/plain": [
       "0.032793497599999964"
      ]
     },
     "execution_count": 20,
     "metadata": {},
     "output_type": "execute_result"
    }
   ],
   "source": [
    "stats.binom.cdf(k=5,        # Probability of k = 5 successes or less\n",
    "                n=10,       # With 10 flips\n",
    "                p=0.8)      # And success probability 0.8"
   ]
  },
  {
   "cell_type": "code",
   "execution_count": 21,
   "metadata": {
    "execution": {
     "iopub.execute_input": "2024-04-21T19:58:41.055509Z",
     "iopub.status.busy": "2024-04-21T19:58:41.054949Z",
     "iopub.status.idle": "2024-04-21T19:58:41.067677Z",
     "shell.execute_reply": "2024-04-21T19:58:41.066612Z",
     "shell.execute_reply.started": "2024-04-21T19:58:41.055435Z"
    }
   },
   "outputs": [
    {
     "data": {
      "text/plain": [
       "0.37580963840000003"
      ]
     },
     "execution_count": 21,
     "metadata": {},
     "output_type": "execute_result"
    }
   ],
   "source": [
    "1 - stats.binom.cdf(k=8,        # Probability of k = 9 successes or more\n",
    "                    n=10,       # With 10 flips\n",
    "                    p=0.8)      # And success probability 0.8"
   ]
  },
  {
   "cell_type": "markdown",
   "metadata": {},
   "source": [
    "- For **continuous** distributions like the normal, we use `pdf()` (probability density functions) to check the probability density at a given x value. \n",
    "- For **discrete** distributions like the binomial, we use `pmf()` (probability mass function) to check the mass (proportion of observations) at given number of successes k."
   ]
  },
  {
   "cell_type": "code",
   "execution_count": 22,
   "metadata": {
    "execution": {
     "iopub.execute_input": "2024-04-21T19:58:41.069443Z",
     "iopub.status.busy": "2024-04-21T19:58:41.069074Z",
     "iopub.status.idle": "2024-04-21T19:58:41.082156Z",
     "shell.execute_reply": "2024-04-21T19:58:41.081055Z",
     "shell.execute_reply.started": "2024-04-21T19:58:41.069383Z"
    }
   },
   "outputs": [
    {
     "data": {
      "text/plain": [
       "0.24609375000000025"
      ]
     },
     "execution_count": 22,
     "metadata": {},
     "output_type": "execute_result"
    }
   ],
   "source": [
    "stats.binom.pmf(k=5,        # Probability of k = 5 successes\n",
    "                n=10,       # With 10 flips\n",
    "                p=0.5)      # And success probability 0.5"
   ]
  },
  {
   "cell_type": "code",
   "execution_count": 23,
   "metadata": {
    "execution": {
     "iopub.execute_input": "2024-04-21T19:58:41.083838Z",
     "iopub.status.busy": "2024-04-21T19:58:41.083499Z",
     "iopub.status.idle": "2024-04-21T19:58:41.094674Z",
     "shell.execute_reply": "2024-04-21T19:58:41.093515Z",
     "shell.execute_reply.started": "2024-04-21T19:58:41.083789Z"
    }
   },
   "outputs": [
    {
     "data": {
      "text/plain": [
       "0.301989888"
      ]
     },
     "execution_count": 23,
     "metadata": {},
     "output_type": "execute_result"
    }
   ],
   "source": [
    "stats.binom.pmf(k=8,        # Probability of k = 8 successes\n",
    "                n=10,       # With 10 flips\n",
    "                p=0.8)      # And success probability 0.8"
   ]
  },
  {
   "cell_type": "markdown",
   "metadata": {},
   "source": [
    "---\n",
    "## 4. Geometric Distributions\n",
    "The geometric and exponential distributions model the time it takes for an event to occur. The [geometric](https://www.youtube.com/watch?v=o5N8ZeMQZxY) distribution is discrete and models the number of **trials it takes to achieve a success** in repeated experiments with a given probability of success. ايه احتماليه ان النجاح يحصل بعد 5 تجارب مثلاوبالتالي التجارب دي هي ال random varaible"
   ]
  },
  {
   "cell_type": "code",
   "execution_count": 24,
   "metadata": {
    "execution": {
     "iopub.execute_input": "2024-04-21T19:58:41.096675Z",
     "iopub.status.busy": "2024-04-21T19:58:41.096329Z",
     "iopub.status.idle": "2024-04-21T19:58:41.111635Z",
     "shell.execute_reply": "2024-04-21T19:58:41.110724Z",
     "shell.execute_reply.started": "2024-04-21T19:58:41.096602Z"
    }
   },
   "outputs": [
    {
     "data": {
      "text/plain": [
       "{1, 2, 3, 4, 5, 6, 7, 8, 9, 10, 11, 12, 14}"
      ]
     },
     "execution_count": 24,
     "metadata": {},
     "output_type": "execute_result"
    }
   ],
   "source": [
    "\n",
    "set(stats.geom.rvs(size=10000, p=0.5))"
   ]
  },
  {
   "cell_type": "code",
   "execution_count": 25,
   "metadata": {
    "execution": {
     "iopub.execute_input": "2024-04-21T19:58:41.113570Z",
     "iopub.status.busy": "2024-04-21T19:58:41.113227Z",
     "iopub.status.idle": "2024-04-21T19:58:41.583746Z",
     "shell.execute_reply": "2024-04-21T19:58:41.582246Z",
     "shell.execute_reply.started": "2024-04-21T19:58:41.113508Z"
    }
   },
   "outputs": [
    {
     "data": {
      "text/html": [
       "<div>\n",
       "<style scoped>\n",
       "    .dataframe tbody tr th:only-of-type {\n",
       "        vertical-align: middle;\n",
       "    }\n",
       "\n",
       "    .dataframe tbody tr th {\n",
       "        vertical-align: top;\n",
       "    }\n",
       "\n",
       "    .dataframe thead th {\n",
       "        text-align: right;\n",
       "    }\n",
       "</style>\n",
       "<table border=\"1\" class=\"dataframe\">\n",
       "  <thead>\n",
       "    <tr style=\"text-align: right;\">\n",
       "      <th>col_0</th>\n",
       "      <th>1</th>\n",
       "      <th>2</th>\n",
       "      <th>3</th>\n",
       "      <th>4</th>\n",
       "      <th>5</th>\n",
       "      <th>6</th>\n",
       "      <th>7</th>\n",
       "      <th>8</th>\n",
       "      <th>9</th>\n",
       "      <th>10</th>\n",
       "      <th>11</th>\n",
       "      <th>12</th>\n",
       "      <th>13</th>\n",
       "    </tr>\n",
       "    <tr>\n",
       "      <th>row_0</th>\n",
       "      <th></th>\n",
       "      <th></th>\n",
       "      <th></th>\n",
       "      <th></th>\n",
       "      <th></th>\n",
       "      <th></th>\n",
       "      <th></th>\n",
       "      <th></th>\n",
       "      <th></th>\n",
       "      <th></th>\n",
       "      <th></th>\n",
       "      <th></th>\n",
       "      <th></th>\n",
       "    </tr>\n",
       "  </thead>\n",
       "  <tbody>\n",
       "    <tr>\n",
       "      <th>counts</th>\n",
       "      <td>5072</td>\n",
       "      <td>2509</td>\n",
       "      <td>1215</td>\n",
       "      <td>606</td>\n",
       "      <td>301</td>\n",
       "      <td>138</td>\n",
       "      <td>83</td>\n",
       "      <td>39</td>\n",
       "      <td>18</td>\n",
       "      <td>12</td>\n",
       "      <td>5</td>\n",
       "      <td>1</td>\n",
       "      <td>1</td>\n",
       "    </tr>\n",
       "  </tbody>\n",
       "</table>\n",
       "</div>"
      ],
      "text/plain": [
       "col_0     1     2     3    4    5    6   7   8   9   10  11  12  13\n",
       "row_0                                                              \n",
       "counts  5072  2509  1215  606  301  138  83  39  18  12   5   1   1"
      ]
     },
     "execution_count": 25,
     "metadata": {},
     "output_type": "execute_result"
    },
    {
     "data": {
      "image/png": "[encoded data removed]",
      "text/plain": [
       "<Figure size 504x504 with 1 Axes>"
      ]
     },
     "metadata": {},
     "output_type": "display_data"
    }
   ],
   "source": [
    "import random\n",
    "random.seed(12)\n",
    "\n",
    "flips_till_heads = stats.geom.rvs(size=10000,  # Generate geometric data\n",
    "                                  p=0.5)       # With success prob 0.5\n",
    "\n",
    "# Plot histogram\n",
    "sns.distplot(flips_till_heads, bins=max(flips_till_heads)+1, kde=False)\n",
    "\n",
    "# Print table of counts\n",
    "pd.crosstab(index=\"counts\", columns= flips_till_heads)"
   ]
  },
  {
   "cell_type": "markdown",
   "metadata": {},
   "source": [
    "##### The distribution is very likely to get a heads in 1 or 2 flips, while it is very unlikely for it to take more than 5 flips to get a heads. In the 10,000 trails we generated, the longest it took to get a heads was 13 flips."
   ]
  },
  {
   "cell_type": "code",
   "execution_count": 26,
   "metadata": {
    "execution": {
     "iopub.execute_input": "2024-04-21T19:58:41.586122Z",
     "iopub.status.busy": "2024-04-21T19:58:41.585638Z",
     "iopub.status.idle": "2024-04-21T19:58:41.600649Z",
     "shell.execute_reply": "2024-04-21T19:58:41.599668Z",
     "shell.execute_reply.started": "2024-04-21T19:58:41.586045Z"
    }
   },
   "outputs": [
    {
     "data": {
      "text/plain": [
       "0.03125"
      ]
     },
     "execution_count": 26,
     "metadata": {},
     "output_type": "execute_result"
    }
   ],
   "source": [
    "first_five = stats.geom.cdf(k=5,   # Prob of success in first 5 flips\n",
    "                           p=0.5)\n",
    "\n",
    "1 - first_five"
   ]
  },
  {
   "cell_type": "code",
   "execution_count": 27,
   "metadata": {
    "execution": {
     "iopub.execute_input": "2024-04-21T19:58:41.602153Z",
     "iopub.status.busy": "2024-04-21T19:58:41.601883Z",
     "iopub.status.idle": "2024-04-21T19:58:41.612489Z",
     "shell.execute_reply": "2024-04-21T19:58:41.611543Z",
     "shell.execute_reply.started": "2024-04-21T19:58:41.602111Z"
    }
   },
   "outputs": [
    {
     "data": {
      "text/plain": [
       "0.25"
      ]
     },
     "execution_count": 27,
     "metadata": {},
     "output_type": "execute_result"
    }
   ],
   "source": [
    "stats.geom.pmf(k=2,   # Prob of needing exactly 2 flips to get first success\n",
    "              p=0.5)"
   ]
  },
  {
   "cell_type": "markdown",
   "metadata": {},
   "source": [
    "---\n",
    "## 5. Exponential Distributions\n",
    "The exponential distribution is a continuous analog of the geometric distribution and models **the amount of time** you have to wait before an event occurs given a certain occurrence rate."
   ]
  },
  {
   "cell_type": "code",
   "execution_count": 28,
   "metadata": {
    "execution": {
     "iopub.execute_input": "2024-04-21T19:58:41.613933Z",
     "iopub.status.busy": "2024-04-21T19:58:41.613679Z",
     "iopub.status.idle": "2024-04-21T19:58:41.625807Z",
     "shell.execute_reply": "2024-04-21T19:58:41.624654Z",
     "shell.execute_reply.started": "2024-04-21T19:58:41.613887Z"
    }
   },
   "outputs": [
    {
     "data": {
      "text/plain": [
       "0.36787944117144233"
      ]
     },
     "execution_count": 28,
     "metadata": {},
     "output_type": "execute_result"
    }
   ],
   "source": [
    "# Get the probability of waiting more than 1 time unit before a success\n",
    "prob_1 = stats.expon.cdf(x=1,        \n",
    "                         scale=1)  # Arrival rate\n",
    "\n",
    "1 - prob_1"
   ]
  },
  {
   "cell_type": "code",
   "execution_count": 29,
   "metadata": {
    "execution": {
     "iopub.execute_input": "2024-04-21T19:58:41.627960Z",
     "iopub.status.busy": "2024-04-21T19:58:41.627572Z",
     "iopub.status.idle": "2024-04-21T19:58:42.126289Z",
     "shell.execute_reply": "2024-04-21T19:58:42.125002Z",
     "shell.execute_reply.started": "2024-04-21T19:58:41.627887Z"
    }
   },
   "outputs": [
    {
     "data": {
      "image/png": "[encoded data removed]",
      "text/plain": [
       "<Figure size 504x504 with 1 Axes>"
      ]
     },
     "metadata": {},
     "output_type": "display_data"
    }
   ],
   "source": [
    "plt.fill_between(x=np.arange(0,1,0.01), \n",
    "                 y1= stats.expon.pdf(np.arange(0,1,0.01)) ,\n",
    "                 facecolor='blue',\n",
    "                 alpha=0.35)\n",
    "\n",
    "plt.fill_between(x=np.arange(1,7,0.01), \n",
    "                 y1= stats.expon.pdf(np.arange(1,7,0.01)) ,\n",
    "                 facecolor='red',\n",
    "                 alpha=0.35)\n",
    "\n",
    "plt.text(x=0.17, y=0.2, s= round(prob_1,3))\n",
    "plt.text(x=1.2, y=0.08, s= round(1 - prob_1,3));"
   ]
  },
  {
   "cell_type": "markdown",
   "metadata": {},
   "source": [
    "#### Similar to the geometric distribution, the exponential starts high and has a long tail that trails off to the right that contains rare cases where you have to wait much longer than average for an arrival."
   ]
  },
  {
   "cell_type": "markdown",
   "metadata": {},
   "source": [
    "---\n",
    "## 5. Poisson Distribution"
   ]
  },
  {
   "cell_type": "markdown",
   "metadata": {},
   "source": [
    "The Poisson distribution models the probability of seeing a certain number of successes within a time interval.\n",
    "- The Poisson distribution can be used to model traffic, such as the number of arrivals a hospital can expect in a hour's time or the number of emails you'd expect to receive in a week."
   ]
  },
  {
   "cell_type": "code",
   "execution_count": 30,
   "metadata": {
    "execution": {
     "iopub.execute_input": "2024-04-21T19:58:42.129098Z",
     "iopub.status.busy": "2024-04-21T19:58:42.128335Z",
     "iopub.status.idle": "2024-04-21T19:58:42.595686Z",
     "shell.execute_reply": "2024-04-21T19:58:42.594192Z",
     "shell.execute_reply.started": "2024-04-21T19:58:42.129015Z"
    }
   },
   "outputs": [
    {
     "data": {
      "text/html": [
       "<div>\n",
       "<style scoped>\n",
       "    .dataframe tbody tr th:only-of-type {\n",
       "        vertical-align: middle;\n",
       "    }\n",
       "\n",
       "    .dataframe tbody tr th {\n",
       "        vertical-align: top;\n",
       "    }\n",
       "\n",
       "    .dataframe thead th {\n",
       "        text-align: right;\n",
       "    }\n",
       "</style>\n",
       "<table border=\"1\" class=\"dataframe\">\n",
       "  <thead>\n",
       "    <tr style=\"text-align: right;\">\n",
       "      <th>col_0</th>\n",
       "      <th>0</th>\n",
       "      <th>1</th>\n",
       "      <th>2</th>\n",
       "      <th>3</th>\n",
       "      <th>4</th>\n",
       "      <th>5</th>\n",
       "      <th>6</th>\n",
       "    </tr>\n",
       "    <tr>\n",
       "      <th>row_0</th>\n",
       "      <th></th>\n",
       "      <th></th>\n",
       "      <th></th>\n",
       "      <th></th>\n",
       "      <th></th>\n",
       "      <th></th>\n",
       "      <th></th>\n",
       "    </tr>\n",
       "  </thead>\n",
       "  <tbody>\n",
       "    <tr>\n",
       "      <th>counts</th>\n",
       "      <td>3713</td>\n",
       "      <td>3694</td>\n",
       "      <td>1779</td>\n",
       "      <td>617</td>\n",
       "      <td>163</td>\n",
       "      <td>28</td>\n",
       "      <td>6</td>\n",
       "    </tr>\n",
       "  </tbody>\n",
       "</table>\n",
       "</div>"
      ],
      "text/plain": [
       "col_0      0     1     2    3    4   5  6\n",
       "row_0                                    \n",
       "counts  3713  3694  1779  617  163  28  6"
      ]
     },
     "execution_count": 30,
     "metadata": {},
     "output_type": "execute_result"
    },
    {
     "data": {
      "image/png": "[encoded data removed]",
      "text/plain": [
       "<Figure size 504x504 with 1 Axes>"
      ]
     },
     "metadata": {},
     "output_type": "display_data"
    }
   ],
   "source": [
    "random.seed(12)\n",
    "\n",
    "arrival_rate_1 = stats.poisson.rvs(size=10000,  # Generate Poisson data\n",
    "                                   mu=1 )       # Average arrival time 1 (lambda)\n",
    "\n",
    "# Plot histogram\n",
    "sns.distplot(arrival_rate_1, kde=False, bins=max(arrival_rate_1)+1)\n",
    "\n",
    "# Print table of counts\n",
    "pd.crosstab(index=\"counts\", columns= arrival_rate_1)"
   ]
  },
  {
   "cell_type": "markdown",
   "metadata": {},
   "source": [
    "The histogram shows that when arrivals are relatively infrequent, it is rare to see more than a couple of arrivals in each time period. When the arrival rate is high, it becomes increasingly rare to see a low number of arrivals and the distribution starts to look more symmetric:"
   ]
  },
  {
   "cell_type": "code",
   "execution_count": 31,
   "metadata": {
    "execution": {
     "iopub.execute_input": "2024-04-21T19:58:42.598722Z",
     "iopub.status.busy": "2024-04-21T19:58:42.597880Z",
     "iopub.status.idle": "2024-04-21T19:58:43.157445Z",
     "shell.execute_reply": "2024-04-21T19:58:43.155978Z",
     "shell.execute_reply.started": "2024-04-21T19:58:42.598625Z"
    }
   },
   "outputs": [
    {
     "data": {
      "text/html": [
       "<div>\n",
       "<style scoped>\n",
       "    .dataframe tbody tr th:only-of-type {\n",
       "        vertical-align: middle;\n",
       "    }\n",
       "\n",
       "    .dataframe tbody tr th {\n",
       "        vertical-align: top;\n",
       "    }\n",
       "\n",
       "    .dataframe thead th {\n",
       "        text-align: right;\n",
       "    }\n",
       "</style>\n",
       "<table border=\"1\" class=\"dataframe\">\n",
       "  <thead>\n",
       "    <tr style=\"text-align: right;\">\n",
       "      <th>col_0</th>\n",
       "      <th>1</th>\n",
       "      <th>2</th>\n",
       "      <th>3</th>\n",
       "      <th>4</th>\n",
       "      <th>5</th>\n",
       "      <th>6</th>\n",
       "      <th>7</th>\n",
       "      <th>8</th>\n",
       "      <th>9</th>\n",
       "      <th>10</th>\n",
       "      <th>11</th>\n",
       "      <th>12</th>\n",
       "      <th>13</th>\n",
       "      <th>14</th>\n",
       "      <th>15</th>\n",
       "      <th>16</th>\n",
       "      <th>17</th>\n",
       "      <th>18</th>\n",
       "      <th>19</th>\n",
       "      <th>20</th>\n",
       "      <th>21</th>\n",
       "      <th>22</th>\n",
       "      <th>23</th>\n",
       "      <th>26</th>\n",
       "    </tr>\n",
       "    <tr>\n",
       "      <th>row_0</th>\n",
       "      <th></th>\n",
       "      <th></th>\n",
       "      <th></th>\n",
       "      <th></th>\n",
       "      <th></th>\n",
       "      <th></th>\n",
       "      <th></th>\n",
       "      <th></th>\n",
       "      <th></th>\n",
       "      <th></th>\n",
       "      <th></th>\n",
       "      <th></th>\n",
       "      <th></th>\n",
       "      <th></th>\n",
       "      <th></th>\n",
       "      <th></th>\n",
       "      <th></th>\n",
       "      <th></th>\n",
       "      <th></th>\n",
       "      <th></th>\n",
       "      <th></th>\n",
       "      <th></th>\n",
       "      <th></th>\n",
       "      <th></th>\n",
       "    </tr>\n",
       "  </thead>\n",
       "  <tbody>\n",
       "    <tr>\n",
       "      <th>counts</th>\n",
       "      <td>1</td>\n",
       "      <td>32</td>\n",
       "      <td>72</td>\n",
       "      <td>203</td>\n",
       "      <td>362</td>\n",
       "      <td>623</td>\n",
       "      <td>877</td>\n",
       "      <td>1153</td>\n",
       "      <td>1229</td>\n",
       "      <td>1247</td>\n",
       "      <td>1124</td>\n",
       "      <td>994</td>\n",
       "      <td>710</td>\n",
       "      <td>543</td>\n",
       "      <td>313</td>\n",
       "      <td>231</td>\n",
       "      <td>138</td>\n",
       "      <td>74</td>\n",
       "      <td>41</td>\n",
       "      <td>14</td>\n",
       "      <td>11</td>\n",
       "      <td>5</td>\n",
       "      <td>2</td>\n",
       "      <td>1</td>\n",
       "    </tr>\n",
       "  </tbody>\n",
       "</table>\n",
       "</div>"
      ],
      "text/plain": [
       "col_0   1   2   3    4    5    6    7  ...  18  19  20  21  22  23  26\n",
       "row_0                                  ...                            \n",
       "counts   1  32  72  203  362  623  877 ...  74  41  14  11   5   2   1\n",
       "\n",
       "[1 rows x 24 columns]"
      ]
     },
     "execution_count": 31,
     "metadata": {},
     "output_type": "execute_result"
    },
    {
     "data": {
      "image/png": "[encoded data removed]",
      "text/plain": [
       "<Figure size 504x504 with 1 Axes>"
      ]
     },
     "metadata": {},
     "output_type": "display_data"
    }
   ],
   "source": [
    "random.seed(12)\n",
    "\n",
    "arrival_rate_10 = stats.poisson.rvs(size=10000,  # Generate Poisson data\n",
    "                                   mu=10 )       # Average arrival time 10\n",
    "# Plot histogram\n",
    "sns.distplot(arrival_rate_10, kde=False, bins=max(arrival_rate_10)+1)\n",
    "\n",
    "# Print table of counts\n",
    "pd.crosstab(index=\"counts\", columns= arrival_rate_10)"
   ]
  },
  {
   "cell_type": "code",
   "execution_count": 32,
   "metadata": {
    "execution": {
     "iopub.execute_input": "2024-04-21T19:58:43.160848Z",
     "iopub.status.busy": "2024-04-21T19:58:43.159719Z",
     "iopub.status.idle": "2024-04-21T19:58:43.170760Z",
     "shell.execute_reply": "2024-04-21T19:58:43.169697Z",
     "shell.execute_reply.started": "2024-04-21T19:58:43.160738Z"
    }
   },
   "outputs": [
    {
     "data": {
      "text/plain": [
       "0.06708596287903189"
      ]
     },
     "execution_count": 32,
     "metadata": {},
     "output_type": "execute_result"
    }
   ],
   "source": [
    "stats.poisson.cdf(k=5,     # Check the probability of 5 arrivals or less\n",
    "                  mu=10)   # With arrival rate 10"
   ]
  },
  {
   "cell_type": "code",
   "execution_count": 33,
   "metadata": {
    "execution": {
     "iopub.execute_input": "2024-04-21T19:58:43.172756Z",
     "iopub.status.busy": "2024-04-21T19:58:43.172303Z",
     "iopub.status.idle": "2024-04-21T19:58:43.185033Z",
     "shell.execute_reply": "2024-04-21T19:58:43.184028Z",
     "shell.execute_reply.started": "2024-04-21T19:58:43.172686Z"
    }
   },
   "outputs": [
    {
     "data": {
      "text/plain": [
       "0.12511003572113372"
      ]
     },
     "execution_count": 33,
     "metadata": {},
     "output_type": "execute_result"
    }
   ],
   "source": [
    "stats.poisson.pmf(k=10,     # Check the prob f exactly 10 arrivals\n",
    "                  mu=10)    # With arrival rate 10"
   ]
  },
  {
   "cell_type": "markdown",
   "metadata": {},
   "source": [
    "## Wrap Up"
   ]
  },
  {
   "cell_type": "markdown",
   "metadata": {},
   "source": [
    "- Python's scipy library contains functions that make it easy to work with a wide range of probability distributions, including [many that we did not discuss](https://docs.scipy.org/doc/scipy/reference/stats.html) in this lesson. \n",
    "- Probability distribution functions are useful for generating random data, modeling random events and aiding with statistical tests and analysis."
   ]
  }
 ],
 "metadata": {
  "kaggle": {
   "accelerator": "none",
   "dataSources": [
    {
     "databundleVersionId": 26502,
     "sourceId": 3136,
     "sourceType": "competition"
    }
   ],
   "dockerImageVersionId": 24140,
   "isGpuEnabled": false,
   "isInternetEnabled": false,
   "language": "python",
   "sourceType": "notebook"
  },
  "kernelspec": {
   "display_name": "Python 3",
   "language": "python",
   "name": "python3"
  },
  "language_info": {
   "codemirror_mode": {
    "name": "ipython",
    "version": 3
   },
   "file_extension": ".py",
   "mimetype": "text/x-python",
   "name": "python",
   "nbconvert_exporter": "python",
   "pygments_lexer": "ipython3",
   "version": "3.6.6"
  }
 },
 "nbformat": 4,
 "nbformat_minor": 4
}
