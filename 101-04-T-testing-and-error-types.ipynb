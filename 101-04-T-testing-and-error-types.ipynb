{
 "cells": [
  {
   "cell_type": "markdown",
   "metadata": {
    "_cell_guid": "b1076dfc-b9ad-4769-8c92-a6c4dae69d19",
    "_uuid": "8f2839f25d086af736a60e9eeb907d3b93b6e0e5"
   },
   "source": [
    "# Python for Data 23: Hypothesis Testing\n",
    "\n",
    "<a id=\"toc\"></a>\n",
    "\n",
    "<h2 class=\"list-group-item list-group-item-action active\" data-toggle=\"list\" role=\"tab\" aria-controls=\"home\">Table of Contents</h2>\n",
    "\n",
    "<br><a href=\"#intro\">Itroduction</a>\n",
    "<br><a href=\"#testbasics\">Hypothesis Testing Basics</a>\n",
    "<br><a href=\"#ttest\">T-test</a> \n",
    "<br>&nbsp;&nbsp;&nbsp;&nbsp;<a href=\"#1ttest\">1. One sample t-test</a>\n",
    "<br>&nbsp;&nbsp;&nbsp;&nbsp;<a href=\"#2ttest\">2. Two Samples t-test</a>\n",
    "<br>&nbsp;&nbsp;&nbsp;&nbsp;<a href=\"#paiedttest\">3. Paired t-test</a>\n",
    "<br><a href=\"#errors\">Type-I and Type-II Errors</a> \n",
    "<br><a href=\"#href=\">Statistical Power (1 - β)</a> "
   ]
  },
  {
   "cell_type": "markdown",
   "metadata": {
    "_cell_guid": "79c7e3d0-c299-4dcb-8224-4455121ee9b0",
    "_uuid": "d629ff2d2480ee46fbb7e2d37f6b5fab8052498a"
   },
   "source": [
    "# <a id=\"intro\">Introduction</a>\n",
    "\n",
    "Point estimates and confidence intervals are basic inference tools that act as the foundation for statistical hypothesis testing. \n",
    "#### Statistical hypothesis testing: \n",
    "hypothesis testing helps us evaluate whether our predictions align with the data we observe. Also it is a method of making inferences or decisions about a population parameter using data drawn from that population.\n",
    "\n",
    "> Python's `scipy.stats` library contains an array of functions that make it easy to carry out hypothesis tests."
   ]
  },
  {
   "cell_type": "code",
   "execution_count": 1,
   "metadata": {
    "execution": {
     "iopub.execute_input": "2024-05-11T06:39:19.628942Z",
     "iopub.status.busy": "2024-05-11T06:39:19.628291Z",
     "iopub.status.idle": "2024-05-11T06:39:19.634187Z",
     "shell.execute_reply": "2024-05-11T06:39:19.633080Z",
     "shell.execute_reply.started": "2024-05-11T06:39:19.628583Z"
    }
   },
   "outputs": [],
   "source": [
    "import numpy as np\n",
    "import pandas as pd\n",
    "import scipy.stats as stats\n",
    "import matplotlib.pyplot as plt\n",
    "import math\n",
    "\n",
    "np.random.seed(6)"
   ]
  },
  {
   "cell_type": "code",
   "execution_count": 2,
   "metadata": {
    "execution": {
     "iopub.execute_input": "2024-05-11T06:39:19.649773Z",
     "iopub.status.busy": "2024-05-11T06:39:19.649413Z",
     "iopub.status.idle": "2024-05-11T06:39:19.660642Z",
     "shell.execute_reply": "2024-05-11T06:39:19.659782Z",
     "shell.execute_reply.started": "2024-05-11T06:39:19.649690Z"
    }
   },
   "outputs": [],
   "source": [
    "%matplotlib inline\n",
    "import matplotlib as mt\n",
    "import matplotlib.pyplot as plt\n",
    "import seaborn as sns\n",
    "import missingno as msno\n",
    "\n",
    "plt.rcParams['figure.figsize'] = (7, 6)\n",
    "colors = sns.cubehelix_palette(20,reverse = True, light= 0.01,dark = 0.5, gamma= 0.7)\n",
    "# sns.set_context('talk')\n",
    "sns.set(style=\"whitegrid\")\n",
    "sns.set_palette(palette= sns.color_palette(\"RdBu\",20))"
   ]
  },
  {
   "cell_type": "markdown",
   "metadata": {},
   "source": [
    "---\n",
    "# <a id=\"testbasics\">Hypothesis Testing Basics</a>\n",
    "The purpose of a hypothesis test is to determine whether the null hypothesis is likely to be true given sample data and see if it supports the null hypothesis to a statistically significant degree. If very unlikely under $H_0$, we reject $H_0$ and conclude the alternative  $H_1$ is more plausible.\n",
    "\n",
    "In simple terms, it involves:\n",
    "\n",
    "**1) Stating two competing hypotheses about a population parameter (e.g. population mean).**\n",
    "- **The null hypothesis ($H_0$)** - A statement of no effect or no difference.\n",
    "- **The alternative hypothesis ($H_1$)** - The claim you want to establish.\n",
    "\n",
    "**2) Choose a significance level (α).**\n",
    "- Common value of α = 0.05, which means a 5% chance of making a Type I error (we will explain error types here ISA 😊)\n",
    "\n",
    "**3) Determine critical value based on the significance level.\n",
    "**4) Calculating a test statistic from the sample data and p-value.**\n",
    "- **Test statistics** - is a numerical values calculated from sample data to help us make decisions about hypotheses.\n",
    "- **P-value** - is a probability associated with the test statistic.\n",
    "\n",
    "**5) Making a decision:**\n",
    "- **Rejecting the Null Hypothesis ($H_0$)**: If test statistics > critical value or in other words p-value < α.\n",
    "- **Failing to Reject the Null Hypothesis ($H_0$)**: If test statistics < critical value or in other words p-value > α.\n",
    "\n",
    "<img src=\"https://media.licdn.com/dms/image/D4D12AQG_7QTqNgqhGw/article-cover_image-shrink_600_2000/0/1703252767783?e=2147483647&v=beta&t=97ndWb2Xs_kYxUJur8p87vAi_vlW0YfQ5SxdDoxeLVk\">\n",
    "\n",
    "<img src=\"https://www.automacaodedados.com.br/en/stories/estatistica-em-testes-para-nao-matematicos-parte-5/images/figure3-p-value-greater-than-alpha-en.webp\" width=400>\n"
   ]
  },
  {
   "cell_type": "markdown",
   "metadata": {},
   "source": [
    "---\n",
    "# <a id=\"ttest\">T-Test</a>\n",
    "\n",
    "A t-test is a statistical hypothesis test that is used to determine if there is a significant difference between:\n",
    "- The **means** of two groups.\n",
    "- The sample mean $\\bar{X}$ and population mean $\\mu$. \n",
    "\n",
    "In simple terms, a t-test answers the following question:\n",
    "\n",
    "**\"Is the difference between the two sample means large enough to conclude that the population means are also different?\"**\n",
    "\n",
    "### T-tests make certain assumptions:\n",
    "\n",
    "1. **Random Sampling**:  Both samples were obtained using random sampling to ensure representativeness.\n",
    "2. **Independence**: The observations in sample1 are independent of the observations in the sample2.\n",
    "      \n",
    "      😊**How to Check**: Verify that each observation appears only once in each sample.\n",
    "\n",
    "2. **Normality**: Both samples are approximately normally distributed.\n",
    "         \n",
    "      😊**How to Check**:\n",
    "     - For small sample sizes (n < 50), use a **Shapiro-Wilk test**.\n",
    "     - For large sample sizes, visually check using a **Q-Q plot** (data points along a straight diagonal line indicate normality).\n",
    "3. **Homogeneity of Variances**: The two samples have roughly equal variances.\n",
    "         \n",
    "      😊**How to Check**: If the ratio of larger variance to smaller variance is less than 4, assume equal variances.\n",
    "   \n",
    "### There are different types of t-tests depending on the scenario, but the general idea is:\n",
    "\n",
    "**1) Calculate the difference between the two sample means.**\n",
    "\n",
    "**2) Calculate the standard error ($SE$) of the difference.**\n",
    "\n",
    "**3) Divide the difference by the ($SE$) to get a t-statistic.** \n",
    "\n",
    "**4) Compare the t-statistic to a critical t-value from the t-distribution.**\n",
    "\n",
    "**5) Making a decision:** reject or fail to reject the claim.\n",
    "\n",
    "### Some common uses of t-tests:\n",
    "\n",
    "- **One-sample t-test**: Comparing a sample mean to a hypothesized population mean.\n",
    "- **Two-sample t-test**: Comparing the means of two independent groups (different categories in categorical random variable). \n",
    "- **Paired t-test**: Comparing two means that are paired or matched in some way."
   ]
  },
  {
   "cell_type": "markdown",
   "metadata": {},
   "source": [
    "---\n",
    "## <a id=\"1ttest\">1. One-Sample T-Test</a>\n",
    "\n",
    "A one-sample t-test checks whether a sample mean differs from the population mean. \n",
    "#### Senario:\n",
    "Let's create some dummy age data for the population of voters in the entire country and a sample of voters in Minnesota and test the whether the average age of voters Minnesota differs from the population:\n",
    "#### Hypotheses:\n",
    "- **Null Hypothesis ($H_0$)**: the average age of voters in Minnesota $\\bar{X}$ is equal to the population average age $\\mu$.\n",
    "- **Alternate Hypothesis ($H_1$)**: the average age of voters in Minnesota $\\bar{X}$ is differ from the population average age $\\mu$.\n",
    "\n",
    "#### Test Statistic:\n",
    "$$SE=\\frac{s}{\\sqrt{n}}$$\n",
    "$$t = \\frac{\\bar{X} - \\mu}{SE}$$\n",
    "- $\\bar{X}$ is the sample mean,\n",
    "- $\\mu$ is the population mean,\n",
    "- $s$ is the sample standard deviation, and\n",
    "- $n$ is the sample size."
   ]
  },
  {
   "cell_type": "markdown",
   "metadata": {},
   "source": [
    "### Generate popuation data "
   ]
  },
  {
   "cell_type": "code",
   "execution_count": 3,
   "metadata": {
    "execution": {
     "iopub.execute_input": "2024-05-11T06:39:19.667823Z",
     "iopub.status.busy": "2024-05-11T06:39:19.667423Z",
     "iopub.status.idle": "2024-05-11T06:39:19.723629Z",
     "shell.execute_reply": "2024-05-11T06:39:19.722775Z",
     "shell.execute_reply.started": "2024-05-11T06:39:19.667727Z"
    }
   },
   "outputs": [
    {
     "data": {
      "text/plain": [
       "43.000112"
      ]
     },
     "execution_count": 3,
     "metadata": {},
     "output_type": "execute_result"
    }
   ],
   "source": [
    "np.random.seed(6)\n",
    "\n",
    "pop_ages_group1 = stats.poisson.rvs(loc=18, mu=35, size=150000)\n",
    "pop_ages_group2 = stats.poisson.rvs(loc=18, mu=10, size=100000)\n",
    "population = np.concatenate((pop_ages_group1, pop_ages_group2))\n",
    "population_mean = population.mean()\n",
    "population_mean"
   ]
  },
  {
   "cell_type": "markdown",
   "metadata": {},
   "source": [
    "### Generate sample data "
   ]
  },
  {
   "cell_type": "code",
   "execution_count": 4,
   "metadata": {
    "execution": {
     "iopub.execute_input": "2024-05-11T06:39:19.725871Z",
     "iopub.status.busy": "2024-05-11T06:39:19.725467Z",
     "iopub.status.idle": "2024-05-11T06:39:19.736225Z",
     "shell.execute_reply": "2024-05-11T06:39:19.735123Z",
     "shell.execute_reply.started": "2024-05-11T06:39:19.725805Z"
    }
   },
   "outputs": [
    {
     "data": {
      "text/plain": [
       "39.26"
      ]
     },
     "execution_count": 4,
     "metadata": {},
     "output_type": "execute_result"
    }
   ],
   "source": [
    "minnesota_ages_group1 = stats.poisson.rvs(loc=18, mu=30, size=30)\n",
    "minnesota_ages_group2 = stats.poisson.rvs(loc=18, mu=10, size=20)\n",
    "minnesota_sample = np.concatenate((minnesota_ages_group1, minnesota_ages_group2))\n",
    "minnesota_sample_mean = minnesota_sample.mean()\n",
    "minnesota_sample_mean"
   ]
  },
  {
   "cell_type": "markdown",
   "metadata": {},
   "source": [
    "### Conduct one sample t-test\n",
    "- Confidence level is 95%.\n",
    "- α = 0.05. probability = 0.025 from both sides (tail).\n",
    "- To conduct a one sample t-test, we can the `stats.ttest_1samp()`."
   ]
  },
  {
   "cell_type": "code",
   "execution_count": 5,
   "metadata": {
    "execution": {
     "iopub.execute_input": "2024-05-11T06:39:19.738400Z",
     "iopub.status.busy": "2024-05-11T06:39:19.738032Z",
     "iopub.status.idle": "2024-05-11T06:39:19.752703Z",
     "shell.execute_reply": "2024-05-11T06:39:19.751913Z",
     "shell.execute_reply.started": "2024-05-11T06:39:19.738332Z"
    }
   },
   "outputs": [
    {
     "data": {
      "text/plain": [
       "(-2.0095752344892093, 2.009575234489209)"
      ]
     },
     "execution_count": 5,
     "metadata": {},
     "output_type": "execute_result"
    }
   ],
   "source": [
    "alpha = 0.05\n",
    "t_critical_left = stats.t.ppf(q=0.025, df=49)\n",
    "t_critical_right = stats.t.ppf(q=0.975, df=49)\n",
    "t_critical_left, t_critical_right"
   ]
  },
  {
   "cell_type": "markdown",
   "metadata": {},
   "source": [
    "📌 The critical value = -2 for the left-tail significance level of (α/2) 0.025.\n",
    "\n",
    "📌 The critical value = +2 for the right-tail significance level of (α/2) 0.025."
   ]
  },
  {
   "cell_type": "code",
   "execution_count": 6,
   "metadata": {
    "execution": {
     "iopub.execute_input": "2024-05-11T06:39:19.754799Z",
     "iopub.status.busy": "2024-05-11T06:39:19.754409Z",
     "iopub.status.idle": "2024-05-11T06:39:19.764221Z",
     "shell.execute_reply": "2024-05-11T06:39:19.763343Z",
     "shell.execute_reply.started": "2024-05-11T06:39:19.754720Z"
    }
   },
   "outputs": [
    {
     "name": "stdout",
     "output_type": "stream",
     "text": [
      "t-statistic: -2.5743\n",
      "p-value: 0.0131\n",
      "Reject the null hypothesis (sample mean is different from population mean).\n"
     ]
    }
   ],
   "source": [
    "t_statistic, p_value = stats.ttest_1samp(a=minnesota_sample, popmean=population_mean, )\n",
    "t_statistic, p_value\n",
    "\n",
    "print(f\"t-statistic: {t_statistic:.4f}\")\n",
    "print(f\"p-value: {p_value:.4f}\")\n",
    "\n",
    "if p_value < alpha/2:\n",
    "    print(\"Reject the null hypothesis (sample mean is different from population mean).\")\n",
    "else:\n",
    "    print(\"Fail to reject the null hypothesis (sample mean is equal to population mean).\")"
   ]
  },
  {
   "cell_type": "markdown",
   "metadata": {},
   "source": [
    "📌 Test statistic = -2.5743 < critical value (-2.0095). \n",
    "\n",
    "📌 P value = 0.0131 < α/2 (0.025): rejection area نسبة رفضي للاتش نود وهو اصلا صح هي الالفا.\n",
    "\n",
    "📌 A p-value of 0.01311 means we'd expect to see data as extreme as our sample due to chance about 1.3% of the time if the null hypothesis was true. \n",
    "\n",
    "📌 Sample mean is different from population mean."
   ]
  },
  {
   "cell_type": "markdown",
   "metadata": {},
   "source": [
    "We can calculate the p-value by passing the t-statistic in as the quantile to the `stats.t.cdf()` function."
   ]
  },
  {
   "cell_type": "code",
   "execution_count": 7,
   "metadata": {
    "execution": {
     "iopub.execute_input": "2024-05-11T06:39:19.766506Z",
     "iopub.status.busy": "2024-05-11T06:39:19.766105Z",
     "iopub.status.idle": "2024-05-11T06:39:19.778801Z",
     "shell.execute_reply": "2024-05-11T06:39:19.777622Z",
     "shell.execute_reply.started": "2024-05-11T06:39:19.766436Z"
    }
   },
   "outputs": [
    {
     "data": {
      "text/plain": [
       "0.013118685425061678"
      ]
     },
     "execution_count": 7,
     "metadata": {},
     "output_type": "execute_result"
    }
   ],
   "source": [
    "stats.t.cdf(x= t_statistic, df= 49)*2   # Multiply by two for two tailed test *"
   ]
  },
  {
   "cell_type": "markdown",
   "metadata": {},
   "source": [
    "### Confidance interval"
   ]
  },
  {
   "cell_type": "code",
   "execution_count": 8,
   "metadata": {
    "execution": {
     "iopub.execute_input": "2024-05-11T06:39:19.780901Z",
     "iopub.status.busy": "2024-05-11T06:39:19.780446Z",
     "iopub.status.idle": "2024-05-11T06:39:19.791027Z",
     "shell.execute_reply": "2024-05-11T06:39:19.789892Z",
     "shell.execute_reply.started": "2024-05-11T06:39:19.780831Z"
    }
   },
   "outputs": [
    {
     "name": "stdout",
     "output_type": "stream",
     "text": [
      "Confidance Interval :  (36.369669080722176, 42.15033091927782)\n"
     ]
    }
   ],
   "source": [
    "std_error = minnesota_sample.std()/math.sqrt(50)  # Sample stdev/sample size\n",
    "\n",
    "ci = stats.t.interval(0.95,                   # Confidence level\n",
    "                 df = 49,                     # Degrees of freedom\n",
    "                 loc = minnesota_sample_mean,           # Sample mean\n",
    "                 scale= std_error)            # Standard dev estimate\n",
    "\n",
    "print(\"Confidance Interval : \", ci)"
   ]
  },
  {
   "cell_type": "code",
   "execution_count": 9,
   "metadata": {
    "execution": {
     "iopub.execute_input": "2024-05-11T06:39:19.793358Z",
     "iopub.status.busy": "2024-05-11T06:39:19.793058Z",
     "iopub.status.idle": "2024-05-11T06:39:19.806841Z",
     "shell.execute_reply": "2024-05-11T06:39:19.805855Z",
     "shell.execute_reply.started": "2024-05-11T06:39:19.793301Z"
    }
   },
   "outputs": [
    {
     "name": "stdout",
     "output_type": "stream",
     "text": [
      "Confidance Interval :  (35.40547994092107, 43.11452005907893)\n"
     ]
    }
   ],
   "source": [
    "ci = stats.t.interval(0.99,                   # Confidence level\n",
    "                 df = 49,                     # Degrees of freedom\n",
    "                 loc = minnesota_sample_mean,           # Sample mean\n",
    "                 scale= std_error)            # Standard dev estimate\n",
    "\n",
    "print(\"Confidance Interval : \", ci)"
   ]
  },
  {
   "cell_type": "markdown",
   "metadata": {},
   "source": [
    "📌 With a higher confidence level, we construct a wider confidence interval and increase the chances that it captures to true mean.\n",
    "\n",
    "📌 Less likely that we'll reject the null hypothesis. In this case, the p-value of 0.013 is greater than our significance level of 0.01 and we fail to reject the null hypothesis."
   ]
  },
  {
   "cell_type": "markdown",
   "metadata": {},
   "source": [
    "---\n",
    "## <a id=\"2ttest\">2. Two-Sample T-Test</a>\n",
    "\n",
    "A two-sample t-test investigates whether the means of two independent data samples differ from one another.\n",
    "\n",
    "#### Senario:\n",
    "Let's generate another sample of voter age data for Wisconsin and test it against the sample we made earlier:\n",
    "\n",
    "#### Hypotheses:\n",
    "- **Null Hypothesis ($H_0$)**: the means of both groups are the same.\n",
    "- **Alternate Hypothesis ($H_1$)**: the means of both groups are the different.\n",
    "\n",
    "#### Test Statistic:\n",
    "$$SE = \\sqrt{\\frac{{s_1^2}}{{n_1}} + \\frac{{s_2^2}}{{n_2}}}$$\n",
    "\n",
    "\n",
    "$$t = \\frac{\\bar{X_1} - \\bar{X_2}}{SE}$$"
   ]
  },
  {
   "cell_type": "markdown",
   "metadata": {},
   "source": [
    "### Generate sample2 data "
   ]
  },
  {
   "cell_type": "code",
   "execution_count": 10,
   "metadata": {
    "execution": {
     "iopub.execute_input": "2024-05-11T06:39:19.809110Z",
     "iopub.status.busy": "2024-05-11T06:39:19.808731Z",
     "iopub.status.idle": "2024-05-11T06:39:19.821945Z",
     "shell.execute_reply": "2024-05-11T06:39:19.820948Z",
     "shell.execute_reply.started": "2024-05-11T06:39:19.809044Z"
    }
   },
   "outputs": [
    {
     "data": {
      "text/plain": [
       "42.8"
      ]
     },
     "execution_count": 10,
     "metadata": {},
     "output_type": "execute_result"
    }
   ],
   "source": [
    "np.random.seed(12)\n",
    "\n",
    "wisconsin_ages_group1 = stats.poisson.rvs(loc=18, mu=33, size=30)\n",
    "wisconsin_ages_group2 = stats.poisson.rvs(loc=18, mu=13, size=20)\n",
    "wisconsin_sample = np.concatenate((wisconsin_ages_group1, wisconsin_ages_group2))\n",
    "wisconsin_sample_mean = wisconsin_sample.mean()\n",
    "wisconsin_sample_mean"
   ]
  },
  {
   "cell_type": "markdown",
   "metadata": {},
   "source": [
    "### Conduct one sample t-test\n",
    "- Confidence level is 95%.\n",
    "- α = 0.05. probability = 0.025 from both sides (tail).\n",
    "- To conduct a one sample t-test, we can the `stats.ttest_ind()`."
   ]
  },
  {
   "cell_type": "code",
   "execution_count": 11,
   "metadata": {
    "execution": {
     "iopub.execute_input": "2024-05-11T06:39:19.823735Z",
     "iopub.status.busy": "2024-05-11T06:39:19.823419Z",
     "iopub.status.idle": "2024-05-11T06:39:19.833298Z",
     "shell.execute_reply": "2024-05-11T06:39:19.832231Z",
     "shell.execute_reply.started": "2024-05-11T06:39:19.823675Z"
    }
   },
   "outputs": [
    {
     "name": "stdout",
     "output_type": "stream",
     "text": [
      "t-statistic: -1.7084\n",
      "p-value: 0.0907\n",
      "Fail to reject the null hypothesis (the two samples means have significant difference).\n"
     ]
    }
   ],
   "source": [
    "t_statistic, p_value = stats.ttest_ind(minnesota_sample, wisconsin_sample, equal_var=False)\n",
    "t_statistic, p_value\n",
    "\n",
    "print(f\"t-statistic: {t_statistic:.4f}\")\n",
    "print(f\"p-value: {p_value:.4f}\")\n",
    "\n",
    "if p_value < alpha/2:\n",
    "    print(\"Reject the null hypothesis (the two samples means don't have significant difference).\")\n",
    "else:\n",
    "    print(\"Fail to reject the null hypothesis (the two samples means have significant difference).\")"
   ]
  },
  {
   "cell_type": "markdown",
   "metadata": {},
   "source": [
    "📌 p-value of 0.0907 means that there is a 9% chance we'd see sample data far apart if the two groups tested are actually identical. "
   ]
  },
  {
   "cell_type": "markdown",
   "metadata": {},
   "source": [
    "---\n",
    "## <a id=\"paiedttest\">3.  Paired T-Test</a>\n",
    "A paired t-test lets you check whether the means of samples from the same group differ at different points in time.\n",
    "\n",
    "#### Senario:\n",
    "A hospital might want to test whether a weight-loss drug works by checking the weights of the same group patients before and after treatment. \n",
    "\n",
    "#### Hypotheses:\n",
    "- **Null Hypothesis ($H_0$)**: no significant difference in weight due to treatment.\n",
    "- **Alternate Hypothesis ($H_1$)**: there is a significant difference in weight before and after treatment.\n",
    "\n",
    "#### Test Statistic:\n",
    "$$s_{\\text{diff}} = \\sqrt{\\frac{\\sum_{i=1}^{n} (X_{\\text{before},i} - X_{\\text{after},i})^2}{n-1}}$$\n",
    "$$ SE = \\frac{s_{\\text{diff}}}{\\sqrt{n}}$$\n",
    "$$t = \\frac{\\bar{X}{\\text{before}} - \\bar{X}{\\text{after}}}{SE}$$\n",
    "\n",
    "We can conduct a paired t-test using the scipy function `stats.ttest_rel()`."
   ]
  },
  {
   "cell_type": "markdown",
   "metadata": {},
   "source": [
    "### Generate Data \n",
    "Let's generate some dummy patient weight data and do a paired t-test:"
   ]
  },
  {
   "cell_type": "code",
   "execution_count": 12,
   "metadata": {
    "execution": {
     "iopub.execute_input": "2024-05-11T06:39:19.835494Z",
     "iopub.status.busy": "2024-05-11T06:39:19.835112Z",
     "iopub.status.idle": "2024-05-11T06:39:19.878426Z",
     "shell.execute_reply": "2024-05-11T06:39:19.877571Z",
     "shell.execute_reply.started": "2024-05-11T06:39:19.835427Z"
    }
   },
   "outputs": [
    {
     "data": {
      "text/html": [
       "<div>\n",
       "<style scoped>\n",
       "    .dataframe tbody tr th:only-of-type {\n",
       "        vertical-align: middle;\n",
       "    }\n",
       "\n",
       "    .dataframe tbody tr th {\n",
       "        vertical-align: top;\n",
       "    }\n",
       "\n",
       "    .dataframe thead th {\n",
       "        text-align: right;\n",
       "    }\n",
       "</style>\n",
       "<table border=\"1\" class=\"dataframe\">\n",
       "  <thead>\n",
       "    <tr style=\"text-align: right;\">\n",
       "      <th></th>\n",
       "      <th>weight_before</th>\n",
       "      <th>weight_after</th>\n",
       "      <th>weight_change</th>\n",
       "    </tr>\n",
       "  </thead>\n",
       "  <tbody>\n",
       "    <tr>\n",
       "      <th>count</th>\n",
       "      <td>100.000000</td>\n",
       "      <td>100.000000</td>\n",
       "      <td>100.000000</td>\n",
       "    </tr>\n",
       "    <tr>\n",
       "      <th>mean</th>\n",
       "      <td>250.345546</td>\n",
       "      <td>249.115171</td>\n",
       "      <td>-1.230375</td>\n",
       "    </tr>\n",
       "    <tr>\n",
       "      <th>std</th>\n",
       "      <td>28.132539</td>\n",
       "      <td>28.422183</td>\n",
       "      <td>4.783696</td>\n",
       "    </tr>\n",
       "    <tr>\n",
       "      <th>min</th>\n",
       "      <td>170.400443</td>\n",
       "      <td>165.913930</td>\n",
       "      <td>-11.495286</td>\n",
       "    </tr>\n",
       "    <tr>\n",
       "      <th>25%</th>\n",
       "      <td>230.421042</td>\n",
       "      <td>229.148236</td>\n",
       "      <td>-4.046211</td>\n",
       "    </tr>\n",
       "    <tr>\n",
       "      <th>50%</th>\n",
       "      <td>250.830805</td>\n",
       "      <td>251.134089</td>\n",
       "      <td>-1.413463</td>\n",
       "    </tr>\n",
       "    <tr>\n",
       "      <th>75%</th>\n",
       "      <td>270.637145</td>\n",
       "      <td>268.927258</td>\n",
       "      <td>1.738673</td>\n",
       "    </tr>\n",
       "    <tr>\n",
       "      <th>max</th>\n",
       "      <td>314.700233</td>\n",
       "      <td>316.720357</td>\n",
       "      <td>9.759282</td>\n",
       "    </tr>\n",
       "  </tbody>\n",
       "</table>\n",
       "</div>"
      ],
      "text/plain": [
       "       weight_before  weight_after  weight_change\n",
       "count     100.000000    100.000000     100.000000\n",
       "mean      250.345546    249.115171      -1.230375\n",
       "std        28.132539     28.422183       4.783696\n",
       "min       170.400443    165.913930     -11.495286\n",
       "25%       230.421042    229.148236      -4.046211\n",
       "50%       250.830805    251.134089      -1.413463\n",
       "75%       270.637145    268.927258       1.738673\n",
       "max       314.700233    316.720357       9.759282"
      ]
     },
     "execution_count": 12,
     "metadata": {},
     "output_type": "execute_result"
    }
   ],
   "source": [
    "np.random.seed(11)\n",
    "before = stats.norm.rvs(scale=30, loc=250, size=100)\n",
    "after = before + stats.norm.rvs(scale=5, loc=-1.25, size=100)\n",
    "weight_df = pd.DataFrame({\"weight_before\":before,\n",
    "                          \"weight_after\":after,\n",
    "                          \"weight_change\":after-before})\n",
    "weight_df.describe()"
   ]
  },
  {
   "cell_type": "markdown",
   "metadata": {},
   "source": [
    "📌 The summary shows that patients lost about 1.23 pounds on average after treatment. Let's conduct a paired t-test to see whether this difference is significant at a 95% confidence level:"
   ]
  },
  {
   "cell_type": "code",
   "execution_count": 13,
   "metadata": {
    "execution": {
     "iopub.execute_input": "2024-05-11T06:39:19.880350Z",
     "iopub.status.busy": "2024-05-11T06:39:19.880058Z",
     "iopub.status.idle": "2024-05-11T06:39:19.887003Z",
     "shell.execute_reply": "2024-05-11T06:39:19.885946Z",
     "shell.execute_reply.started": "2024-05-11T06:39:19.880295Z"
    }
   },
   "outputs": [
    {
     "name": "stdout",
     "output_type": "stream",
     "text": [
      "t-statistic: 2.5720\n",
      "p-value: 0.0116\n",
      "Reject the null hypothesis (there is a significant difference in weight before and after treatment).\n"
     ]
    }
   ],
   "source": [
    "t_statistic, p_value = stats.ttest_rel(a=before, b=after)\n",
    "t_statistic, p_value\n",
    "\n",
    "print(f\"t-statistic: {t_statistic:.4f}\")\n",
    "print(f\"p-value: {p_value:.4f}\")\n",
    "\n",
    "if p_value < alpha:\n",
    "    print(\"Reject the null hypothesis (there is a significant difference in weight before and after treatment).\")\n",
    "else:\n",
    "    print(\"Fail to reject the null hypothesis (there is NO significant difference in weight due to treatment).\")"
   ]
  },
  {
   "cell_type": "markdown",
   "metadata": {},
   "source": [
    "---\n",
    "# <br><a id=\"errors\">Type I and Type II Error</a> \n",
    "\n",
    "The result of a statistical hypothesis test and the corresponding decision of whether to reject or accept the null hypothesis is not infallible. \n",
    "\n",
    "\n",
    "<img src=\"https://www.scribbr.com/wp-content/uploads/2021/01/type-i-and-ii-error-2.png\" width = 600>\n",
    "\n",
    "\n",
    "### Type I error:\n",
    "It describes a situation where you **wrongly reject** the null hypothesis (it is actually true). \n",
    "- Also known as a \"false positive\" or \"false hit\". \n",
    "- The type 1 error rate is equal to the significance level α\n",
    "- Setting a higher confidence level -> lower alpha, this reduces the chances of getting a false positive.\n",
    "\n",
    "### Type II error:\n",
    "It describes a situation where you **wrongly fail** to reject the null hypothesis (it is actually false). \n",
    "- Also known as a \"false negative\" or \"miss\". \n",
    "- The lower your confidence level  -> higher alpha -> low beta, this reduces the chances of getting a false negative.\n",
    "\n",
    "<img src=\"https://static.wingify.com/gcp/uploads/sites/3/2020/12/graphical-representation-of-type-1-and-type-2-errors.png\" width=400>"
   ]
  },
  {
   "cell_type": "code",
   "execution_count": 14,
   "metadata": {
    "execution": {
     "iopub.execute_input": "2024-05-11T06:39:19.888982Z",
     "iopub.status.busy": "2024-05-11T06:39:19.888600Z",
     "iopub.status.idle": "2024-05-11T06:39:20.559109Z",
     "shell.execute_reply": "2024-05-11T06:39:20.558241Z",
     "shell.execute_reply.started": "2024-05-11T06:39:19.888915Z"
    }
   },
   "outputs": [
    {
     "data": {
      "text/plain": [
       "<matplotlib.legend.Legend at 0x788b4ebd4a90>"
      ]
     },
     "execution_count": 14,
     "metadata": {},
     "output_type": "execute_result"
    },
    {
     "data": {
      "image/png": "[encoded data removed]",
      "text/plain": [
       "<Figure size 864x720 with 1 Axes>"
      ]
     },
     "metadata": {},
     "output_type": "display_data"
    }
   ],
   "source": [
    "plt.figure(figsize=(12,10))\n",
    "\n",
    "# Plot HO distribution (standard normal with mu=0, std=1\n",
    "\n",
    "plt.fill_between(x = np.arange(-4,-2,0.01),\n",
    "                 y1= stats.norm.pdf(np.arange(-4,-2,0.01),loc=0, scale=1) ,\n",
    "                 alpha=0.4,\n",
    "                 label='Type-I error')\n",
    "\n",
    "plt.fill_between(x = np.arange(2,10,0.01),\n",
    "                 y1= stats.norm.pdf(np.arange(2,10,0.01),loc=0, scale=1) ,\n",
    "                 alpha=0.4,\n",
    "                 label='Type-I error')\n",
    "\n",
    "plt.fill_between(x = np.arange(-2,2,0.01),\n",
    "                 y1= stats.norm.pdf(np.arange(-2,2,0.01),loc=0, scale=1) ,\n",
    "                 color='gray',\n",
    "                 alpha=0.25,\n",
    "                 label='Null Hypothesis')\n",
    "\n",
    "# Plot H1 distribution (normal with mu=3, std=2)\n",
    "\n",
    "plt.fill_between(x = np.arange(-4,2,0.01),\n",
    "                 y1= stats.norm.pdf(np.arange(-4,2,0.01),loc=3, scale=2) ,\n",
    "                 color='blue',\n",
    "                 alpha=0.4, \n",
    "                label='Type-II error')\n",
    "\n",
    "plt.fill_between(x = np.arange(2,10,0.01),\n",
    "                 y1= stats.norm.pdf(np.arange(2, 10 ,0.01),loc=3, scale=2) ,\n",
    "                 color='skyblue',\n",
    "                 alpha=0.25,\n",
    "                 label='Alternative Hypothesis')\n",
    "\n",
    "plt.fill_between(x = np.arange(-2,2,0.01),\n",
    "                 y1= stats.norm.pdf(np.arange(-2,2,0.01),loc=3, scale=2) ,\n",
    "                 color='skyblue',\n",
    "                 alpha=0.25)\n",
    "\n",
    "plt.text(x=0, y=0.35, s= \"H0\")\n",
    "plt.text(x=3, y=0.15, s= \"H1\")\n",
    "# plt.text(x=2.1, y=0.01, s= \"Type 1 Error\")\n",
    "# plt.text(x=-3.2, y=0.01, s= \"Type 1 Error\")\n",
    "# plt.text(x=0, y=0.02, s= \"Type 2 Error\")\n",
    "\n",
    "plt.legend()"
   ]
  },
  {
   "cell_type": "code",
   "execution_count": 15,
   "metadata": {
    "execution": {
     "iopub.execute_input": "2024-05-11T06:39:20.561052Z",
     "iopub.status.busy": "2024-05-11T06:39:20.560784Z",
     "iopub.status.idle": "2024-05-11T06:39:20.569424Z",
     "shell.execute_reply": "2024-05-11T06:39:20.568495Z",
     "shell.execute_reply.started": "2024-05-11T06:39:20.561006Z"
    }
   },
   "outputs": [
    {
     "name": "stdout",
     "output_type": "stream",
     "text": [
      "0.006569450904958285\n",
      "0.3015255120172813\n",
      "0.294956061112323\n"
     ]
    }
   ],
   "source": [
    "lower_quantile = stats.norm.ppf(0.025)  # Lower cutoff value\n",
    "upper_quantile = stats.norm.ppf(0.975)  # Upper cutoff value\n",
    "\n",
    "# Area under alternative, to the left the lower cutoff value\n",
    "low = stats.norm.cdf(lower_quantile,    \n",
    "                     loc=3,             \n",
    "                     scale=2)\n",
    "print(low)\n",
    "# Area under alternative, to the left the upper cutoff value\n",
    "high = stats.norm.cdf(upper_quantile, \n",
    "                      loc=3, \n",
    "                      scale=2)          \n",
    "print(high)\n",
    "# Area under the alternative, between the cutoffs (Type II error)\n",
    "print(high-low)"
   ]
  },
  {
   "cell_type": "markdown",
   "metadata": {},
   "source": [
    "📌 With the normal distributions above, we'd fail to reject the null hypothesis about 30% of the time because the distributions are close enough together that they have significant overlap."
   ]
  },
  {
   "cell_type": "markdown",
   "metadata": {},
   "source": [
    "---\n",
    "# <br><a id=\"statspower\">Statistical Power (1 - β)</a> \n",
    "\n",
    "The power statistics represents the ability of a statistical test to correctly reject the null hypothesis when the alternative hypothesis is true. It helps us avoid Type II errors. The power of a statistical test is influenced by:\n",
    "\n",
    "1. **Significance level** is chosen for the test.\n",
    "2. **Sample size**: A larger sample size -> reduces the uncertainty ->reduce the sample distribution -> reduce type II error r-> increase power statistics.\n",
    "3. **Effect Size**: The standardized difference between sample means.\n",
    "\n",
    "### Trade-off between type I and type II error:\n",
    "- A low significance level α, such as 0.01 makes a test unlikely to have type I errors (false positives), but more likely to have type II errors (false negatives).\n",
    "- A larger value of the significance level α. A common convention is that a statistical tests should have a power of at least 0.8.\n"
   ]
  },
  {
   "cell_type": "markdown",
   "metadata": {},
   "source": [
    "### Example:\n",
    "If you want to conduct a test with a given significance level (say 0.05) and power (say 0.8) and you are interested in a given effect size (say 0.5 for standardized difference between sample means), you could use that information to determine how large of a sample size you need.\n",
    "\n",
    "- Since statistical power, the significance level, the effect size and the sample size are related, it is possible to calculate any one of them for given values of the other three. \n",
    "\n",
    "$$n = \\frac{{(Z_{1-\\frac{\\alpha}{2}} + Z_{1-\\beta})^2 \\cdot 2 \\cdot \\sigma2}}{{d2}}$$\n",
    "\n",
    "- $n$ is the required sample size.\n",
    "- $Z_{1-\\frac{\\alpha}{2}}$ is the critical value for the upper tail of the standard normal distribution at significance level (\\alpha).\n",
    "- $Z_{1-\\beta}$ is the critical value for the standard normal distribution at power level (\\beta).\n",
    "- $\\sigma$ is the estimated population standard deviation (if known).\n",
    "- $d$ is the effect size.\n",
    "\n",
    "Use `statsmodels.stats.power.tt_solve_power` for one sample t-tests and `statsmodels.stats.power.tt_ind_solve_power` for a two sample t-test. \n"
   ]
  },
  {
   "cell_type": "code",
   "execution_count": 16,
   "metadata": {
    "execution": {
     "iopub.execute_input": "2024-05-11T06:39:20.571358Z",
     "iopub.status.busy": "2024-05-11T06:39:20.571011Z",
     "iopub.status.idle": "2024-05-11T06:39:20.592182Z",
     "shell.execute_reply": "2024-05-11T06:39:20.591267Z",
     "shell.execute_reply.started": "2024-05-11T06:39:20.571293Z"
    }
   },
   "outputs": [
    {
     "data": {
      "text/plain": [
       "33.3671314275208"
      ]
     },
     "execution_count": 16,
     "metadata": {},
     "output_type": "execute_result"
    }
   ],
   "source": [
    "from statsmodels.stats.power import tt_solve_power\n",
    "\n",
    "tt_solve_power(effect_size = 0.5,alpha = 0.05, power = 0.8)"
   ]
  },
  {
   "cell_type": "markdown",
   "metadata": {},
   "source": [
    "📌In this case, we would want a sample size of at least 34 to make a study with the desired power and signifiance level capable of detecting a large effect size."
   ]
  },
  {
   "cell_type": "markdown",
   "metadata": {},
   "source": [
    "### Wrap up \n",
    "The t-test is a powerful tool for investigating the differences between sample and population means. T-tests operate on numeric variables; in the next lesson, we'll discuss statistical tests for categorical variables."
   ]
  },
  {
   "cell_type": "markdown",
   "metadata": {},
   "source": [
    "### Resources: \n",
    "- https://www.youtube.com/watch?v=Rsc5znwR5FA"
   ]
  }
 ],
 "metadata": {
  "kaggle": {
   "accelerator": "none",
   "dataSources": [],
   "dockerImageVersionId": 25114,
   "isGpuEnabled": false,
   "isInternetEnabled": false,
   "language": "python",
   "sourceType": "notebook"
  },
  "kernelspec": {
   "display_name": "Python 3",
   "language": "python",
   "name": "python3"
  },
  "language_info": {
   "codemirror_mode": {
    "name": "ipython",
    "version": 3
   },
   "file_extension": ".py",
   "mimetype": "text/x-python",
   "name": "python",
   "nbconvert_exporter": "python",
   "pygments_lexer": "ipython3",
   "version": "3.6.6"
  }
 },
 "nbformat": 4,
 "nbformat_minor": 4
}
