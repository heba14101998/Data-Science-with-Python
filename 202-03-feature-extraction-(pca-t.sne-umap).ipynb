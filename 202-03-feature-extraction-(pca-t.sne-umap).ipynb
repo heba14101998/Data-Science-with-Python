{
  "cells": [
    {
      "cell_type": "markdown",
      "metadata": {
        "id": "3ekq4lRbOcvW"
      },
      "source": [
        "# A GUIDE TO DIMENSIONALITY REDUCTION  \n",
        "High-dimensional data poses significant challenges in machine learning, known as the **curse of dimensionality**. This notebook explores **PCA**, **t-SNE**, and **UMAP** as powerful techniques to reduce dimensions, improve efficiency, and uncover meaningful patterns in data.\n",
        "\n",
        "**Table of Contents**  \n",
        "\n",
        "1. **Introduction**  \n",
        "   - 1.1 The Curse of Dimensionality  \n",
        "   - 1.2 Import Needed Dependancies\n",
        "   - 1.3 Generate Syntatic Dataset\n",
        "\n",
        "2. **Principal Component Analysis (PCA)**  \n",
        "   - 2.1 What is PCA?  \n",
        "   - 2.2 Implementing PCA from Scratch  \n",
        "   - 2.3 PCA using Scikit-learn.\n",
        "\n",
        "3. **t-SNE (t-Distributed Stochastic Neighbor Embedding)**  \n",
        "   - 3.1 What is t-SNE?  \n",
        "   - 3.2 Implementing t-SNE  \n",
        "   - 3.3 t-SNE using Scikit-learn. \n",
        "\n",
        "4. **UMAP (Uniform Manifold Approximation and Projection)**  \n",
        "   - 4.1 What is UMAP?  \n",
        "   - 4.2 Implementing UMAP  \n",
        "   - 4.3 UMAP using Scikit-learn. \n",
        "\n",
        "5. **Comparing PCA, t-SNE, and UMAP**  \n"
      ]
    },
    {
      "cell_type": "markdown",
      "metadata": {},
      "source": [
        "---\n",
        "# <a id=\"1\"><div style=\"text-align: center;\">INTRODUCTION</div></a> \n",
        "\n",
        "---\n"
      ]
    },
    {
      "cell_type": "markdown",
      "metadata": {},
      "source": [
        "## 1.2 Understanding the Curse of Dimensionality \n",
        "\n",
        "The **curse of dimensionality** refers to the challenges that arise when working with high-dimensional data. As the number of features (dimensions) increases, the data becomes increasingly sparse, making it harder to extract meaningful patterns. This phenomenon impacts both computational efficiency and model performance.  \n",
        "\n",
        "1. **Data Sparsity**  \n",
        "   ![Curse of Dimensionality](https://images.deepai.org/glossary-terms/f99300ef736b4ddba8c5506066903a3d/curse-dimensionality-2.png)  \n",
        "   In the image above, as the number of dimensions grows, the data points **spread out**, leaving large empty spaces. In high dimensions, the distance between points becomes less meaningful, and algorithms struggle to identify relationships.  \n",
        "\n",
        "2. **Performance Degradation**  \n",
        "   ![Dimensionality vs Performance](https://www.visiondummy.com/wp-content/uploads/2014/04/dimensionality_vs_performance.png)  \n",
        "   The model performance is affected by dimensionality. Initially, adding features improves performance, but beyond a certain point, the curse of dimensionality kicks in. The data becomes too sparse, leading to overfitting, increased computational cost, and reduced accuracy.  \n"
      ]
    },
    {
      "cell_type": "markdown",
      "metadata": {},
      "source": [
        "## 1.2 Import Needed Dependancies"
      ]
    },
    {
      "cell_type": "code",
      "execution_count": null,
      "metadata": {},
      "outputs": [],
      "source": [
        "import numpy as np\n",
        "import pandas as pd\n",
        "import matplotlib.pyplot as plt\n",
        "\n",
        "# Set the display precision to 2 decimal places\n",
        "np.set_printoptions(precision=3)"
      ]
    },
    {
      "cell_type": "markdown",
      "metadata": {},
      "source": [
        "## 1.3 Generate Dataset"
      ]
    },
    {
      "cell_type": "code",
      "execution_count": null,
      "metadata": {},
      "outputs": [],
      "source": [
        "# Generate Sample Data\n",
        "def generate_data():\n",
        "    np.random.seed(42)\n",
        "    X = np.random.rand(100, 6)   # 100 samples, 3 features\n",
        "    X[:, 2] = X[:, 0] + X[:, 1]  # Add correlation\n",
        "    X[:, 1] = X[:, 3] + X[:, 5]  # Add correlation\n",
        "    return pd.DataFrame(X, columns=['Feature1', 'Feature2', 'Feature3', 'Feature4', 'Feature5', 'Feature6'])"
      ]
    },
    {
      "cell_type": "markdown",
      "metadata": {},
      "source": [
        "**Load Dataset**"
      ]
    },
    {
      "cell_type": "code",
      "execution_count": null,
      "metadata": {},
      "outputs": [],
      "source": [
        "data = generate_data()"
      ]
    },
    {
      "cell_type": "markdown",
      "metadata": {},
      "source": [
        "---\n",
        "# <a id=\"2\"><div style=\"text-align: center;\">PCA</div></a> \n",
        "\n",
        "---\n"
      ]
    },
    {
      "cell_type": "markdown",
      "metadata": {
        "id": "vJzwUSlCOa2P"
      },
      "source": [
        "## 2.1 What is PCA?\n",
        "\n",
        "PCA is a dimensionality reduction technique that transforms a dataset into a new coordinate system where the greatest variance lies on the first principal component (PC), the second greatest variance on the second PC, and so on.\n",
        "\n",
        "#### **PCA Steps**\n",
        "1. **Standardize the Data**: Ensure all features have a mean of 0 and a standard deviation of 1.\n",
        "2. **Compute the Covariance Matrix**: Understand the relationship between features.\n",
        "3. **Calculate Eigenvalues and Eigenvectors**: Identify the principal components.\n",
        "4. **Project the Data**: Transform the dataset to the new coordinate system.\n"
      ]
    },
    {
      "cell_type": "markdown",
      "metadata": {
        "id": "v5j01XSPU6lS"
      },
      "source": [
        "----\n",
        "## 2.2 Implement PCA from Scratch using numpy"
      ]
    },
    {
      "cell_type": "markdown",
      "metadata": {
        "id": "obe-pUXLP0NG"
      },
      "source": [
        "### [ Step1 ]: Standardize Dataset"
      ]
    },
    {
      "cell_type": "code",
      "execution_count": 56,
      "metadata": {
        "colab": {
          "base_uri": "https://localhost:8080/",
          "height": 272
        },
        "id": "bgD7fmILPx70",
        "outputId": "f012ffcc-4519-47a9-fac0-a2d16f80a0a2"
      },
      "outputs": [
        {
          "data": {
            "text/html": [
              "<div>\n",
              "<style scoped>\n",
              "    .dataframe tbody tr th:only-of-type {\n",
              "        vertical-align: middle;\n",
              "    }\n",
              "\n",
              "    .dataframe tbody tr th {\n",
              "        vertical-align: top;\n",
              "    }\n",
              "\n",
              "    .dataframe thead th {\n",
              "        text-align: right;\n",
              "    }\n",
              "</style>\n",
              "<table border=\"1\" class=\"dataframe\">\n",
              "  <thead>\n",
              "    <tr style=\"text-align: right;\">\n",
              "      <th></th>\n",
              "      <th>0</th>\n",
              "    </tr>\n",
              "  </thead>\n",
              "  <tbody>\n",
              "    <tr>\n",
              "      <th>Feature1</th>\n",
              "      <td>0.506084</td>\n",
              "    </tr>\n",
              "    <tr>\n",
              "      <th>Feature2</th>\n",
              "      <td>0.965149</td>\n",
              "    </tr>\n",
              "    <tr>\n",
              "      <th>Feature3</th>\n",
              "      <td>1.070996</td>\n",
              "    </tr>\n",
              "    <tr>\n",
              "      <th>Feature4</th>\n",
              "      <td>0.505380</td>\n",
              "    </tr>\n",
              "    <tr>\n",
              "      <th>Feature5</th>\n",
              "      <td>0.476977</td>\n",
              "    </tr>\n",
              "    <tr>\n",
              "      <th>Feature6</th>\n",
              "      <td>0.459768</td>\n",
              "    </tr>\n",
              "  </tbody>\n",
              "</table>\n",
              "</div><br><label><b>dtype:</b> float64</label>"
            ],
            "text/plain": [
              "Feature1    0.506084\n",
              "Feature2    0.965149\n",
              "Feature3    1.070996\n",
              "Feature4    0.505380\n",
              "Feature5    0.476977\n",
              "Feature6    0.459768\n",
              "dtype: float64"
            ]
          },
          "execution_count": 56,
          "metadata": {},
          "output_type": "execute_result"
        }
      ],
      "source": [
        "data_mean = np.mean(data, axis=0)\n",
        "data_mean"
      ]
    },
    {
      "cell_type": "code",
      "execution_count": 57,
      "metadata": {
        "colab": {
          "base_uri": "https://localhost:8080/",
          "height": 272
        },
        "id": "p4zOKifWP4Fh",
        "outputId": "38d627e6-e71b-42a3-b236-23b36a09a5f3"
      },
      "outputs": [
        {
          "data": {
            "text/html": [
              "<div>\n",
              "<style scoped>\n",
              "    .dataframe tbody tr th:only-of-type {\n",
              "        vertical-align: middle;\n",
              "    }\n",
              "\n",
              "    .dataframe tbody tr th {\n",
              "        vertical-align: top;\n",
              "    }\n",
              "\n",
              "    .dataframe thead th {\n",
              "        text-align: right;\n",
              "    }\n",
              "</style>\n",
              "<table border=\"1\" class=\"dataframe\">\n",
              "  <thead>\n",
              "    <tr style=\"text-align: right;\">\n",
              "      <th></th>\n",
              "      <th>0</th>\n",
              "    </tr>\n",
              "  </thead>\n",
              "  <tbody>\n",
              "    <tr>\n",
              "      <th>Feature1</th>\n",
              "      <td>0.297080</td>\n",
              "    </tr>\n",
              "    <tr>\n",
              "      <th>Feature2</th>\n",
              "      <td>0.431274</td>\n",
              "    </tr>\n",
              "    <tr>\n",
              "      <th>Feature3</th>\n",
              "      <td>0.422078</td>\n",
              "    </tr>\n",
              "    <tr>\n",
              "      <th>Feature4</th>\n",
              "      <td>0.284933</td>\n",
              "    </tr>\n",
              "    <tr>\n",
              "      <th>Feature5</th>\n",
              "      <td>0.305046</td>\n",
              "    </tr>\n",
              "    <tr>\n",
              "      <th>Feature6</th>\n",
              "      <td>0.296602</td>\n",
              "    </tr>\n",
              "  </tbody>\n",
              "</table>\n",
              "</div><br><label><b>dtype:</b> float64</label>"
            ],
            "text/plain": [
              "Feature1    0.297080\n",
              "Feature2    0.431274\n",
              "Feature3    0.422078\n",
              "Feature4    0.284933\n",
              "Feature5    0.305046\n",
              "Feature6    0.296602\n",
              "dtype: float64"
            ]
          },
          "execution_count": 57,
          "metadata": {},
          "output_type": "execute_result"
        }
      ],
      "source": [
        "data_std = np.std(data, axis=0)\n",
        "data_std"
      ]
    },
    {
      "cell_type": "code",
      "execution_count": 58,
      "metadata": {
        "colab": {
          "base_uri": "https://localhost:8080/",
          "height": 424
        },
        "id": "C_1H4peAP4IC",
        "outputId": "bf9c412b-8e0e-4fc9-f3e0-3f255ee224a4"
      },
      "outputs": [
        {
          "data": {
            "application/vnd.google.colaboratory.intrinsic+json": {
              "summary": "{\n  \"name\": \"data_standardized\",\n  \"rows\": 100,\n  \"fields\": [\n    {\n      \"column\": \"Feature1\",\n      \"properties\": {\n        \"dtype\": \"number\",\n        \"std\": 1.005037815259212,\n        \"min\": -1.684941063799225,\n        \"max\": 1.630609792950837,\n        \"num_unique_values\": 100,\n        \"samples\": [\n          1.576380804779218,\n          -1.1769464100255942,\n          0.9610047551915758\n        ],\n        \"semantic_type\": \"\",\n        \"description\": \"\"\n      }\n    },\n    {\n      \"column\": \"Feature2\",\n      \"properties\": {\n        \"dtype\": \"number\",\n        \"std\": 1.005037815259212,\n        \"min\": -2.034820491977912,\n        \"max\": 2.077271372832893,\n        \"num_unique_values\": 100,\n        \"samples\": [\n          0.8921073976401365,\n          0.06812666887483403,\n          0.18271589348088974\n        ],\n        \"semantic_type\": \"\",\n        \"description\": \"\"\n      }\n    },\n    {\n      \"column\": \"Feature3\",\n      \"properties\": {\n        \"dtype\": \"number\",\n        \"std\": 1.005037815259212,\n        \"min\": -1.8741745417579108,\n        \"max\": 2.107690972053611,\n        \"num_unique_values\": 100,\n        \"samples\": [\n          2.107690972053611,\n          -1.5739184998766362,\n          1.208784729406462\n        ],\n        \"semantic_type\": \"\",\n        \"description\": \"\"\n      }\n    },\n    {\n      \"column\": \"Feature4\",\n      \"properties\": {\n        \"dtype\": \"number\",\n        \"std\": 1.005037815259212,\n        \"min\": -1.7154660857325439,\n        \"max\": 1.7349282305550595,\n        \"num_unique_values\": 100,\n        \"samples\": [\n          0.10780203602201602,\n          0.7342644084591154,\n          -0.038464346835154366\n        ],\n        \"semantic_type\": \"\",\n        \"description\": \"\"\n      }\n    },\n    {\n      \"column\": \"Feature5\",\n      \"properties\": {\n        \"dtype\": \"number\",\n        \"std\": 1.005037815259212,\n        \"min\": -1.547033995260417,\n        \"max\": 1.703546676509282,\n        \"num_unique_values\": 100,\n        \"samples\": [\n          -0.5489338540571447,\n          0.6006312865834622,\n          -1.3749378224015223\n        ],\n        \"semantic_type\": \"\",\n        \"description\": \"\"\n      }\n    },\n    {\n      \"column\": \"Feature6\",\n      \"properties\": {\n        \"dtype\": \"number\",\n        \"std\": 1.005037815259212,\n        \"min\": -1.5135825140945722,\n        \"max\": 1.7540844275442191,\n        \"num_unique_values\": 100,\n        \"samples\": [\n          1.1936100054433552,\n          -0.6063172325401689,\n          0.3026295641391838\n        ],\n        \"semantic_type\": \"\",\n        \"description\": \"\"\n      }\n    }\n  ]\n}",
              "type": "dataframe",
              "variable_name": "data_standardized"
            },
            "text/html": [
              "\n",
              "  <div id=\"df-8d30f136-953e-4e6c-90d3-1ad6702f05c0\" class=\"colab-df-container\">\n",
              "    <div>\n",
              "<style scoped>\n",
              "    .dataframe tbody tr th:only-of-type {\n",
              "        vertical-align: middle;\n",
              "    }\n",
              "\n",
              "    .dataframe tbody tr th {\n",
              "        vertical-align: top;\n",
              "    }\n",
              "\n",
              "    .dataframe thead th {\n",
              "        text-align: right;\n",
              "    }\n",
              "</style>\n",
              "<table border=\"1\" class=\"dataframe\">\n",
              "  <thead>\n",
              "    <tr style=\"text-align: right;\">\n",
              "      <th></th>\n",
              "      <th>Feature1</th>\n",
              "      <th>Feature2</th>\n",
              "      <th>Feature3</th>\n",
              "      <th>Feature4</th>\n",
              "      <th>Feature5</th>\n",
              "      <th>Feature6</th>\n",
              "    </tr>\n",
              "  </thead>\n",
              "  <tbody>\n",
              "    <tr>\n",
              "      <th>0</th>\n",
              "      <td>-0.442790</td>\n",
              "      <td>-0.488078</td>\n",
              "      <td>0.602397</td>\n",
              "      <td>0.327370</td>\n",
              "      <td>-1.052167</td>\n",
              "      <td>-1.024182</td>\n",
              "    </tr>\n",
              "    <tr>\n",
              "      <th>1</th>\n",
              "      <td>-1.508014</td>\n",
              "      <td>1.652856</td>\n",
              "      <td>-0.347652</td>\n",
              "      <td>0.711370</td>\n",
              "      <td>-1.496147</td>\n",
              "      <td>1.719955</td>\n",
              "    </tr>\n",
              "    <tr>\n",
              "      <th>2</th>\n",
              "      <td>1.098556</td>\n",
              "      <td>-0.595880</td>\n",
              "      <td>-0.062108</td>\n",
              "      <td>-1.130006</td>\n",
              "      <td>-0.566260</td>\n",
              "      <td>0.219109</td>\n",
              "    </tr>\n",
              "    <tr>\n",
              "      <th>3</th>\n",
              "      <td>-0.249559</td>\n",
              "      <td>-1.064967</td>\n",
              "      <td>-0.824070</td>\n",
              "      <td>-1.284115</td>\n",
              "      <td>-0.605919</td>\n",
              "      <td>-0.314923</td>\n",
              "    </tr>\n",
              "    <tr>\n",
              "      <th>4</th>\n",
              "      <td>-0.168352</td>\n",
              "      <td>-0.937834</td>\n",
              "      <td>0.403362</td>\n",
              "      <td>0.031075</td>\n",
              "      <td>0.378426</td>\n",
              "      <td>-1.393513</td>\n",
              "    </tr>\n",
              "    <tr>\n",
              "      <th>...</th>\n",
              "      <td>...</td>\n",
              "      <td>...</td>\n",
              "      <td>...</td>\n",
              "      <td>...</td>\n",
              "      <td>...</td>\n",
              "      <td>...</td>\n",
              "    </tr>\n",
              "    <tr>\n",
              "      <th>95</th>\n",
              "      <td>0.026611</td>\n",
              "      <td>1.406203</td>\n",
              "      <td>0.536978</td>\n",
              "      <td>0.409594</td>\n",
              "      <td>1.263373</td>\n",
              "      <td>1.651213</td>\n",
              "    </tr>\n",
              "    <tr>\n",
              "      <th>96</th>\n",
              "      <td>-1.208465</td>\n",
              "      <td>0.633306</td>\n",
              "      <td>0.006314</td>\n",
              "      <td>-0.867348</td>\n",
              "      <td>-0.058489</td>\n",
              "      <td>1.754084</td>\n",
              "    </tr>\n",
              "    <tr>\n",
              "      <th>97</th>\n",
              "      <td>-0.045328</td>\n",
              "      <td>-1.382237</td>\n",
              "      <td>-0.591422</td>\n",
              "      <td>-0.930867</td>\n",
              "      <td>-1.314932</td>\n",
              "      <td>-1.115600</td>\n",
              "    </tr>\n",
              "    <tr>\n",
              "      <th>98</th>\n",
              "      <td>-1.272514</td>\n",
              "      <td>0.049605</td>\n",
              "      <td>-1.874175</td>\n",
              "      <td>0.475532</td>\n",
              "      <td>-0.967388</td>\n",
              "      <td>-0.384695</td>\n",
              "    </tr>\n",
              "    <tr>\n",
              "      <th>99</th>\n",
              "      <td>1.315150</td>\n",
              "      <td>-1.743578</td>\n",
              "      <td>0.710187</td>\n",
              "      <td>-1.168909</td>\n",
              "      <td>-0.933265</td>\n",
              "      <td>-1.412332</td>\n",
              "    </tr>\n",
              "  </tbody>\n",
              "</table>\n",
              "<p>100 rows × 6 columns</p>\n",
              "</div>\n",
              "    <div class=\"colab-df-buttons\">\n",
              "\n",
              "  <div class=\"colab-df-container\">\n",
              "    <button class=\"colab-df-convert\" onclick=\"convertToInteractive('df-8d30f136-953e-4e6c-90d3-1ad6702f05c0')\"\n",
              "            title=\"Convert this dataframe to an interactive table.\"\n",
              "            style=\"display:none;\">\n",
              "\n",
              "  <svg xmlns=\"http://www.w3.org/2000/svg\" height=\"24px\" viewBox=\"0 -960 960 960\">\n",
              "    <path d=\"M120-120v-720h720v720H120Zm60-500h600v-160H180v160Zm220 220h160v-160H400v160Zm0 220h160v-160H400v160ZM180-400h160v-160H180v160Zm440 0h160v-160H620v160ZM180-180h160v-160H180v160Zm440 0h160v-160H620v160Z\"/>\n",
              "  </svg>\n",
              "    </button>\n",
              "\n",
              "  <style>\n",
              "    .colab-df-container {\n",
              "      display:flex;\n",
              "      gap: 12px;\n",
              "    }\n",
              "\n",
              "    .colab-df-convert {\n",
              "      background-color: #E8F0FE;\n",
              "      border: none;\n",
              "      border-radius: 50%;\n",
              "      cursor: pointer;\n",
              "      display: none;\n",
              "      fill: #1967D2;\n",
              "      height: 32px;\n",
              "      padding: 0 0 0 0;\n",
              "      width: 32px;\n",
              "    }\n",
              "\n",
              "    .colab-df-convert:hover {\n",
              "      background-color: #E2EBFA;\n",
              "      box-shadow: 0px 1px 2px rgba(60, 64, 67, 0.3), 0px 1px 3px 1px rgba(60, 64, 67, 0.15);\n",
              "      fill: #174EA6;\n",
              "    }\n",
              "\n",
              "    .colab-df-buttons div {\n",
              "      margin-bottom: 4px;\n",
              "    }\n",
              "\n",
              "    [theme=dark] .colab-df-convert {\n",
              "      background-color: #3B4455;\n",
              "      fill: #D2E3FC;\n",
              "    }\n",
              "\n",
              "    [theme=dark] .colab-df-convert:hover {\n",
              "      background-color: #434B5C;\n",
              "      box-shadow: 0px 1px 3px 1px rgba(0, 0, 0, 0.15);\n",
              "      filter: drop-shadow(0px 1px 2px rgba(0, 0, 0, 0.3));\n",
              "      fill: #FFFFFF;\n",
              "    }\n",
              "  </style>\n",
              "\n",
              "    <script>\n",
              "      const buttonEl =\n",
              "        document.querySelector('#df-8d30f136-953e-4e6c-90d3-1ad6702f05c0 button.colab-df-convert');\n",
              "      buttonEl.style.display =\n",
              "        google.colab.kernel.accessAllowed ? 'block' : 'none';\n",
              "\n",
              "      async function convertToInteractive(key) {\n",
              "        const element = document.querySelector('#df-8d30f136-953e-4e6c-90d3-1ad6702f05c0');\n",
              "        const dataTable =\n",
              "          await google.colab.kernel.invokeFunction('convertToInteractive',\n",
              "                                                    [key], {});\n",
              "        if (!dataTable) return;\n",
              "\n",
              "        const docLinkHtml = 'Like what you see? Visit the ' +\n",
              "          '<a target=\"_blank\" href=https://colab.research.google.com/notebooks/data_table.ipynb>data table notebook</a>'\n",
              "          + ' to learn more about interactive tables.';\n",
              "        element.innerHTML = '';\n",
              "        dataTable['output_type'] = 'display_data';\n",
              "        await google.colab.output.renderOutput(dataTable, element);\n",
              "        const docLink = document.createElement('div');\n",
              "        docLink.innerHTML = docLinkHtml;\n",
              "        element.appendChild(docLink);\n",
              "      }\n",
              "    </script>\n",
              "  </div>\n",
              "\n",
              "\n",
              "<div id=\"df-7afad083-1648-463b-a420-03b093d6c4c0\">\n",
              "  <button class=\"colab-df-quickchart\" onclick=\"quickchart('df-7afad083-1648-463b-a420-03b093d6c4c0')\"\n",
              "            title=\"Suggest charts\"\n",
              "            style=\"display:none;\">\n",
              "\n",
              "<svg xmlns=\"http://www.w3.org/2000/svg\" height=\"24px\"viewBox=\"0 0 24 24\"\n",
              "     width=\"24px\">\n",
              "    <g>\n",
              "        <path d=\"M19 3H5c-1.1 0-2 .9-2 2v14c0 1.1.9 2 2 2h14c1.1 0 2-.9 2-2V5c0-1.1-.9-2-2-2zM9 17H7v-7h2v7zm4 0h-2V7h2v10zm4 0h-2v-4h2v4z\"/>\n",
              "    </g>\n",
              "</svg>\n",
              "  </button>\n",
              "\n",
              "<style>\n",
              "  .colab-df-quickchart {\n",
              "      --bg-color: #E8F0FE;\n",
              "      --fill-color: #1967D2;\n",
              "      --hover-bg-color: #E2EBFA;\n",
              "      --hover-fill-color: #174EA6;\n",
              "      --disabled-fill-color: #AAA;\n",
              "      --disabled-bg-color: #DDD;\n",
              "  }\n",
              "\n",
              "  [theme=dark] .colab-df-quickchart {\n",
              "      --bg-color: #3B4455;\n",
              "      --fill-color: #D2E3FC;\n",
              "      --hover-bg-color: #434B5C;\n",
              "      --hover-fill-color: #FFFFFF;\n",
              "      --disabled-bg-color: #3B4455;\n",
              "      --disabled-fill-color: #666;\n",
              "  }\n",
              "\n",
              "  .colab-df-quickchart {\n",
              "    background-color: var(--bg-color);\n",
              "    border: none;\n",
              "    border-radius: 50%;\n",
              "    cursor: pointer;\n",
              "    display: none;\n",
              "    fill: var(--fill-color);\n",
              "    height: 32px;\n",
              "    padding: 0;\n",
              "    width: 32px;\n",
              "  }\n",
              "\n",
              "  .colab-df-quickchart:hover {\n",
              "    background-color: var(--hover-bg-color);\n",
              "    box-shadow: 0 1px 2px rgba(60, 64, 67, 0.3), 0 1px 3px 1px rgba(60, 64, 67, 0.15);\n",
              "    fill: var(--button-hover-fill-color);\n",
              "  }\n",
              "\n",
              "  .colab-df-quickchart-complete:disabled,\n",
              "  .colab-df-quickchart-complete:disabled:hover {\n",
              "    background-color: var(--disabled-bg-color);\n",
              "    fill: var(--disabled-fill-color);\n",
              "    box-shadow: none;\n",
              "  }\n",
              "\n",
              "  .colab-df-spinner {\n",
              "    border: 2px solid var(--fill-color);\n",
              "    border-color: transparent;\n",
              "    border-bottom-color: var(--fill-color);\n",
              "    animation:\n",
              "      spin 1s steps(1) infinite;\n",
              "  }\n",
              "\n",
              "  @keyframes spin {\n",
              "    0% {\n",
              "      border-color: transparent;\n",
              "      border-bottom-color: var(--fill-color);\n",
              "      border-left-color: var(--fill-color);\n",
              "    }\n",
              "    20% {\n",
              "      border-color: transparent;\n",
              "      border-left-color: var(--fill-color);\n",
              "      border-top-color: var(--fill-color);\n",
              "    }\n",
              "    30% {\n",
              "      border-color: transparent;\n",
              "      border-left-color: var(--fill-color);\n",
              "      border-top-color: var(--fill-color);\n",
              "      border-right-color: var(--fill-color);\n",
              "    }\n",
              "    40% {\n",
              "      border-color: transparent;\n",
              "      border-right-color: var(--fill-color);\n",
              "      border-top-color: var(--fill-color);\n",
              "    }\n",
              "    60% {\n",
              "      border-color: transparent;\n",
              "      border-right-color: var(--fill-color);\n",
              "    }\n",
              "    80% {\n",
              "      border-color: transparent;\n",
              "      border-right-color: var(--fill-color);\n",
              "      border-bottom-color: var(--fill-color);\n",
              "    }\n",
              "    90% {\n",
              "      border-color: transparent;\n",
              "      border-bottom-color: var(--fill-color);\n",
              "    }\n",
              "  }\n",
              "</style>\n",
              "\n",
              "  <script>\n",
              "    async function quickchart(key) {\n",
              "      const quickchartButtonEl =\n",
              "        document.querySelector('#' + key + ' button');\n",
              "      quickchartButtonEl.disabled = true;  // To prevent multiple clicks.\n",
              "      quickchartButtonEl.classList.add('colab-df-spinner');\n",
              "      try {\n",
              "        const charts = await google.colab.kernel.invokeFunction(\n",
              "            'suggestCharts', [key], {});\n",
              "      } catch (error) {\n",
              "        console.error('Error during call to suggestCharts:', error);\n",
              "      }\n",
              "      quickchartButtonEl.classList.remove('colab-df-spinner');\n",
              "      quickchartButtonEl.classList.add('colab-df-quickchart-complete');\n",
              "    }\n",
              "    (() => {\n",
              "      let quickchartButtonEl =\n",
              "        document.querySelector('#df-7afad083-1648-463b-a420-03b093d6c4c0 button');\n",
              "      quickchartButtonEl.style.display =\n",
              "        google.colab.kernel.accessAllowed ? 'block' : 'none';\n",
              "    })();\n",
              "  </script>\n",
              "</div>\n",
              "\n",
              "  <div id=\"id_84f5c9cb-4e4b-43c0-be29-8feeda8a1707\">\n",
              "    <style>\n",
              "      .colab-df-generate {\n",
              "        background-color: #E8F0FE;\n",
              "        border: none;\n",
              "        border-radius: 50%;\n",
              "        cursor: pointer;\n",
              "        display: none;\n",
              "        fill: #1967D2;\n",
              "        height: 32px;\n",
              "        padding: 0 0 0 0;\n",
              "        width: 32px;\n",
              "      }\n",
              "\n",
              "      .colab-df-generate:hover {\n",
              "        background-color: #E2EBFA;\n",
              "        box-shadow: 0px 1px 2px rgba(60, 64, 67, 0.3), 0px 1px 3px 1px rgba(60, 64, 67, 0.15);\n",
              "        fill: #174EA6;\n",
              "      }\n",
              "\n",
              "      [theme=dark] .colab-df-generate {\n",
              "        background-color: #3B4455;\n",
              "        fill: #D2E3FC;\n",
              "      }\n",
              "\n",
              "      [theme=dark] .colab-df-generate:hover {\n",
              "        background-color: #434B5C;\n",
              "        box-shadow: 0px 1px 3px 1px rgba(0, 0, 0, 0.15);\n",
              "        filter: drop-shadow(0px 1px 2px rgba(0, 0, 0, 0.3));\n",
              "        fill: #FFFFFF;\n",
              "      }\n",
              "    </style>\n",
              "    <button class=\"colab-df-generate\" onclick=\"generateWithVariable('data_standardized')\"\n",
              "            title=\"Generate code using this dataframe.\"\n",
              "            style=\"display:none;\">\n",
              "\n",
              "  <svg xmlns=\"http://www.w3.org/2000/svg\" height=\"24px\"viewBox=\"0 0 24 24\"\n",
              "       width=\"24px\">\n",
              "    <path d=\"M7,19H8.4L18.45,9,17,7.55,7,17.6ZM5,21V16.75L18.45,3.32a2,2,0,0,1,2.83,0l1.4,1.43a1.91,1.91,0,0,1,.58,1.4,1.91,1.91,0,0,1-.58,1.4L9.25,21ZM18.45,9,17,7.55Zm-12,3A5.31,5.31,0,0,0,4.9,8.1,5.31,5.31,0,0,0,1,6.5,5.31,5.31,0,0,0,4.9,4.9,5.31,5.31,0,0,0,6.5,1,5.31,5.31,0,0,0,8.1,4.9,5.31,5.31,0,0,0,12,6.5,5.46,5.46,0,0,0,6.5,12Z\"/>\n",
              "  </svg>\n",
              "    </button>\n",
              "    <script>\n",
              "      (() => {\n",
              "      const buttonEl =\n",
              "        document.querySelector('#id_84f5c9cb-4e4b-43c0-be29-8feeda8a1707 button.colab-df-generate');\n",
              "      buttonEl.style.display =\n",
              "        google.colab.kernel.accessAllowed ? 'block' : 'none';\n",
              "\n",
              "      buttonEl.onclick = () => {\n",
              "        google.colab.notebook.generateWithVariable('data_standardized');\n",
              "      }\n",
              "      })();\n",
              "    </script>\n",
              "  </div>\n",
              "\n",
              "    </div>\n",
              "  </div>\n"
            ],
            "text/plain": [
              "    Feature1  Feature2  Feature3  Feature4  Feature5  Feature6\n",
              "0  -0.442790 -0.488078  0.602397  0.327370 -1.052167 -1.024182\n",
              "1  -1.508014  1.652856 -0.347652  0.711370 -1.496147  1.719955\n",
              "2   1.098556 -0.595880 -0.062108 -1.130006 -0.566260  0.219109\n",
              "3  -0.249559 -1.064967 -0.824070 -1.284115 -0.605919 -0.314923\n",
              "4  -0.168352 -0.937834  0.403362  0.031075  0.378426 -1.393513\n",
              "..       ...       ...       ...       ...       ...       ...\n",
              "95  0.026611  1.406203  0.536978  0.409594  1.263373  1.651213\n",
              "96 -1.208465  0.633306  0.006314 -0.867348 -0.058489  1.754084\n",
              "97 -0.045328 -1.382237 -0.591422 -0.930867 -1.314932 -1.115600\n",
              "98 -1.272514  0.049605 -1.874175  0.475532 -0.967388 -0.384695\n",
              "99  1.315150 -1.743578  0.710187 -1.168909 -0.933265 -1.412332\n",
              "\n",
              "[100 rows x 6 columns]"
            ]
          },
          "execution_count": 58,
          "metadata": {},
          "output_type": "execute_result"
        }
      ],
      "source": [
        "data_standardized = (data - data_mean) / data_std\n",
        "data_standardized"
      ]
    },
    {
      "cell_type": "markdown",
      "metadata": {
        "id": "KcVG_bTEQjKL"
      },
      "source": [
        "### [ Step 2 ]: Compute Covariance Matrix"
      ]
    },
    {
      "cell_type": "code",
      "execution_count": 59,
      "metadata": {
        "colab": {
          "base_uri": "https://localhost:8080/"
        },
        "id": "uQQLPtO5P9ij",
        "outputId": "ff6bf2ac-6262-4f4b-d62d-8c1044ddd59e"
      },
      "outputs": [
        {
          "name": "stdout",
          "output_type": "stream",
          "text": [
            "[[ 1.01   0.05   0.741 -0.01  -0.165  0.083]\n",
            " [ 0.05   1.01  -0.029  0.737  0.106  0.761]\n",
            " [ 0.741 -0.029  1.01  -0.077 -0.155  0.032]\n",
            " [-0.01   0.737 -0.077  1.01   0.114  0.101]\n",
            " [-0.165  0.106 -0.155  0.114  1.01   0.045]\n",
            " [ 0.083  0.761  0.032  0.101  0.045  1.01 ]]\n"
          ]
        }
      ],
      "source": [
        "cov_matrix = np.cov(data_standardized, rowvar=False)\n",
        "print(cov_matrix)"
      ]
    },
    {
      "cell_type": "markdown",
      "metadata": {
        "id": "mbZUETtURGFJ"
      },
      "source": [
        "### [ Step 3 ]: Calculate Eigenvalues and Eigenvectors\n"
      ]
    },
    {
      "cell_type": "code",
      "execution_count": 60,
      "metadata": {
        "colab": {
          "base_uri": "https://localhost:8080/"
        },
        "id": "ifcTNfIdP9gI",
        "outputId": "3b9e9d53-4e3a-4dbf-fb93-e54baf390153"
      },
      "outputs": [
        {
          "name": "stdout",
          "output_type": "stream",
          "text": [
            "Eigenvalues: \n",
            "\n",
            "[ 1.827e+00  2.145e+00  2.648e-01  9.377e-01  8.859e-01 -6.802e-16]\n",
            "Eigenvectors: \n",
            "\n",
            "[[-6.787e-01  9.285e-03  7.081e-01  1.946e-01 -6.053e-03 -5.038e-16]\n",
            " [-4.566e-02  6.824e-01 -3.120e-02 -7.942e-02 -3.535e-02 -7.237e-01]\n",
            " [-6.733e-01 -5.042e-02 -7.043e-01  2.175e-01  2.942e-02  4.004e-16]\n",
            " [ 5.292e-02  5.050e-01 -3.362e-02  2.622e-01 -6.661e-01  4.781e-01]\n",
            " [ 2.595e-01  1.396e-01  2.018e-02  8.396e-01  4.559e-01 -1.067e-17]\n",
            " [-1.172e-01  5.071e-01 -1.307e-02 -3.673e-01  5.885e-01  4.977e-01]]\n"
          ]
        }
      ],
      "source": [
        "# Calculate Eigenvalues and Eigenvectors\n",
        "eigenvalues, eigenvectors = np.linalg.eig(cov_matrix)\n",
        "print(\"Eigenvalues: \\n\")\n",
        "print(eigenvalues)\n",
        "print(\"Eigenvectors: \\n\")\n",
        "print(eigenvectors)"
      ]
    },
    {
      "cell_type": "markdown",
      "metadata": {
        "id": "RAO6IZlqS-7-"
      },
      "source": [
        "### [ Step 4 ]: Select Principal Components (2 PCs)"
      ]
    },
    {
      "cell_type": "code",
      "execution_count": 62,
      "metadata": {
        "colab": {
          "base_uri": "https://localhost:8080/"
        },
        "id": "Gi16ZpcTReDQ",
        "outputId": "ae598135-5b56-4d2f-8849-ea56b6dfd9c6"
      },
      "outputs": [
        {
          "name": "stdout",
          "output_type": "stream",
          "text": [
            "Eigenvalues: \n",
            "\n",
            "[ 2.145e+00  1.827e+00  9.377e-01  8.859e-01  2.648e-01 -6.802e-16]\n",
            "Eigenvectors: \n",
            "\n",
            "[[ 9.285e-03 -6.787e-01  1.946e-01 -6.053e-03  7.081e-01 -5.038e-16]\n",
            " [ 6.824e-01 -4.566e-02 -7.942e-02 -3.535e-02 -3.120e-02 -7.237e-01]\n",
            " [-5.042e-02 -6.733e-01  2.175e-01  2.942e-02 -7.043e-01  4.004e-16]\n",
            " [ 5.050e-01  5.292e-02  2.622e-01 -6.661e-01 -3.362e-02  4.781e-01]\n",
            " [ 1.396e-01  2.595e-01  8.396e-01  4.559e-01  2.018e-02 -1.067e-17]\n",
            " [ 5.071e-01 -1.172e-01 -3.673e-01  5.885e-01 -1.307e-02  4.977e-01]]\n"
          ]
        }
      ],
      "source": [
        "# To sort eigenvalues and eigenvectors in ascending order\n",
        "sorted_indices = np.argsort(eigenvalues)\n",
        "\n",
        "# But we need to sort eigenvalues and eigenvectors in descending order\n",
        "sorted_indices = np.argsort(eigenvalues)[::-1]\n",
        "\n",
        "# Apply the sort\n",
        "eigenvalues = eigenvalues[sorted_indices]\n",
        "eigenvectors = eigenvectors[:, sorted_indices]\n",
        "\n",
        "print(\"Eigenvalues: \\n\")\n",
        "print(eigenvalues)\n",
        "print(\"Eigenvectors: \\n\")\n",
        "print(eigenvectors)"
      ]
    },
    {
      "cell_type": "code",
      "execution_count": 63,
      "metadata": {
        "colab": {
          "base_uri": "https://localhost:8080/"
        },
        "id": "NLDe4T68S9eu",
        "outputId": "39a52f1e-d3dd-4986-9744-7be257d8e06c"
      },
      "outputs": [
        {
          "data": {
            "text/plain": [
              "array([[ 0.009, -0.679],\n",
              "       [ 0.682, -0.046],\n",
              "       [-0.05 , -0.673],\n",
              "       [ 0.505,  0.053],\n",
              "       [ 0.14 ,  0.26 ],\n",
              "       [ 0.507, -0.117]])"
            ]
          },
          "execution_count": 63,
          "metadata": {},
          "output_type": "execute_result"
        }
      ],
      "source": [
        "n_components = 2\n",
        "eigenvectors_reduced = eigenvectors[:, :n_components]\n",
        "eigenvectors_reduced"
      ]
    },
    {
      "cell_type": "code",
      "execution_count": 72,
      "metadata": {
        "colab": {
          "base_uri": "https://localhost:8080/"
        },
        "id": "JFs_STlXVtlY",
        "outputId": "f655b277-ab0d-4eb9-aac3-be7ac4a2f855"
      },
      "outputs": [
        {
          "data": {
            "text/plain": [
              "array([0.354, 0.301])"
            ]
          },
          "execution_count": 72,
          "metadata": {},
          "output_type": "execute_result"
        }
      ],
      "source": [
        "explained_variance_ratio = eigenvalues[:n_components] / np.sum(eigenvalues)\n",
        "explained_variance_ratio"
      ]
    },
    {
      "cell_type": "markdown",
      "metadata": {
        "id": "GiPl9pW-UWTP"
      },
      "source": [
        "### [ Step 5 ]: Project Data"
      ]
    },
    {
      "cell_type": "code",
      "execution_count": 65,
      "metadata": {
        "id": "s6kO2ak0S9cV"
      },
      "outputs": [],
      "source": [
        "projected_data = np.dot(data_standardized, eigenvectors_reduced)"
      ]
    },
    {
      "cell_type": "code",
      "execution_count": 68,
      "metadata": {
        "id": "04hB1nx7UeqV"
      },
      "outputs": [],
      "source": [
        "pca_df = pd.DataFrame(projected_data, columns=[f'PC{i+1}' for i in range(n_components)])"
      ]
    },
    {
      "cell_type": "markdown",
      "metadata": {
        "id": "d2gk8wLGUzca"
      },
      "source": [
        "----\n",
        "## 2.3 Apply PCA using SKlearn"
      ]
    },
    {
      "cell_type": "code",
      "execution_count": 78,
      "metadata": {
        "id": "Hb0r_VPyWNIX"
      },
      "outputs": [],
      "source": [
        "from sklearn.preprocessing import StandardScaler\n",
        "from sklearn.decomposition import PCA"
      ]
    },
    {
      "cell_type": "markdown",
      "metadata": {
        "id": "E2zXEVz-VVXW"
      },
      "source": [
        "### [ step 1]: Load and Standardize Data"
      ]
    },
    {
      "cell_type": "code",
      "execution_count": 79,
      "metadata": {
        "id": "NEKNg6ZoVTlc"
      },
      "outputs": [],
      "source": [
        "data = generate_data()"
      ]
    },
    {
      "cell_type": "code",
      "execution_count": 80,
      "metadata": {
        "id": "k2tc5wDaValj"
      },
      "outputs": [],
      "source": [
        "scaler = StandardScaler()\n",
        "data_scaled = scaler.fit_transform(data)"
      ]
    },
    {
      "cell_type": "markdown",
      "metadata": {
        "id": "lJkKEfX4VbpT"
      },
      "source": [
        "### [ Step 2 ]: Apply PCA"
      ]
    },
    {
      "cell_type": "code",
      "execution_count": 81,
      "metadata": {
        "id": "T6vpoD6cVehF"
      },
      "outputs": [],
      "source": [
        "pca = PCA(n_components=2)  # Reduce to 2 principal components\n",
        "principal_components = pca.fit_transform(data_scaled)\n",
        "pca_df = pd.DataFrame(principal_components, columns=['PC1', 'PC2'])\n",
        "pca_df"
      ]
    },
    {
      "cell_type": "code",
      "execution_count": 82,
      "metadata": {
        "id": "AGqbuA3eVlh3"
      },
      "outputs": [],
      "source": [
        "# Explained Variance\n",
        "explained_variance = pca.explained_variance_ratio_"
      ]
    }
  ],
  "metadata": {
    "colab": {
      "provenance": []
    },
    "kernelspec": {
      "display_name": "Python 3",
      "name": "python3"
    },
    "language_info": {
      "name": "python"
    }
  },
  "nbformat": 4,
  "nbformat_minor": 0
}
